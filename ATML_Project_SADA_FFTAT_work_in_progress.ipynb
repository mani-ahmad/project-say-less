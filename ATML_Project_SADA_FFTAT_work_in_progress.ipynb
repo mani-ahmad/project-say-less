{
  "cells": [
    {
      "cell_type": "markdown",
      "source": [
        "## Prepare Notebook"
      ],
      "metadata": {
        "id": "dJgG9xdDkBwv"
      }
    },
    {
      "cell_type": "code",
      "source": [
        "from google.colab import drive\n",
        "drive.mount('/content/drive')"
      ],
      "metadata": {
        "colab": {
          "base_uri": "https://localhost:8080/"
        },
        "id": "dn4bkckjj-md",
        "outputId": "e53b108a-0e41-4d76-9602-7b4f6d763c6c"
      },
      "execution_count": null,
      "outputs": [
        {
          "output_type": "stream",
          "name": "stdout",
          "text": [
            "Mounted at /content/drive\n"
          ]
        }
      ]
    },
    {
      "cell_type": "code",
      "execution_count": null,
      "metadata": {
        "collapsed": true,
        "id": "Z75mnFTp_ztC"
      },
      "outputs": [],
      "source": [
        "# !pip install datasets"
      ]
    },
    {
      "cell_type": "code",
      "execution_count": null,
      "metadata": {
        "id": "TIbI4UQ3_rn-"
      },
      "outputs": [],
      "source": [
        "# --------------------- Imports ------------------------- #\n",
        "\n",
        "# PyTorch\n",
        "import torch\n",
        "import torch.nn as nn\n",
        "import torch.nn.functional as F\n",
        "import torch.optim as optim\n",
        "import torchvision\n",
        "from torch.utils.data import DataLoader\n",
        "from torch.utils.data.dataset import Dataset\n",
        "from torchvision import datasets, transforms, models\n",
        "from torchvision.transforms import ToTensor\n",
        "from torchvision.datasets import ImageFolder\n",
        "from torchvision.models import vit_b_16\n",
        "import sys\n",
        "\n",
        "# Datasets\n",
        "# from datasets import load_dataset\n",
        "import kagglehub\n",
        "\n",
        "# Extra\n",
        "import os\n",
        "from copy import deepcopy\n",
        "from PIL import Image\n",
        "import matplotlib.pyplot as plt\n",
        "import timm"
      ]
    },
    {
      "cell_type": "markdown",
      "metadata": {
        "id": "spAb68AuAgn6"
      },
      "source": [
        "## Office-31"
      ]
    },
    {
      "cell_type": "code",
      "execution_count": null,
      "metadata": {
        "id": "NnwP93vyAIgb"
      },
      "outputs": [],
      "source": [
        "def Office31(domain, transform):\n",
        "    path = kagglehub.dataset_download(\"xixuhu/office31\")\n",
        "    path = os.path.join(os.path.join(path, \"Office-31\"), domain)\n",
        "    return datasets.ImageFolder(root=path, transform=transform)\n",
        "\n",
        "def get_office_data_loaders(batch_size):\n",
        "\n",
        "    transform = transforms.Compose([\n",
        "        transforms.Resize((224, 224)),\n",
        "        transforms.ToTensor(),\n",
        "        transforms.Normalize(mean=[0.5, 0.5, 0.5], std=[0.5, 0.5, 0.5]),\n",
        "    ])\n",
        "\n",
        "    amazon_data = Office31(\"amazon\", transform)\n",
        "    dslr_data = Office31(\"dslr\", transform)\n",
        "    webcam_data = Office31(\"webcam\", transform)\n",
        "\n",
        "    loader_amazon = DataLoader(amazon_data, batch_size=batch_size, shuffle=True)\n",
        "    loader_dslr = DataLoader(dslr_data, batch_size=batch_size, shuffle=True)\n",
        "    loader_webcam = DataLoader(webcam_data, batch_size=batch_size, shuffle=True)\n",
        "\n",
        "    return loader_amazon, loader_dslr, loader_webcam"
      ]
    },
    {
      "cell_type": "markdown",
      "metadata": {
        "id": "QXWb4KN2AlBd"
      },
      "source": [
        "## Pacs"
      ]
    },
    {
      "cell_type": "code",
      "execution_count": null,
      "metadata": {
        "id": "-KbFM2fmAmor"
      },
      "outputs": [],
      "source": []
    },
    {
      "cell_type": "code",
      "execution_count": null,
      "metadata": {
        "id": "Py4n_wFMBSYn"
      },
      "outputs": [],
      "source": []
    },
    {
      "cell_type": "markdown",
      "metadata": {
        "id": "wp0Ewd14AnBj"
      },
      "source": [
        "## Model Cards"
      ]
    },
    {
      "cell_type": "code",
      "execution_count": null,
      "metadata": {
        "id": "Hr4oJ4dfApKH"
      },
      "outputs": [],
      "source": [
        "class ResNetFeatureExtractor(nn.Module):\n",
        "    def __init__(self, pretrained=True):\n",
        "        super().__init__()\n",
        "        base_model = torchvision.models.resnet50(pretrained=pretrained)\n",
        "        self.conv1 = base_model.conv1\n",
        "        self.bn1 = base_model.bn1\n",
        "        self.relu = base_model.relu\n",
        "        self.maxpool = base_model.maxpool\n",
        "        self.layer1 = base_model.layer1\n",
        "        self.layer2 = base_model.layer2\n",
        "        self.layer3 = base_model.layer3\n",
        "        self.layer4 = base_model.layer4\n",
        "\n",
        "    def forward(self, x):\n",
        "        x = self.conv1(x)\n",
        "        x = self.bn1(x)\n",
        "        x = self.relu(x)\n",
        "        x = self.maxpool(x)\n",
        "\n",
        "        f_block1 = self.layer1(x)\n",
        "        f_block2 = self.layer2(f_block1)\n",
        "        f_block3 = self.layer3(f_block2)\n",
        "        f_block4 = self.layer4(f_block3)\n",
        "\n",
        "        return f_block2, f_block3, f_block4\n",
        "\n",
        "class VitBasicFeatureExtractor(nn.Module):\n",
        "\n",
        "    def __init__(self, pretrained=True, layers=[4, 8, 12]):\n",
        "        super().__init__()\n",
        "\n",
        "        # self.model = timm.create_model('vit_base_patch16_224.sam_in1k', pretrained=pretrained, features_only=True)\n",
        "        self.model = timm.create_model('vit_base_patch16_224', pretrained=pretrained, features_only=True)\n",
        "        self.avgpool = nn.AdaptiveAvgPool2d((1, 1))\n",
        "\n",
        "    def forward(self, x):\n",
        "\n",
        "        features = self.model(x)\n",
        "        pooled_features = []\n",
        "        for feature in features:\n",
        "            pooled = self.avgpool(feature)\n",
        "            pooled = pooled.view(pooled.size(0), -1)\n",
        "            pooled_features.append(pooled)\n",
        "\n",
        "        return tuple(pooled_features)\n"
      ]
    },
    {
      "cell_type": "code",
      "execution_count": null,
      "metadata": {
        "colab": {
          "base_uri": "https://localhost:8080/",
          "height": 205,
          "referenced_widgets": [
            "bfde0c85bf6c4f0aba6a18d2e4eda9ad",
            "8ca959ba66214ed8a4fe91c50c35e548",
            "3287b2a0b9b5493fbb5f9540a3a3e96d",
            "8ce7272ca74243cc8be149aa04170ee9",
            "3e88a1197b40464194d3ed9d663044db",
            "3bb8b4d824834b15acfdf0e31e0b8251",
            "75b9c2478b9f4624956e0e16ea3ad41c",
            "f7a71fccecd241f38b53f0df419ef6ea",
            "f07ee231604f420baf29f0ee9637106d",
            "f6194df65fae468f94f82b95d0de97a9",
            "c530f64abe6b46778a883ce53a424dac"
          ]
        },
        "id": "tLUNKNb9BWZp",
        "outputId": "1635339d-3644-4821-d022-ff214fc3c8b8"
      },
      "outputs": [
        {
          "output_type": "stream",
          "name": "stderr",
          "text": [
            "/usr/local/lib/python3.10/dist-packages/huggingface_hub/utils/_auth.py:94: UserWarning: \n",
            "The secret `HF_TOKEN` does not exist in your Colab secrets.\n",
            "To authenticate with the Hugging Face Hub, create a token in your settings tab (https://huggingface.co/settings/tokens), set it as secret in your Google Colab and restart your session.\n",
            "You will be able to reuse this secret in all of your notebooks.\n",
            "Please note that authentication is recommended but still optional to access public models or datasets.\n",
            "  warnings.warn(\n"
          ]
        },
        {
          "output_type": "display_data",
          "data": {
            "text/plain": [
              "model.safetensors:   0%|          | 0.00/346M [00:00<?, ?B/s]"
            ],
            "application/vnd.jupyter.widget-view+json": {
              "version_major": 2,
              "version_minor": 0,
              "model_id": "bfde0c85bf6c4f0aba6a18d2e4eda9ad"
            }
          },
          "metadata": {}
        },
        {
          "output_type": "stream",
          "name": "stdout",
          "text": [
            "torch.Size([16, 768])\n",
            "torch.Size([16, 768])\n",
            "torch.Size([16, 768])\n"
          ]
        }
      ],
      "source": [
        "model = VitBasicFeatureExtractor(pretrained=True)\n",
        "\n",
        "input = torch.randn(16, 3, 224, 224)\n",
        "output = model(input)\n",
        "\n",
        "for out in output:\n",
        "    print(out.shape)"
      ]
    },
    {
      "cell_type": "code",
      "execution_count": null,
      "metadata": {
        "id": "HLNY65W8AskS"
      },
      "outputs": [],
      "source": [
        "import torch\n",
        "import torch.nn as nn\n",
        "import torch.nn.init as init\n",
        "\n",
        "class SparseAutoencoder(nn.Module):\n",
        "\n",
        "    def __init__(self, input_dim=2048, hidden_dim=1024, latent_dim=768, dropout_rate=0.3):\n",
        "        super(SparseAutoencoder, self).__init__()\n",
        "\n",
        "        self.encoder = nn.Sequential(\n",
        "            nn.Linear(input_dim, hidden_dim),\n",
        "            nn.LayerNorm(hidden_dim),\n",
        "            nn.ReLU(inplace=True),\n",
        "            nn.Dropout(dropout_rate),\n",
        "\n",
        "            nn.Linear(hidden_dim, hidden_dim),\n",
        "            nn.LayerNorm(hidden_dim),\n",
        "            nn.ReLU(inplace=True),\n",
        "            nn.Dropout(dropout_rate),\n",
        "\n",
        "            nn.Linear(hidden_dim, hidden_dim),\n",
        "            nn.LayerNorm(hidden_dim),\n",
        "            nn.ReLU(inplace=True),\n",
        "            nn.Dropout(dropout_rate),\n",
        "\n",
        "            nn.Linear(hidden_dim, latent_dim),\n",
        "            nn.LayerNorm(latent_dim),\n",
        "            nn.ReLU(inplace=True)\n",
        "        )\n",
        "\n",
        "        self.decoder = nn.Sequential(\n",
        "            nn.Linear(latent_dim, hidden_dim),\n",
        "            nn.LayerNorm(hidden_dim),\n",
        "            nn.ReLU(inplace=True),\n",
        "            nn.Dropout(dropout_rate),\n",
        "\n",
        "            nn.Linear(hidden_dim, hidden_dim),\n",
        "            nn.LayerNorm(hidden_dim),\n",
        "            nn.ReLU(inplace=True),\n",
        "            nn.Dropout(dropout_rate),\n",
        "\n",
        "            nn.Linear(hidden_dim, hidden_dim),\n",
        "            nn.LayerNorm(hidden_dim),\n",
        "            nn.ReLU(inplace=True),\n",
        "            nn.Dropout(dropout_rate),\n",
        "\n",
        "            nn.Linear(hidden_dim, input_dim),\n",
        "            nn.Sigmoid()\n",
        "        )\n",
        "\n",
        "        # Initialize weights\n",
        "        self._initialize_weights()\n",
        "\n",
        "    def _initialize_weights(self):\n",
        "        for m in self.modules():\n",
        "            if isinstance(m, nn.Linear):\n",
        "                # Kaiming initialization for layers followed by ReLU\n",
        "                init.kaiming_uniform_(m.weight, a=0, nonlinearity='relu')\n",
        "                if m.bias is not None:\n",
        "                    init.zeros_(m.bias)\n",
        "            elif isinstance(m, nn.LayerNorm):\n",
        "                # Initialize LayerNorm with weight=1 and bias=0\n",
        "                init.ones_(m.weight)\n",
        "                init.zeros_(m.bias)\n",
        "\n",
        "    def forward(self, x):\n",
        "        z = self.encoder(x)\n",
        "        x_recon = self.decoder(z)\n",
        "        return x_recon, z\n"
      ]
    },
    {
      "cell_type": "code",
      "execution_count": null,
      "metadata": {
        "id": "Xjm7SG84A22J"
      },
      "outputs": [],
      "source": [
        "class BaselineModel(nn.Module):\n",
        "    def __init__(self, feature_extractor, num_classes=7):\n",
        "\n",
        "        super().__init__()\n",
        "        self.feature_extractor = feature_extractor\n",
        "        self.avgpool = nn.AdaptiveAvgPool2d((1, 1))\n",
        "\n",
        "        self.classifier = nn.Linear(768, num_classes)\n",
        "\n",
        "    def forward(self, x):\n",
        "        _, _, f4 = self.feature_extractor(x)\n",
        "        logits = self.classifier(f4)\n",
        "        return logits, f4"
      ]
    },
    {
      "cell_type": "code",
      "execution_count": null,
      "metadata": {
        "id": "_rLwmFZIPLrv"
      },
      "outputs": [],
      "source": [
        "class AttentionAggregator(nn.Module):\n",
        "\n",
        "    def __init__(self, embed_dim=768, num_heads=4, num_layers=1):\n",
        "        super().__init__()\n",
        "        encoder_layer = nn.TransformerEncoderLayer(\n",
        "            d_model=embed_dim,\n",
        "            nhead=num_heads,\n",
        "            dim_feedforward=embed_dim*4,\n",
        "            dropout=0.1,\n",
        "            activation='relu'\n",
        "        )\n",
        "        self.transformer_encoder = nn.TransformerEncoder(encoder_layer, num_layers=num_layers)\n",
        "\n",
        "        self.norm = nn.LayerNorm(embed_dim)\n",
        "\n",
        "    def forward(self, z_list):\n",
        "\n",
        "        z_seq = torch.stack(z_list, dim=1)\n",
        "\n",
        "        z_seq = z_seq.transpose(0, 1)\n",
        "\n",
        "        attn_out = self.transformer_encoder(z_seq)\n",
        "\n",
        "        attn_out = attn_out.transpose(0, 1)\n",
        "        attn_out = self.norm(attn_out)\n",
        "\n",
        "        # out = attn_out.reshape(attn_out.size(0), -1)  # (B, 3*embed_dim)\n",
        "        out = torch.mean(attn_out, dim=1)\n",
        "\n",
        "        return out"
      ]
    },
    {
      "cell_type": "code",
      "execution_count": null,
      "metadata": {
        "id": "vPzvfhWjQi7s"
      },
      "outputs": [],
      "source": [
        "class GatingAggregator(nn.Module):\n",
        "\n",
        "    def __init__(self, embed_dim=768, num_input=3):\n",
        "        super().__init__()\n",
        "        self.alpha = nn.Parameter(torch.ones(num_input))\n",
        "\n",
        "    def forward(self, z_list):\n",
        "        alpha = torch.sigmoid(self.alpha)\n",
        "        z_stack = torch.stack(z_list, dim=2)\n",
        "        alpha_reshaped = alpha.view(1, 1, -1)\n",
        "        z_gated = (z_stack * alpha_reshaped).sum(dim=2)\n",
        "        return z_gated"
      ]
    },
    {
      "cell_type": "code",
      "source": [],
      "metadata": {
        "id": "uQg0PnE0myeh"
      },
      "execution_count": null,
      "outputs": []
    },
    {
      "cell_type": "code",
      "execution_count": null,
      "metadata": {
        "id": "U-dyfxWWA3SC"
      },
      "outputs": [],
      "source": [
        "class UnifiedModelMultiBlockSAE(nn.Module):\n",
        "    def __init__(self,\n",
        "                 sae_dim_block2=128,\n",
        "                 sae_dim_block3=256,\n",
        "                 sae_dim_block4=256,\n",
        "                 num_classes=31):\n",
        "        super().__init__()\n",
        "\n",
        "        self.feature_extractor = VitBasicFeatureExtractor(pretrained=True)\n",
        "\n",
        "        self.sae2 = SparseAutoencoder(input_dim=768, latent_dim=768)\n",
        "        self.sae3 = SparseAutoencoder(input_dim=768, latent_dim=768)\n",
        "        self.sae4 = SparseAutoencoder(input_dim=768, latent_dim=768)\n",
        "\n",
        "        # self.attention_aggregator = AttentionAggregator(embed_dim=768, num_heads=12, num_layers=3)\n",
        "        self.gating_aggregator = GatingAggregator(embed_dim=768, num_input=2)\n",
        "\n",
        "        self.classifier = nn.Sequential(\n",
        "            nn.Linear(768, num_classes)\n",
        "        )\n",
        "\n",
        "    def forward(self, x):\n",
        "        _, _, f4 = self.feature_extractor(x)\n",
        "\n",
        "        # x_recon2, z2 = self.sae2(f2)\n",
        "        # x_recon3, z3 = self.sae3(f3)\n",
        "        x_recon4, z4 = self.sae4(f4)\n",
        "\n",
        "\n",
        "        # attn_out = self.attention_aggregator([z2, z3, z4])\n",
        "        # attn_out = self.gating_aggregator([z2, z3, z4])\n",
        "        # attn_out = self.gating_aggregator([z4])\n",
        "\n",
        "        class_logits = self.classifier(z4)\n",
        "\n",
        "        return (class_logits,\n",
        "                (x_recon4, z4),\n",
        "                (f4))"
      ]
    },
    {
      "cell_type": "code",
      "source": [
        "class UnifiedModelMultiBlockSAE_FFTAT(nn.Module):\n",
        "    def __init__(self,\n",
        "                 sae_dim_block2=128,\n",
        "                 sae_dim_block3=256,\n",
        "                 sae_dim_block4=256,\n",
        "                 num_classes=31):\n",
        "        super().__init__()\n",
        "\n",
        "        self.feature_extractor = VitBasicFeatureExtractor(pretrained=True)\n",
        "\n",
        "        self.sae2 = SparseAutoencoder(input_dim=768, latent_dim=768)\n",
        "        self.sae3 = SparseAutoencoder(input_dim=768, latent_dim=768)\n",
        "        self.sae4 = SparseAutoencoder(input_dim=768, latent_dim=768)\n",
        "\n",
        "        # self.attention_aggregator = AttentionAggregator(embed_dim=768, num_heads=12, num_layers=3)\n",
        "        self.gating_aggregator = GatingAggregator(embed_dim=768, num_input=2)\n",
        "\n",
        "        self.classifier = nn.Sequential(\n",
        "            nn.Linear(768, num_classes)\n",
        "        )\n",
        "\n",
        "    def forward(self, x_s, x_t=None, ad_net=None, cp_mask=None, optimal_flag=0):\n",
        "        \"\"\"\n",
        "        We need to handle source and target images if x_t is not None.\n",
        "        We also want to be consistent with how 'main.py' expects outputs:\n",
        "        - logits_s\n",
        "        - logits_t\n",
        "        - local adversarial loss (maybe? or we just return 0)\n",
        "        - reconstruction loss\n",
        "        - final features for domain adv, etc.\n",
        "\n",
        "        We'll do something like:\n",
        "        \"\"\"\n",
        "        # extract features from source\n",
        "        f2_s, f3_s, f4_s = self.feature_extractor(x_s)   # (B, 768) each, for example\n",
        "        x_recon2_s, z2_s = self.sae2(f2_s)\n",
        "        x_recon3_s, z3_s = self.sae3(f3_s)\n",
        "        x_recon4_s, z4_s = self.sae4(f4_s)\n",
        "        agg_s = self.gating_aggregator([z2_s, z3_s, z4_s])\n",
        "        logits_s = self.classifier(agg_s)\n",
        "\n",
        "        if x_t is not None:\n",
        "            # do the same for target\n",
        "            f2_t, f3_t, f4_t = self.feature_extractor(x_t)\n",
        "            x_recon2_t, z2_t = self.sae2(f2_t)\n",
        "            x_recon3_t, z3_t = self.sae3(f3_t)\n",
        "            x_recon4_t, z4_t = self.sae4(f4_t)\n",
        "            agg_t = self.gating_aggregator([z2_t, z3_t, z4_t])\n",
        "            logits_t = self.classifier(agg_t)\n",
        "        else:\n",
        "            logits_t = None\n",
        "\n",
        "        # if FFTAT wants local adv loss, you could do:\n",
        "        #   e.g. loss_ad_local = something with ad_net?\n",
        "        loss_ad_local = 0.0  # placeholder\n",
        "        # we can compute an average reconstruction loss\n",
        "        loss_rec = 0.0\n",
        "        if x_t is not None:\n",
        "            loss_rec_s = F.mse_loss(x_recon2_s, f2_s) + ...\n",
        "            loss_rec_t = F.mse_loss(x_recon2_t, f2_t) + ...\n",
        "            loss_rec = (loss_rec_s + loss_rec_t) * 0.5\n",
        "        else:\n",
        "            loss_rec = F.mse_loss(x_recon2_s, f2_s) + ...\n",
        "\n",
        "        # Return the same structure that main.py expects\n",
        "        #   (logits_s, logits_t, loss_ad_local, loss_rec, \"source features\", \"target features\", updated cp_mask?)\n",
        "        return logits_s, logits_t, loss_ad_local, loss_rec, (f2_s, f3_s, f4_s), (f2_t, f3_t, f4_t), cp_mask"
      ],
      "metadata": {
        "id": "ELDIWxBQWdDa"
      },
      "execution_count": null,
      "outputs": []
    },
    {
      "cell_type": "markdown",
      "metadata": {
        "id": "41ugZ06WBPER"
      },
      "source": [
        "## Losses"
      ]
    },
    {
      "cell_type": "code",
      "execution_count": null,
      "metadata": {
        "id": "1L9aXvYeBRLM"
      },
      "outputs": [],
      "source": [
        "def irm_penalty(logits, labels):\n",
        "\n",
        "    scale = torch.tensor(1.0, requires_grad=True, device=logits.device)\n",
        "    loss_erm = F.cross_entropy(scale * logits, labels)\n",
        "\n",
        "    grad = torch.autograd.grad(loss_erm, [scale], create_graph=True)[0]\n",
        "\n",
        "    penalty = torch.sum(grad**2)\n",
        "    var = 0.0\n",
        "\n",
        "    return loss_erm, penalty, var"
      ]
    },
    {
      "cell_type": "code",
      "execution_count": null,
      "metadata": {
        "id": "5o_c5NnbBbB1"
      },
      "outputs": [],
      "source": [
        "def compute_sae_loss(recons, pools, zs, lambda_sparse=[1.0, 1.0, 1.0], lambda_reconstruction=[1.0, 1.0, 1.0]):\n",
        "\n",
        "    x2_recon, x3_recon, x4_recon = recons\n",
        "    f2p, f3p, f4p = pools\n",
        "    z2, z3, z4 = zs\n",
        "\n",
        "    rec_loss2 = F.mse_loss(x2_recon, f2p)\n",
        "    rec_loss3 = F.mse_loss(x3_recon, f3p)\n",
        "    rec_loss4 = F.mse_loss(x4_recon, f4p)\n",
        "\n",
        "    lambda_r1, lambda_r2, lambda_r3 = lambda_reconstruction\n",
        "    recon_loss_total = (lambda_r1 * rec_loss2 + lambda_r2 * rec_loss3 + lambda_r3 * rec_loss4)\n",
        "\n",
        "    l1_z2 = torch.mean(torch.abs(z2))\n",
        "    l1_z3 = torch.mean(torch.abs(z3))\n",
        "    l1_z4 = torch.mean(torch.abs(z4))\n",
        "    lambda_s1, lambda_s2, lambda_s3 = lambda_sparse\n",
        "    l1_sparsity_total = (lambda_s1 * l1_z2 + lambda_s2 * l1_z3 + lambda_s3 * l1_z4)\n",
        "\n",
        "    return recon_loss_total, l1_sparsity_total\n"
      ]
    },
    {
      "cell_type": "code",
      "source": [
        "# @title MMD Loss\n",
        "\n",
        "# Define Kernel\n",
        "def gaussian_rbf_kernel(x1, x2, sigma):\n",
        "    \"\"\"\n",
        "    Returns:\n",
        "      A (B1 x B2) Tensor of pairwise RBF kernel values.\n",
        "    \"\"\"\n",
        "    dist_sq = torch.cdist(x1, x2, p=2).pow(2)\n",
        "    k = torch.exp(-dist_sq / (2.0 * sigma**2))\n",
        "    return k\n",
        "\n",
        "\n",
        "def mmd_rbf(f_s, f_t, sigma=1.0):\n",
        "    \"\"\"\n",
        "    Returns:\n",
        "      Scalar MMD^2 loss (Tensor).\n",
        "    \"\"\"\n",
        "    # Compute kernels\n",
        "    K_ss = gaussian_rbf_kernel(f_s, f_s, sigma)\n",
        "    K_tt = gaussian_rbf_kernel(f_t, f_t, sigma)\n",
        "    K_st = gaussian_rbf_kernel(f_s, f_t, sigma)\n",
        "\n",
        "    # Averages\n",
        "    mmd = K_ss.mean() + K_tt.mean() - 2*K_st.mean()\n",
        "    return mmd"
      ],
      "metadata": {
        "id": "BQ-ix35aKPUH"
      },
      "execution_count": null,
      "outputs": []
    },
    {
      "cell_type": "code",
      "source": [
        "# @title Coral Loss\n",
        "\n",
        "def coral_loss(f_s, f_t):\n",
        "    \"\"\"\n",
        "    Returns:\n",
        "      Scalar CORAL loss (Tensor).\n",
        "    \"\"\"\n",
        "    # Source covariance\n",
        "    # = (1 / (Ns-1)) * (f_s^T * f_s)\n",
        "    # But we do it in batch form in PyTorch.\n",
        "    # subtract mean (batch form)\n",
        "    f_s = f_s - f_s.mean(dim=0, keepdim=True)\n",
        "    f_t = f_t - f_t.mean(dim=0, keepdim=True)\n",
        "\n",
        "    Ns = f_s.size(0)\n",
        "    Nt = f_t.size(0)\n",
        "\n",
        "    cov_s = (f_s.t() @ f_s) / (Ns - 1)\n",
        "    cov_t = (f_t.t() @ f_t) / (Nt - 1)\n",
        "\n",
        "    # Frobenius norm of difference\n",
        "    coral = (cov_s - cov_t).pow(2).sum()\n",
        "    # Optionally scale by the factor 1/(4*d^2), but that’s a matter of definition\n",
        "    # d = f_s.size(1)\n",
        "    # coral = coral / (4.0 * (d**2))\n",
        "\n",
        "    return coral\n"
      ],
      "metadata": {
        "id": "K97r4mMAsV75"
      },
      "execution_count": null,
      "outputs": []
    },
    {
      "cell_type": "markdown",
      "metadata": {
        "id": "HSt6tjAxBkrq"
      },
      "source": [
        "## Trian and Evaluate Functions"
      ]
    },
    {
      "cell_type": "markdown",
      "metadata": {
        "id": "9asqo-VoExhV"
      },
      "source": [
        "### Train"
      ]
    },
    {
      "cell_type": "code",
      "execution_count": null,
      "metadata": {
        "id": "9n1I3VJsEgb_"
      },
      "outputs": [],
      "source": [
        "def train_main_irm_multi_sae_office(model,\n",
        "                              loader_source,\n",
        "                              test_loader,\n",
        "                              num_epochs=20,\n",
        "                              lr=1e-4,\n",
        "                              lr_sae=1e-4,\n",
        "                              lambda_irm=1.0,\n",
        "                              lambda_sae_rec=1.0,\n",
        "                              lambda_sae_sparse=1e-4,\n",
        "                              lambda_sparse=[1.0, 1.0, 1.0],\n",
        "                              lambda_reconstruction=[1.0, 1.0, 1.0],\n",
        "                              lambda_irm_pair=[1.0, 1.0, 1.0],\n",
        "                              device='cuda',\n",
        "                              verbose=False):\n",
        "\n",
        "    model.to(device)\n",
        "    model.train()\n",
        "\n",
        "    def sae_forward_splits(f2p, f3p, f4p):\n",
        "        x_recon2, z2 = model.sae2(f2p)\n",
        "        x_recon3, z3 = model.sae3(f3p)\n",
        "        x_recon4, z4 = model.sae4(f4p)\n",
        "        return x_recon2, z2, x_recon3, z3, x_recon4, z4\n",
        "\n",
        "    optimizer = optim.Adam(model.parameters(), lr=lr)\n",
        "\n",
        "    for epoch in range(num_epochs):\n",
        "        source_iter = iter(loader_source)\n",
        "        steps_per_epoch = len(source_iter)\n",
        "\n",
        "        for step in range(steps_per_epoch):\n",
        "\n",
        "            try:\n",
        "                x_s, y_s = next(source_iter)\n",
        "            except StopIteration:\n",
        "                source_iter = iter(loader_source)\n",
        "                x_s, y_s = next(source_iter)\n",
        "\n",
        "            x_s, y_s = x_s.to(device), y_s.to(device)\n",
        "\n",
        "            class_logits_s, _, _, _, _ = model(x_s)\n",
        "\n",
        "            loss_erm_s, penalty_s, var_s = irm_penalty(class_logits_s, y_s)\n",
        "\n",
        "            irm_loss = 0.5 * (loss_erm_s)\n",
        "            irm_pen  = 0.5 * (penalty_s)\n",
        "\n",
        "\n",
        "            w1, w2, w3 = lambda_irm_pair\n",
        "            loss_irm = w1 * (irm_loss) + w2 * (lambda_irm * irm_pen) + w3 * var_s\n",
        "\n",
        "\n",
        "            with torch.no_grad():\n",
        "                _, (x_recon2_s, z2_s), (x_recon3_s, z3_s), (x_recon4_s, z4_s), (f2p_s, f3p_s, f4p_s) = model(x_s)\n",
        "\n",
        "            x_recon2_s, z2_s, x_recon3_s, z3_s, x_recon4_s, z4_s = sae_forward_splits(f2p_s, f3p_s, f4p_s)\n",
        "\n",
        "            lambda_s1, lambda_s2, lambda_s3 = lambda_sparse\n",
        "            lambda_r1, lambda_r2, lambda_r3 = lambda_reconstruction\n",
        "\n",
        "            rec_loss2_s = F.mse_loss(x_recon2_s, f2p_s)\n",
        "            rec_loss2   = lambda_r1 * (rec_loss2_s)\n",
        "\n",
        "            rec_loss3_s = F.mse_loss(x_recon3_s, f3p_s)\n",
        "            rec_loss3   = lambda_r2 * (rec_loss3_s)\n",
        "\n",
        "            rec_loss4_s = F.mse_loss(x_recon4_s, f4p_s)\n",
        "            rec_loss4   = lambda_r3 * (rec_loss4_s)\n",
        "\n",
        "            rec_loss_total = (rec_loss2 + rec_loss3 + rec_loss4)\n",
        "\n",
        "            l1_2_s = torch.mean(torch.abs(z2_s))\n",
        "            l1_2   = lambda_s1 * (l1_2_s)\n",
        "\n",
        "            l1_3_s = torch.mean(torch.abs(z3_s))\n",
        "            l1_3   = lambda_s2 * (l1_3_s)\n",
        "\n",
        "            l1_4_s = torch.mean(torch.abs(z4_s))\n",
        "            l1_4   = lambda_s3 * (l1_4_s)\n",
        "\n",
        "            l1_sparsity = l1_2 + l1_3 + l1_4\n",
        "\n",
        "            sae_loss = lambda_sae_rec * rec_loss_total + lambda_sae_sparse * l1_sparsity\n",
        "\n",
        "            # Feature Alignment Strategy\n",
        "            features_s = f4_s  # or whichever feature block you want to align\n",
        "            features_t = f4_t\n",
        "\n",
        "            mmd_value   = mmd_rbf(features_s, features_t, sigma=1.0)\n",
        "            coral_value = coral_loss(features_s, features_t)\n",
        "\n",
        "            loss = loss_irm + sae_loss\n",
        "\n",
        "            optimizer.zero_grad()\n",
        "            loss.backward()\n",
        "            optimizer.step()\n",
        "\n",
        "            if (step+1) % 40 == 0 and verbose:\n",
        "                print(f\"Epoch [{epoch+1}/{num_epochs}], Step [{step+1}/{steps_per_epoch}], \"\n",
        "                      f\"IRM Loss: {loss_irm.item():.4f}, SAE Loss: {sae_loss.item():.4f}\")\n",
        "\n",
        "        test_acc = evaluate(model, test_loader, device=device)\n",
        "        print(f\"** End of Epoch {epoch+1}/{num_epochs} | Test Accuracy: {test_acc:.2f}% **\")\n",
        "\n",
        "    return model"
      ]
    },
    {
      "cell_type": "code",
      "execution_count": null,
      "metadata": {
        "id": "fK8JO5c-Epys"
      },
      "outputs": [],
      "source": [
        "def train_model_irm_sae_with_warmup_office(\n",
        "    batch_size=16,\n",
        "    num_warmup_epochs=5,\n",
        "    num_main_epochs=20,\n",
        "    lr=1e-4,\n",
        "    lr_sae=1e-4,\n",
        "    lambda_irm=1.0,\n",
        "    lambda_sae_rec=1.0,\n",
        "    lambda_sae_sparse=1e-4,\n",
        "    device='cuda',\n",
        "    loader=['A', 'W'],\n",
        "    model=None,\n",
        "    verbose=False,\n",
        "    lambda_sparse=[1.0, 1.0, 1.0],\n",
        "    lambda_reconstruction=[1.0, 1.0, 1.0],\n",
        "    lambda_irm_pair=[1.0, 1.0, 0.0],\n",
        "):\n",
        "\n",
        "    loader_amazon, loader_webcam, loader_dslr = get_office_data_loaders(batch_size)\n",
        "\n",
        "    source, target = loader if loader is not None else ['A', 'W']\n",
        "\n",
        "    if source == 'A':\n",
        "        loader_source = loader_amazon\n",
        "    elif source == 'W':\n",
        "        loader_source = loader_webcam\n",
        "    elif source == 'D':\n",
        "        loader_source = loader_dslr\n",
        "\n",
        "    if target == 'A':\n",
        "        loader_target = loader_amazon\n",
        "    elif target == 'W':\n",
        "        loader_target = loader_webcam\n",
        "    elif target == 'D':\n",
        "        loader_target = loader_dslr\n",
        "\n",
        "\n",
        "    if model is None:\n",
        "        model = UnifiedModelMultiBlockSAE(512, 1024, 2048, 31)\n",
        "\n",
        "    print(\"===== Main Phase (IRM + SAE) =====\")\n",
        "\n",
        "    model = train_main_irm_multi_sae_office(model,\n",
        "                                            loader_source=loader_source,\n",
        "                                            test_loader=loader_target,\n",
        "                                            num_epochs=num_main_epochs,\n",
        "                                            lr=lr,\n",
        "                                            lr_sae=lr_sae,\n",
        "                                            lambda_irm=lambda_irm,\n",
        "                                            lambda_sae_rec=lambda_sae_rec,\n",
        "                                            lambda_sae_sparse=lambda_sae_sparse,\n",
        "                                            device=device,\n",
        "                                            verbose=verbose,\n",
        "                                            lambda_sparse=lambda_sparse,\n",
        "                                            lambda_reconstruction=lambda_reconstruction,\n",
        "                                            lambda_irm_pair=lambda_irm_pair\n",
        "                                            )\n",
        "\n",
        "    return model"
      ]
    },
    {
      "cell_type": "markdown",
      "metadata": {
        "id": "VXlLEUc9IJC6"
      },
      "source": [
        "### Separate optm"
      ]
    },
    {
      "cell_type": "code",
      "execution_count": null,
      "metadata": {
        "id": "rYRTCpINIVwR"
      },
      "outputs": [],
      "source": [
        "def train_main_irm_multi_sae_office(\n",
        "    model,\n",
        "    loader_source,\n",
        "    test_loader,\n",
        "    num_epochs=20,\n",
        "    lr=1e-4,\n",
        "    lr_sae=1e-4,\n",
        "    lambda_irm=1.0,\n",
        "    lambda_sae_rec=1.0,\n",
        "    lambda_sae_sparse=1e-4,\n",
        "    lambda_sparse=[1.0, 1.0, 1.0],\n",
        "    lambda_reconstruction=[1.0, 1.0, 1.0],\n",
        "    lambda_irm_pair=[1.0, 1.0, 1.0],\n",
        "    device='cuda',\n",
        "    verbose=False\n",
        "):\n",
        "    import torch.optim as optim\n",
        "\n",
        "    model.to(device)\n",
        "    model.train()\n",
        "\n",
        "    def sae_forward_splits(f4p):\n",
        "        # x_recon2, z2 = model.sae2(f2p)\n",
        "        # x_recon3, z3 = model.sae3(f3p)\n",
        "        x_recon4, z4 = model.sae4(f4p)\n",
        "        return x_recon4, z4\n",
        "\n",
        "    # Define separate optimizers\n",
        "    # Optimizer for the feature extractor and classifier\n",
        "    params_rest = [\n",
        "        p for n, p in model.named_parameters()\n",
        "        if not (n.startswith('sae2') or n.startswith('sae3') or n.startswith('sae4'))\n",
        "    ]\n",
        "    # optimizer_rest = optim.SGD(params_rest, lr=lr, momentum=0.9)\n",
        "    optimizer_rest = optim.Adam(params_rest, lr=lr)\n",
        "    # Optimizer for the Sparse Autoencoders (sae2, sae3, sae4)\n",
        "    params_sae = list(model.sae2.parameters()) + list(model.sae3.parameters()) + list(model.sae4.parameters())\n",
        "    optimizer_sae = optim.Adam(params_sae, lr=lr_sae)\n",
        "\n",
        "    for epoch in range(num_epochs):\n",
        "        source_iter = iter(loader_source)\n",
        "        steps_per_epoch = len(source_iter)\n",
        "\n",
        "        for step in range(steps_per_epoch):\n",
        "\n",
        "            try:\n",
        "                x_s, y_s = next(source_iter)\n",
        "            except StopIteration:\n",
        "                source_iter = iter(loader_source)\n",
        "                x_s, y_s = next(source_iter)\n",
        "\n",
        "            x_s, y_s = x_s.to(device), y_s.to(device)\n",
        "\n",
        "            # Forward pass for classification\n",
        "            class_logits_s, _, _ = model(x_s)\n",
        "\n",
        "            # Compute IRM loss\n",
        "            loss_erm_s, penalty_s, var_s = irm_penalty(class_logits_s, y_s)\n",
        "\n",
        "            irm_loss = 0.5 * loss_erm_s\n",
        "            irm_pen  = 0.5 * penalty_s\n",
        "\n",
        "            w1, w2, w3 = lambda_irm_pair\n",
        "            loss_irm = w1 * irm_loss + w2 * (lambda_irm * irm_pen) + w3 * var_s\n",
        "\n",
        "            # Forward pass for SAEs without tracking gradients\n",
        "            with torch.no_grad():\n",
        "                class_logits_s, (x_recon4_s, z4_s), (f4p_s) = model(x_s)\n",
        "\n",
        "            # Forward pass through SAEs to get reconstructions and latent vectors\n",
        "            x_recon4_s, z4_s = sae_forward_splits(f4p_s)\n",
        "\n",
        "            # Compute Reconstruction Loss\n",
        "            lambda_s1, lambda_s2, lambda_s3 = lambda_sparse\n",
        "            lambda_r1, lambda_r2, lambda_r3 = lambda_reconstruction\n",
        "\n",
        "\n",
        "            rec_loss4_s = F.mse_loss(x_recon4_s, f4p_s)\n",
        "            rec_loss4   = lambda_r3 * rec_loss4_s\n",
        "\n",
        "            rec_loss_total = rec_loss4\n",
        "\n",
        "            l1_4_s = torch.mean(torch.abs(z4_s))\n",
        "            l1_4   = lambda_s3 * l1_4_s\n",
        "\n",
        "            l1_sparsity = l1_4\n",
        "\n",
        "            # Total SAE Loss\n",
        "            sae_loss = lambda_sae_rec * rec_loss_total + lambda_sae_sparse * l1_sparsity\n",
        "\n",
        "            loss = loss_irm + sae_loss\n",
        "\n",
        "\n",
        "            # Zero gradients for both optimizers\n",
        "            optimizer_rest.zero_grad()\n",
        "            optimizer_sae.zero_grad()\n",
        "\n",
        "            # Backward pass\n",
        "            loss.backward()\n",
        "\n",
        "            # Update parameters\n",
        "            optimizer_rest.step()\n",
        "            optimizer_sae.step()\n",
        "\n",
        "            if (step+1) % 40 == 0 and verbose:\n",
        "                print(f\"Epoch [{epoch+1}/{num_epochs}], Step [{step+1}/{steps_per_epoch}], \"\n",
        "                      f\"IRM Loss: {loss_irm.item():.4f}, SAE Loss: {sae_loss.item():.4f}\")\n",
        "\n",
        "        # Evaluation after each epoch\n",
        "        test_acc = evaluate(model, test_loader, device=device)\n",
        "        print(f\"** End of Epoch {epoch+1}/{num_epochs} | Test Accuracy: {test_acc:.2f}% **\")\n",
        "\n",
        "    return model\n"
      ]
    },
    {
      "cell_type": "code",
      "source": [
        "# @title Domain and Target Distribution Alignment\n",
        "def train_office_with_mmd_coral(\n",
        "    model,\n",
        "    loader_source,\n",
        "    loader_target,\n",
        "    num_epochs=20,\n",
        "    lr=1e-4,\n",
        "    lambda_irm=1.0,\n",
        "    lambda_sae=1.0,\n",
        "    lambda_mmd=0.1,\n",
        "    lambda_coral=0.0,\n",
        "    device='cuda'\n",
        "):\n",
        "    model.to(device)\n",
        "    optimizer = torch.optim.Adam(model.parameters(), lr=lr)\n",
        "\n",
        "    for epoch in range(num_epochs):\n",
        "        model.train()\n",
        "        source_iter = iter(loader_source)\n",
        "        target_iter = iter(loader_target)\n",
        "        steps_per_epoch = min(len(source_iter), len(target_iter))\n",
        "\n",
        "        for step in range(steps_per_epoch):\n",
        "            x_s, y_s = next(source_iter)\n",
        "            x_t, _   = next(target_iter)\n",
        "\n",
        "            x_s, y_s = x_s.to(device), y_s.to(device)\n",
        "            x_t      = x_t.to(device)\n",
        "\n",
        "            # Forward pass on source\n",
        "            logits_s, (x_recon_s, z_s), (f4_s) = model(x_s)\n",
        "            # If you want target features for alignment\n",
        "            # no ground-truth labels for target\n",
        "            _, (x_recon_t, z_t), (f4_t) = model(x_t)\n",
        "\n",
        "            # IRM or ERM on source\n",
        "            loss_erm_s, penalty_s, var_s = irm_penalty(logits_s, y_s)\n",
        "            irm_loss = 0.5 * loss_erm_s\n",
        "            irm_pen  = 0.5 * penalty_s\n",
        "            loss_irm = irm_loss + lambda_irm * irm_pen\n",
        "\n",
        "            # SAE loss\n",
        "            sae_loss_source = F.mse_loss(x_recon_s, f4_s)  # + optional L1-sparsity\n",
        "            loss_sae = lambda_sae * sae_loss_source\n",
        "\n",
        "            # MMD or CORAL\n",
        "            # only do it on f4_s, f4_t or aggregated features\n",
        "            if lambda_mmd > 0:\n",
        "                loss_mmd = mmd_rbf(f4_s, f4_t, sigma=1.0)\n",
        "            else:\n",
        "                loss_mmd = 0.0\n",
        "\n",
        "            if lambda_coral > 0:\n",
        "                loss_coral = coral_loss(f4_s, f4_t)\n",
        "            else:\n",
        "                loss_coral = 0.0\n",
        "\n",
        "            total_loss = loss_irm + loss_sae + lambda_mmd * loss_mmd + lambda_coral * loss_coral\n",
        "\n",
        "            optimizer.zero_grad()\n",
        "            total_loss.backward()\n",
        "            optimizer.step()\n",
        "\n",
        "        # Evaluate on target after epoch\n",
        "        acc = evaluate(model, loader_target, device=device)\n",
        "        print(f\"Epoch {epoch+1}/{num_epochs} - Target Acc: {acc:.2f}%\")\n",
        "\n",
        "    return model"
      ],
      "metadata": {
        "id": "BI0f6Q2gwRbY"
      },
      "execution_count": null,
      "outputs": []
    },
    {
      "cell_type": "markdown",
      "metadata": {
        "id": "k9Y3ne2WE0z1"
      },
      "source": [
        "### Evaluate"
      ]
    },
    {
      "cell_type": "code",
      "execution_count": null,
      "metadata": {
        "id": "I1JnoZwcEqPk"
      },
      "outputs": [],
      "source": [
        "def evaluate_baseline(model, loader, device='cuda'):\n",
        "    model.eval()\n",
        "    correct = 0\n",
        "    total = 0\n",
        "    with torch.no_grad():\n",
        "        for x, y in loader:\n",
        "            x, y = x.to(device), y.to(device)\n",
        "            logits, _ = model(x)\n",
        "            preds = torch.argmax(logits, dim=1)\n",
        "            correct += (preds == y).sum().item()\n",
        "            total += y.size(0)\n",
        "    acc = 100.0 * correct / total\n",
        "    model.train()\n",
        "    return acc\n"
      ]
    },
    {
      "cell_type": "code",
      "execution_count": null,
      "metadata": {
        "id": "9ZVa9RfWEs12"
      },
      "outputs": [],
      "source": [
        "def evaluate(model, loader, device='cuda'):\n",
        "    model.eval()\n",
        "    correct = 0\n",
        "    total = 0\n",
        "    with torch.no_grad():\n",
        "        for x, y in loader:\n",
        "            x, y = x.to(device), y.to(device)\n",
        "            logits, _, _ = model(x)\n",
        "            preds = torch.argmax(logits, dim=1)\n",
        "            correct += (preds == y).sum().item()\n",
        "            total += y.size(0)\n",
        "    acc = 100.0 * correct / total\n",
        "    return acc"
      ]
    },
    {
      "cell_type": "markdown",
      "metadata": {
        "id": "5Efg0fiMHjya"
      },
      "source": [
        "# MAIN"
      ]
    },
    {
      "cell_type": "code",
      "execution_count": null,
      "metadata": {
        "colab": {
          "base_uri": "https://localhost:8080/"
        },
        "id": "Qp2dr4NFIwu1",
        "outputId": "2c2a83a5-ad92-45dd-c80b-aac504ab116c"
      },
      "outputs": [
        {
          "output_type": "stream",
          "name": "stderr",
          "text": [
            "/usr/local/lib/python3.10/dist-packages/torchvision/models/_utils.py:208: UserWarning: The parameter 'pretrained' is deprecated since 0.13 and may be removed in the future, please use 'weights' instead.\n",
            "  warnings.warn(\n",
            "/usr/local/lib/python3.10/dist-packages/torchvision/models/_utils.py:223: UserWarning: Arguments other than a weight enum or `None` for 'weights' are deprecated since 0.13 and may be removed in the future. The current behavior is equivalent to passing `weights=ResNet50_Weights.IMAGENET1K_V1`. You can also use `weights=ResNet50_Weights.DEFAULT` to get the most up-to-date weights.\n",
            "  warnings.warn(msg)\n",
            "Downloading: \"https://download.pytorch.org/models/resnet50-0676ba61.pth\" to /root/.cache/torch/hub/checkpoints/resnet50-0676ba61.pth\n",
            "100%|██████████| 97.8M/97.8M [00:02<00:00, 51.1MB/s]\n"
          ]
        }
      ],
      "source": [
        "feature_extractor_baseline = ResNetFeatureExtractor(pretrained=True)\n",
        "baseline_model = BaselineModel(feature_extractor=feature_extractor_baseline, num_classes=31)"
      ]
    },
    {
      "cell_type": "code",
      "execution_count": null,
      "metadata": {
        "colab": {
          "base_uri": "https://localhost:8080/"
        },
        "id": "_JeZUuvRJsqh",
        "outputId": "502e911d-f5cf-4fef-8b56-973326ea73dc"
      },
      "outputs": [
        {
          "output_type": "stream",
          "name": "stdout",
          "text": [
            "Warning: Looks like you're using an outdated `kagglehub` version (installed: 0.3.5), please consider upgrading to the latest version (0.3.6).\n",
            "Downloading from https://www.kaggle.com/api/v1/datasets/download/xixuhu/office31?dataset_version_number=1...\n"
          ]
        },
        {
          "output_type": "stream",
          "name": "stderr",
          "text": [
            "100%|██████████| 75.9M/75.9M [00:04<00:00, 17.7MB/s]"
          ]
        },
        {
          "output_type": "stream",
          "name": "stdout",
          "text": [
            "Extracting files...\n"
          ]
        },
        {
          "output_type": "stream",
          "name": "stderr",
          "text": [
            "\n"
          ]
        },
        {
          "output_type": "stream",
          "name": "stdout",
          "text": [
            "Warning: Looks like you're using an outdated `kagglehub` version (installed: 0.3.5), please consider upgrading to the latest version (0.3.6).\n",
            "Warning: Looks like you're using an outdated `kagglehub` version (installed: 0.3.5), please consider upgrading to the latest version (0.3.6).\n"
          ]
        }
      ],
      "source": [
        "loader_amazon, loader_webcam, loader_dslr = get_office_data_loaders(32)"
      ]
    },
    {
      "cell_type": "markdown",
      "source": [
        "## Replacing backbone of FFTAT with ours"
      ],
      "metadata": {
        "id": "2uq_eZnw9PMU"
      }
    },
    {
      "cell_type": "code",
      "source": [
        "# @title Prepare FFTAT\n",
        "\n",
        "# Git clone Repository\n",
        "# !git clone https://github.com/Shawey94/WACV2025-FFTAT.git /content/drive/MyDrive/ATML/Project/FFTAT\n",
        "%cd /content/drive/MyDrive/ATML/Project/FFTAT\n",
        "sys.path.append('/content/drive/MyDrive/ATML/Project/FFTAT')\n",
        "\n",
        "!pip install ml_collections cpnet\n",
        "\n",
        "# Import necessary functions from FFTAT\n",
        "from models.modeling import VisionTransformer, AdversarialNetwork  # or whatever classes you need\n",
        "from models.lossZoo import im, adv, adv_local\n",
        "from models.configs import get_b16_config"
      ],
      "metadata": {
        "id": "ZvkVheAnykmq",
        "colab": {
          "base_uri": "https://localhost:8080/"
        },
        "outputId": "ff33df19-cbac-462b-8ec9-292bed8f9078"
      },
      "execution_count": null,
      "outputs": [
        {
          "output_type": "stream",
          "name": "stdout",
          "text": [
            "/content/drive/.shortcut-targets-by-id/1X7wTsg8g3Bx368F088lgtoQNou7sUSvm/ATML/Project/FFTAT\n",
            "Collecting ml_collections\n",
            "  Downloading ml_collections-1.0.0-py3-none-any.whl.metadata (22 kB)\n",
            "Collecting cpnet\n",
            "  Downloading cpnet-0.0.21-py3-none-any.whl.metadata (1.1 kB)\n",
            "Requirement already satisfied: absl-py in /usr/local/lib/python3.10/dist-packages (from ml_collections) (1.4.0)\n",
            "Requirement already satisfied: six in /usr/local/lib/python3.10/dist-packages (from ml_collections) (1.17.0)\n",
            "Requirement already satisfied: PyYAML in /usr/local/lib/python3.10/dist-packages (from ml_collections) (6.0.2)\n",
            "Requirement already satisfied: networkx>=2.0 in /usr/local/lib/python3.10/dist-packages (from cpnet) (3.4.2)\n",
            "Requirement already satisfied: numpy>=1.16.5 in /usr/local/lib/python3.10/dist-packages (from cpnet) (1.26.4)\n",
            "Collecting simanneal>=0.4.2 (from cpnet)\n",
            "  Downloading simanneal-0.5.0-py2.py3-none-any.whl.metadata (695 bytes)\n",
            "Requirement already satisfied: scipy>=1.5.2 in /usr/local/lib/python3.10/dist-packages (from cpnet) (1.13.1)\n",
            "Requirement already satisfied: numba>=0.50.0 in /usr/local/lib/python3.10/dist-packages (from cpnet) (0.60.0)\n",
            "Requirement already satisfied: joblib>=0.16.0 in /usr/local/lib/python3.10/dist-packages (from cpnet) (1.4.2)\n",
            "Requirement already satisfied: plotly>=4.10.0 in /usr/local/lib/python3.10/dist-packages (from cpnet) (5.24.1)\n",
            "Requirement already satisfied: seaborn>=0.11.0 in /usr/local/lib/python3.10/dist-packages (from cpnet) (0.13.2)\n",
            "Requirement already satisfied: pandas>=1.1.0 in /usr/local/lib/python3.10/dist-packages (from cpnet) (2.2.2)\n",
            "Requirement already satisfied: tqdm>=4.49.0 in /usr/local/lib/python3.10/dist-packages (from cpnet) (4.67.1)\n",
            "Requirement already satisfied: llvmlite<0.44,>=0.43.0dev0 in /usr/local/lib/python3.10/dist-packages (from numba>=0.50.0->cpnet) (0.43.0)\n",
            "Requirement already satisfied: python-dateutil>=2.8.2 in /usr/local/lib/python3.10/dist-packages (from pandas>=1.1.0->cpnet) (2.8.2)\n",
            "Requirement already satisfied: pytz>=2020.1 in /usr/local/lib/python3.10/dist-packages (from pandas>=1.1.0->cpnet) (2024.2)\n",
            "Requirement already satisfied: tzdata>=2022.7 in /usr/local/lib/python3.10/dist-packages (from pandas>=1.1.0->cpnet) (2024.2)\n",
            "Requirement already satisfied: tenacity>=6.2.0 in /usr/local/lib/python3.10/dist-packages (from plotly>=4.10.0->cpnet) (9.0.0)\n",
            "Requirement already satisfied: packaging in /usr/local/lib/python3.10/dist-packages (from plotly>=4.10.0->cpnet) (24.2)\n",
            "Requirement already satisfied: matplotlib!=3.6.1,>=3.4 in /usr/local/lib/python3.10/dist-packages (from seaborn>=0.11.0->cpnet) (3.8.0)\n",
            "Requirement already satisfied: contourpy>=1.0.1 in /usr/local/lib/python3.10/dist-packages (from matplotlib!=3.6.1,>=3.4->seaborn>=0.11.0->cpnet) (1.3.1)\n",
            "Requirement already satisfied: cycler>=0.10 in /usr/local/lib/python3.10/dist-packages (from matplotlib!=3.6.1,>=3.4->seaborn>=0.11.0->cpnet) (0.12.1)\n",
            "Requirement already satisfied: fonttools>=4.22.0 in /usr/local/lib/python3.10/dist-packages (from matplotlib!=3.6.1,>=3.4->seaborn>=0.11.0->cpnet) (4.55.3)\n",
            "Requirement already satisfied: kiwisolver>=1.0.1 in /usr/local/lib/python3.10/dist-packages (from matplotlib!=3.6.1,>=3.4->seaborn>=0.11.0->cpnet) (1.4.7)\n",
            "Requirement already satisfied: pillow>=6.2.0 in /usr/local/lib/python3.10/dist-packages (from matplotlib!=3.6.1,>=3.4->seaborn>=0.11.0->cpnet) (11.0.0)\n",
            "Requirement already satisfied: pyparsing>=2.3.1 in /usr/local/lib/python3.10/dist-packages (from matplotlib!=3.6.1,>=3.4->seaborn>=0.11.0->cpnet) (3.2.0)\n",
            "Downloading ml_collections-1.0.0-py3-none-any.whl (76 kB)\n",
            "\u001b[2K   \u001b[90m━━━━━━━━━━━━━━━━━━━━━━━━━━━━━━━━━━━━━━━━\u001b[0m \u001b[32m76.5/76.5 kB\u001b[0m \u001b[31m7.4 MB/s\u001b[0m eta \u001b[36m0:00:00\u001b[0m\n",
            "\u001b[?25hDownloading cpnet-0.0.21-py3-none-any.whl (30 kB)\n",
            "Downloading simanneal-0.5.0-py2.py3-none-any.whl (5.6 kB)\n",
            "Installing collected packages: simanneal, ml_collections, cpnet\n",
            "Successfully installed cpnet-0.0.21 ml_collections-1.0.0 simanneal-0.5.0\n"
          ]
        }
      ]
    },
    {
      "cell_type": "code",
      "source": [
        "os.makedirs('./output/office', exist_ok=True)"
      ],
      "metadata": {
        "id": "f4euekIUCMpI"
      },
      "execution_count": null,
      "outputs": []
    },
    {
      "cell_type": "code",
      "source": [
        "from main import setup, train"
      ],
      "metadata": {
        "id": "8VAz7PGX_Vb0"
      },
      "execution_count": null,
      "outputs": []
    },
    {
      "cell_type": "code",
      "source": [
        "# Prepare your dataloaders\n",
        "loader_amazon, loader_dslr, loader_webcam = get_office_data_loaders(batch_size=16)\n",
        "\n",
        "# Modify arguments\n",
        "from argparse import Namespace\n",
        "\n",
        "args = Namespace(\n",
        "    train_batch_size=16,\n",
        "    eval_batch_size=16,\n",
        "    dataset='office',\n",
        "    name='custom_run',\n",
        "    num_classes=31,\n",
        "    model_type='ViT-B_16',\n",
        "    pretrained_dir='checkpoint/imagenet21k_ViT-B_16.npz',\n",
        "    num_steps=1000,\n",
        "    img_size=224,\n",
        "    beta=1.0,\n",
        "    gamma=0.1,\n",
        "    use_im=True,\n",
        "    theta=0.1,\n",
        "    learning_rate=0.05,\n",
        "    gpu_id='0',\n",
        "    use_cp=True,\n",
        "    optimal=1,\n",
        "    warmup_steps=100,\n",
        "    device=torch.device('cuda' if torch.cuda.is_available() else 'cpu'),\n",
        "    local_rank=-1,\n",
        "    output_dir='./output/office',\n",
        "    seed=42,\n",
        "    gradient_accumulation_steps = 1,\n",
        "    weight_decay=0.05,\n",
        "    decay_type = 'cosine',\n",
        "    n_gpu=torch.cuda.device_count(),\n",
        "    index_t=None,\n",
        "    max_grad_norm =1.0,\n",
        "    eval_every=20\n",
        ")\n",
        "\n",
        "# Setup the model\n",
        "args, model = setup(args, prefix_saved_mode='custom_prefix')\n",
        "model.to(args.device)\n",
        "\n",
        "# Call the train function directly with your dataloaders\n",
        "train(\n",
        "    args=args,\n",
        "    model=model,\n",
        "    cp_mask=torch.ones((257, 257)).float().to(args.device),  # Placeholder cp_mask\n",
        "    prefix_saved_mode='custom_prefix',\n",
        "    source_loader=loader_amazon,\n",
        "    target_loader=loader_dslr,\n",
        "    test_loader=loader_webcam\n",
        ")"
      ],
      "metadata": {
        "colab": {
          "base_uri": "https://localhost:8080/"
        },
        "id": "gM0Z6ozZRyx9",
        "outputId": "db822981-8321-49ec-aa23-cb15c8fb87c2"
      },
      "execution_count": null,
      "outputs": [
        {
          "output_type": "stream",
          "name": "stdout",
          "text": [
            "Warning: Looks like you're using an outdated `kagglehub` version (installed: 0.3.5), please consider upgrading to the latest version (0.3.6).\n",
            "Warning: Looks like you're using an outdated `kagglehub` version (installed: 0.3.5), please consider upgrading to the latest version (0.3.6).\n",
            "Warning: Looks like you're using an outdated `kagglehub` version (installed: 0.3.5), please consider upgrading to the latest version (0.3.6).\n",
            "loss_clc 3.9182162284851074, loss_im -0.2223825454711914, loss_ad_global 1.1144098043441772, loss_ad_local 0.7492037415504456\n",
            "loss_clc 4.0403151512146, loss_im -0.2519564628601074, loss_ad_global 1.3685094118118286, loss_ad_local 0.819049060344696\n",
            "loss_clc 3.9631385803222656, loss_im -0.1955413818359375, loss_ad_global 1.2823833227157593, loss_ad_local 0.8071699142456055\n",
            "loss_clc 3.3580057621002197, loss_im -0.2554030418395996, loss_ad_global 1.509061336517334, loss_ad_local 0.7298853397369385\n",
            "loss_clc 3.448415756225586, loss_im -0.23902225494384766, loss_ad_global 1.4221951961517334, loss_ad_local 0.8075733184814453\n",
            "loss_clc 3.9552886486053467, loss_im -0.21948623657226562, loss_ad_global 1.3271571397781372, loss_ad_local 0.7943347692489624\n",
            "loss_clc 4.107184410095215, loss_im -0.20530223846435547, loss_ad_global 1.604514718055725, loss_ad_local 0.7931171655654907\n",
            "loss_clc 3.7605388164520264, loss_im -0.27085065841674805, loss_ad_global 2.1063642501831055, loss_ad_local 0.8037132620811462\n",
            "loss_clc 3.8322408199310303, loss_im -0.1875, loss_ad_global 0.863527774810791, loss_ad_local 0.7223578691482544\n",
            "loss_clc 3.8127219676971436, loss_im -0.21893835067749023, loss_ad_global 1.5781044960021973, loss_ad_local 0.7133994102478027\n",
            "loss_clc 3.6779465675354004, loss_im -0.2164163589477539, loss_ad_global 1.3808674812316895, loss_ad_local 0.7356623411178589\n",
            "loss_clc 3.7256739139556885, loss_im -0.20362424850463867, loss_ad_global 1.001338243484497, loss_ad_local 0.7634879946708679\n",
            "loss_clc 3.5930981636047363, loss_im -0.21176528930664062, loss_ad_global 1.2522516250610352, loss_ad_local 0.7810885310173035\n",
            "loss_clc 3.768512725830078, loss_im -0.21919584274291992, loss_ad_global 1.6593931913375854, loss_ad_local 0.699787974357605\n",
            "loss_clc 3.591041088104248, loss_im -0.25865936279296875, loss_ad_global 1.4220478534698486, loss_ad_local 0.748350203037262\n",
            "loss_clc 3.7017979621887207, loss_im -0.1865978240966797, loss_ad_global 1.1431055068969727, loss_ad_local 0.729569673538208\n",
            "loss_clc 3.758765459060669, loss_im -0.2576560974121094, loss_ad_global 1.2267591953277588, loss_ad_local 0.7779349684715271\n",
            "loss_clc 3.75116229057312, loss_im -0.2001800537109375, loss_ad_global 0.9078240394592285, loss_ad_local 0.7454157471656799\n",
            "loss_clc 3.4664227962493896, loss_im -0.1973404884338379, loss_ad_global 1.1377339363098145, loss_ad_local 0.7306101322174072\n",
            "loss_clc 3.6249797344207764, loss_im -0.2108936309814453, loss_ad_global 1.6407227516174316, loss_ad_local 0.7858976721763611\n"
          ]
        },
        {
          "output_type": "stream",
          "name": "stderr",
          "text": [
            "Validating... (loss=3.91063): 100%|| 50/50 [00:07<00:00,  6.72it/s]\n"
          ]
        },
        {
          "output_type": "stream",
          "name": "stdout",
          "text": [
            "loss_clc 3.424018144607544, loss_im -0.1997818946838379, loss_ad_global 0.8191932439804077, loss_ad_local 0.7734259366989136\n",
            "loss_clc 3.517679214477539, loss_im -0.19598627090454102, loss_ad_global 1.5956552028656006, loss_ad_local 0.8097792863845825\n",
            "loss_clc 3.5613956451416016, loss_im -0.18513107299804688, loss_ad_global 1.3879836797714233, loss_ad_local 0.7632859349250793\n",
            "loss_clc 3.3516435623168945, loss_im -0.2064228057861328, loss_ad_global 1.345506191253662, loss_ad_local 0.7414949536323547\n",
            "loss_clc 3.4231584072113037, loss_im -0.16926860809326172, loss_ad_global 1.2168604135513306, loss_ad_local 0.772557258605957\n",
            "loss_clc 3.556591510772705, loss_im -0.19895410537719727, loss_ad_global 1.0827441215515137, loss_ad_local 0.7288106679916382\n",
            "loss_clc 3.8547465801239014, loss_im -0.2252969741821289, loss_ad_global 1.314551591873169, loss_ad_local 0.751552402973175\n",
            "loss_clc 3.6790733337402344, loss_im -0.18972110748291016, loss_ad_global 1.1972688436508179, loss_ad_local 0.7510902881622314\n",
            "loss_clc 3.3459880352020264, loss_im -0.15557861328125, loss_ad_global 1.0297716856002808, loss_ad_local 0.7900892496109009\n",
            "loss_clc 3.7007198333740234, loss_im -0.13830232620239258, loss_ad_global 0.8820022344589233, loss_ad_local 0.6621306538581848\n",
            "loss_clc 3.2441680431365967, loss_im -0.1564044952392578, loss_ad_global 0.9865103363990784, loss_ad_local 0.7570059895515442\n",
            "loss_clc 3.791243553161621, loss_im -0.15862798690795898, loss_ad_global 0.7935318946838379, loss_ad_local 0.7562882900238037\n",
            "loss_clc 3.314851760864258, loss_im -0.13921260833740234, loss_ad_global 1.3782830238342285, loss_ad_local 0.7318916320800781\n",
            "loss_clc 3.834669828414917, loss_im -0.14694738388061523, loss_ad_global 0.9027775526046753, loss_ad_local 0.7723568677902222\n",
            "loss_clc 3.701448440551758, loss_im -0.1337742805480957, loss_ad_global 1.1436103582382202, loss_ad_local 0.7229921817779541\n",
            "loss_clc 3.4066085815429688, loss_im -0.13910865783691406, loss_ad_global 0.9537379145622253, loss_ad_local 0.743136465549469\n",
            "loss_clc 3.390493631362915, loss_im -0.14385080337524414, loss_ad_global 0.9408398866653442, loss_ad_local 0.7089284658432007\n",
            "loss_clc 3.391690492630005, loss_im -0.13299179077148438, loss_ad_global 1.0421150922775269, loss_ad_local 0.7582715749740601\n",
            "loss_clc 3.2830891609191895, loss_im -0.13694477081298828, loss_ad_global 1.0433285236358643, loss_ad_local 0.7735109925270081\n",
            "loss_clc 3.5520310401916504, loss_im -0.11724615097045898, loss_ad_global 0.9701130390167236, loss_ad_local 0.7633952498435974\n"
          ]
        },
        {
          "output_type": "stream",
          "name": "stderr",
          "text": [
            "Validating... (loss=2.92786): 100%|| 50/50 [00:07<00:00,  6.71it/s]\n"
          ]
        },
        {
          "output_type": "stream",
          "name": "stdout",
          "text": [
            "loss_clc 3.6577796936035156, loss_im -0.11170196533203125, loss_ad_global 0.9972925782203674, loss_ad_local 0.7585691213607788\n",
            "loss_clc 3.515991449356079, loss_im -0.1024618148803711, loss_ad_global 1.1765656471252441, loss_ad_local 0.7533301115036011\n",
            "loss_clc 3.328976631164551, loss_im -0.11107587814331055, loss_ad_global 0.7252852916717529, loss_ad_local 0.7492287755012512\n",
            "loss_clc 3.5804476737976074, loss_im -0.09651708602905273, loss_ad_global 0.9410068988800049, loss_ad_local 0.7276219129562378\n",
            "loss_clc 3.6424708366394043, loss_im -0.12490510940551758, loss_ad_global 1.0697402954101562, loss_ad_local 0.7515203356742859\n",
            "loss_clc 3.01625919342041, loss_im -0.11713266372680664, loss_ad_global 0.9953427314758301, loss_ad_local 0.7305676937103271\n",
            "loss_clc 3.4956040382385254, loss_im -0.0876460075378418, loss_ad_global 0.6784145832061768, loss_ad_local 0.7697339653968811\n",
            "loss_clc 3.3623814582824707, loss_im -0.105804443359375, loss_ad_global 0.8750609159469604, loss_ad_local 0.7597981095314026\n",
            "loss_clc 3.4430997371673584, loss_im -0.08308792114257812, loss_ad_global 0.9135269522666931, loss_ad_local 0.7963525056838989\n",
            "loss_clc 3.6232123374938965, loss_im -0.08234262466430664, loss_ad_global 0.9778600931167603, loss_ad_local 0.7254208326339722\n",
            "loss_clc 3.4274792671203613, loss_im -0.07402563095092773, loss_ad_global 0.8196840882301331, loss_ad_local 0.7182725667953491\n",
            "loss_clc 3.461725950241089, loss_im -0.07851886749267578, loss_ad_global 0.7048690319061279, loss_ad_local 0.714648962020874\n",
            "loss_clc 3.173617362976074, loss_im -0.06560468673706055, loss_ad_global 1.0300787687301636, loss_ad_local 0.7176806330680847\n",
            "loss_clc 3.366143226623535, loss_im -0.06836891174316406, loss_ad_global 0.7830158472061157, loss_ad_local 0.7221307158470154\n",
            "loss_clc 3.196178674697876, loss_im -0.06274604797363281, loss_ad_global 0.8007447123527527, loss_ad_local 0.7727798819541931\n",
            "loss_clc 3.1251418590545654, loss_im -0.07046318054199219, loss_ad_global 0.950377345085144, loss_ad_local 0.7174971103668213\n",
            "loss_clc 3.2316670417785645, loss_im -0.06243705749511719, loss_ad_global 0.8463245034217834, loss_ad_local 0.7166093587875366\n",
            "loss_clc 3.4299581050872803, loss_im -0.06396818161010742, loss_ad_global 1.1523513793945312, loss_ad_local 0.7516169548034668\n",
            "loss_clc 3.087775945663452, loss_im -0.05687522888183594, loss_ad_global 0.8110135793685913, loss_ad_local 0.7427811622619629\n",
            "loss_clc 3.127516984939575, loss_im -0.048506736755371094, loss_ad_global 0.6720249056816101, loss_ad_local 0.7700544595718384\n"
          ]
        },
        {
          "output_type": "stream",
          "name": "stderr",
          "text": [
            "Validating... (loss=3.03709): 100%|| 50/50 [00:07<00:00,  6.77it/s]\n"
          ]
        },
        {
          "output_type": "stream",
          "name": "stdout",
          "text": [
            "loss_clc 3.160412311553955, loss_im -0.051666259765625, loss_ad_global 0.7477474212646484, loss_ad_local 0.7024354338645935\n",
            "loss_clc 3.1648547649383545, loss_im -0.04438018798828125, loss_ad_global 0.6936202645301819, loss_ad_local 0.7247548699378967\n",
            "loss_clc 3.3067331314086914, loss_im -0.04516887664794922, loss_ad_global 0.8697081804275513, loss_ad_local 0.7754521369934082\n",
            "loss_clc 3.2671258449554443, loss_im -0.047023773193359375, loss_ad_global 0.9042372107505798, loss_ad_local 0.7473583221435547\n",
            "loss_clc 3.1851251125335693, loss_im -0.04311323165893555, loss_ad_global 0.851148247718811, loss_ad_local 0.7600831985473633\n",
            "loss_clc 3.140880823135376, loss_im -0.041281700134277344, loss_ad_global 0.8294663429260254, loss_ad_local 0.7642827033996582\n",
            "loss_clc 3.2461724281311035, loss_im -0.05146360397338867, loss_ad_global 0.7016584277153015, loss_ad_local 0.7431672811508179\n",
            "loss_clc 3.3499882221221924, loss_im -0.04477500915527344, loss_ad_global 0.7055318355560303, loss_ad_local 0.7047326564788818\n",
            "loss_clc 2.992873191833496, loss_im -0.038707733154296875, loss_ad_global 0.7471074461936951, loss_ad_local 0.7418088912963867\n",
            "loss_clc 3.0082616806030273, loss_im -0.04071617126464844, loss_ad_global 0.7187426090240479, loss_ad_local 0.8043612241744995\n",
            "loss_clc 2.991398572921753, loss_im -0.039838314056396484, loss_ad_global 0.7960202693939209, loss_ad_local 0.7589101791381836\n",
            "loss_clc 2.7586514949798584, loss_im -0.03526735305786133, loss_ad_global 0.7900140285491943, loss_ad_local 0.7257128357887268\n",
            "loss_clc 3.1129796504974365, loss_im -0.039659976959228516, loss_ad_global 0.7233421802520752, loss_ad_local 0.73774653673172\n",
            "loss_clc 2.973737955093384, loss_im -0.03160667419433594, loss_ad_global 0.7261947989463806, loss_ad_local 0.7507712841033936\n",
            "loss_clc 2.830021619796753, loss_im -0.0366520881652832, loss_ad_global 0.6327887773513794, loss_ad_local 0.7595992088317871\n",
            "loss_clc 3.266690492630005, loss_im -0.04423379898071289, loss_ad_global 0.7808811664581299, loss_ad_local 0.7051528692245483\n",
            "loss_clc 2.832016706466675, loss_im -0.040657997131347656, loss_ad_global 0.7712949514389038, loss_ad_local 0.69959557056427\n",
            "loss_clc 3.1713671684265137, loss_im -0.042037010192871094, loss_ad_global 0.8269824981689453, loss_ad_local 0.7030841112136841\n",
            "loss_clc 2.993724822998047, loss_im -0.03614330291748047, loss_ad_global 0.7028670907020569, loss_ad_local 0.7245697379112244\n",
            "loss_clc 3.172861337661743, loss_im -0.029155731201171875, loss_ad_global 0.7622038125991821, loss_ad_local 0.7158416509628296\n"
          ]
        },
        {
          "output_type": "stream",
          "name": "stderr",
          "text": [
            "Validating... (loss=2.97623): 100%|| 50/50 [00:07<00:00,  6.72it/s]\n"
          ]
        },
        {
          "output_type": "stream",
          "name": "stdout",
          "text": [
            "loss_clc 2.857720136642456, loss_im -0.0645761489868164, loss_ad_global 0.7097897529602051, loss_ad_local 0.7425227165222168\n",
            "loss_clc 3.074047565460205, loss_im -0.035607337951660156, loss_ad_global 0.8132882118225098, loss_ad_local 0.7267452478408813\n",
            "loss_clc 2.757049798965454, loss_im -0.035442352294921875, loss_ad_global 0.7409690618515015, loss_ad_local 0.6931533217430115\n",
            "loss_clc 3.055861234664917, loss_im -0.06831741333007812, loss_ad_global 0.6830545663833618, loss_ad_local 0.7347097992897034\n",
            "loss_clc 2.6858599185943604, loss_im -0.040192604064941406, loss_ad_global 0.7372562885284424, loss_ad_local 0.7458535432815552\n",
            "loss_clc 2.9320285320281982, loss_im -0.04529428482055664, loss_ad_global 0.7134052515029907, loss_ad_local 0.701143741607666\n",
            "loss_clc 3.0055339336395264, loss_im -0.053394317626953125, loss_ad_global 0.7186660170555115, loss_ad_local 0.7095403075218201\n",
            "loss_clc 2.941225051879883, loss_im -0.04729127883911133, loss_ad_global 0.7748613953590393, loss_ad_local 0.7172123789787292\n",
            "loss_clc 2.7159831523895264, loss_im -0.044033050537109375, loss_ad_global 0.756729006767273, loss_ad_local 0.7006029486656189\n",
            "loss_clc 2.573667526245117, loss_im -0.0654759407043457, loss_ad_global 0.6668006777763367, loss_ad_local 0.7504677772521973\n",
            "loss_clc 2.983161449432373, loss_im -0.06513690948486328, loss_ad_global 0.7936657667160034, loss_ad_local 0.7302646636962891\n",
            "loss_clc 2.785444974899292, loss_im -0.06079435348510742, loss_ad_global 0.7068344354629517, loss_ad_local 0.7495698928833008\n",
            "loss_clc 2.4818806648254395, loss_im -0.06608200073242188, loss_ad_global 0.7132115960121155, loss_ad_local 0.713390588760376\n",
            "loss_clc 2.6079752445220947, loss_im -0.0811924934387207, loss_ad_global 0.6921960711479187, loss_ad_local 0.7553455829620361\n",
            "loss_clc 2.6343822479248047, loss_im -0.08020830154418945, loss_ad_global 0.7111367583274841, loss_ad_local 0.6853418350219727\n",
            "loss_clc 3.1153922080993652, loss_im -0.11579370498657227, loss_ad_global 0.7154827117919922, loss_ad_local 0.7527785301208496\n",
            "loss_clc 2.640472888946533, loss_im -0.05712413787841797, loss_ad_global 0.7396974563598633, loss_ad_local 0.7476421594619751\n",
            "loss_clc 2.7951457500457764, loss_im -0.10468053817749023, loss_ad_global 0.721572756767273, loss_ad_local 0.7187812924385071\n",
            "loss_clc 2.8308475017547607, loss_im -0.10331535339355469, loss_ad_global 0.7184885144233704, loss_ad_local 0.6882564425468445\n",
            "loss_clc 2.6047534942626953, loss_im -0.11460065841674805, loss_ad_global 0.7003303170204163, loss_ad_local 0.7189728021621704\n"
          ]
        },
        {
          "output_type": "stream",
          "name": "stderr",
          "text": [
            "Validating... (loss=2.50404): 100%|| 50/50 [00:07<00:00,  6.85it/s]\n"
          ]
        },
        {
          "output_type": "stream",
          "name": "stdout",
          "text": [
            "loss_clc 2.8831639289855957, loss_im -0.1182856559753418, loss_ad_global 0.6970362663269043, loss_ad_local 0.7137437462806702\n",
            "loss_clc 2.6718738079071045, loss_im -0.08760261535644531, loss_ad_global 0.6818881034851074, loss_ad_local 0.7162168622016907\n",
            "loss_clc 2.6299335956573486, loss_im -0.08975362777709961, loss_ad_global 0.7371641397476196, loss_ad_local 0.7325068712234497\n",
            "loss_clc 2.76994252204895, loss_im -0.09229564666748047, loss_ad_global 0.6770650148391724, loss_ad_local 0.7622302174568176\n",
            "loss_clc 2.7105698585510254, loss_im -0.0957040786743164, loss_ad_global 0.7058885097503662, loss_ad_local 0.7258103489875793\n",
            "loss_clc 2.8875715732574463, loss_im -0.1266317367553711, loss_ad_global 0.7036898136138916, loss_ad_local 0.7095435261726379\n",
            "loss_clc 2.6228010654449463, loss_im -0.1212000846862793, loss_ad_global 0.721365213394165, loss_ad_local 0.7288744449615479\n",
            "loss_clc 2.5658249855041504, loss_im -0.1280350685119629, loss_ad_global 0.6948305368423462, loss_ad_local 0.7464599013328552\n",
            "loss_clc 2.7344956398010254, loss_im -0.120025634765625, loss_ad_global 0.6995105743408203, loss_ad_local 0.7258069515228271\n",
            "loss_clc 2.7963430881500244, loss_im -0.11767721176147461, loss_ad_global 0.7167057991027832, loss_ad_local 0.7110555171966553\n",
            "loss_clc 2.660398483276367, loss_im -0.09629201889038086, loss_ad_global 0.6924269199371338, loss_ad_local 0.6952782273292542\n",
            "loss_clc 2.6731340885162354, loss_im -0.10263586044311523, loss_ad_global 0.680449366569519, loss_ad_local 0.6952544450759888\n",
            "loss_clc 2.691922903060913, loss_im -0.09580850601196289, loss_ad_global 0.7118479013442993, loss_ad_local 0.7350224852561951\n",
            "loss_clc 2.638970136642456, loss_im -0.10757303237915039, loss_ad_global 0.6952481269836426, loss_ad_local 0.702727735042572\n",
            "loss_clc 2.5631213188171387, loss_im -0.1254291534423828, loss_ad_global 0.7189562320709229, loss_ad_local 0.7165369391441345\n",
            "loss_clc 2.615586996078491, loss_im -0.10111618041992188, loss_ad_global 0.7015539407730103, loss_ad_local 0.7046693563461304\n",
            "loss_clc 2.4406158924102783, loss_im -0.1261143684387207, loss_ad_global 0.689487099647522, loss_ad_local 0.7337536811828613\n",
            "loss_clc 2.8237576484680176, loss_im -0.1457529067993164, loss_ad_global 0.7000420689582825, loss_ad_local 0.7169815301895142\n",
            "loss_clc 2.668968677520752, loss_im -0.13796520233154297, loss_ad_global 0.6889092326164246, loss_ad_local 0.7369368076324463\n",
            "loss_clc 2.8688104152679443, loss_im -0.11261558532714844, loss_ad_global 0.6914761066436768, loss_ad_local 0.7305163145065308\n"
          ]
        },
        {
          "output_type": "stream",
          "name": "stderr",
          "text": [
            "Validating... (loss=2.65210): 100%|| 50/50 [00:07<00:00,  6.60it/s]\n"
          ]
        },
        {
          "output_type": "stream",
          "name": "stdout",
          "text": [
            "loss_clc 2.545522928237915, loss_im -0.1153726577758789, loss_ad_global 0.6838378310203552, loss_ad_local 0.7458904981613159\n",
            "loss_clc 2.596015214920044, loss_im -0.09922361373901367, loss_ad_global 0.6912696361541748, loss_ad_local 0.722545325756073\n",
            "loss_clc 2.8138065338134766, loss_im -0.08472204208374023, loss_ad_global 0.708762526512146, loss_ad_local 0.7344266176223755\n",
            "loss_clc 2.7919301986694336, loss_im -0.09691810607910156, loss_ad_global 0.7095720171928406, loss_ad_local 0.6894447207450867\n",
            "loss_clc 2.794484853744507, loss_im -0.09834003448486328, loss_ad_global 0.6952180862426758, loss_ad_local 0.7159703969955444\n",
            "loss_clc 2.9091546535491943, loss_im -0.08563852310180664, loss_ad_global 0.6996738910675049, loss_ad_local 0.7237821817398071\n",
            "loss_clc 2.812730550765991, loss_im -0.08463668823242188, loss_ad_global 0.698115348815918, loss_ad_local 0.6961477398872375\n",
            "loss_clc 2.9143660068511963, loss_im -0.0704503059387207, loss_ad_global 0.7006511688232422, loss_ad_local 0.6977869272232056\n",
            "loss_clc 2.8702704906463623, loss_im -0.09032773971557617, loss_ad_global 0.6978562474250793, loss_ad_local 0.723143458366394\n",
            "loss_clc 3.0385844707489014, loss_im -0.06501579284667969, loss_ad_global 0.7045779228210449, loss_ad_local 0.7219057083129883\n",
            "loss_clc 2.6418306827545166, loss_im -0.09136104583740234, loss_ad_global 0.6954569816589355, loss_ad_local 0.7594504952430725\n",
            "loss_clc 2.928473711013794, loss_im -0.08058929443359375, loss_ad_global 0.6985021829605103, loss_ad_local 0.7276096940040588\n",
            "loss_clc 2.8905701637268066, loss_im -0.06767606735229492, loss_ad_global 0.6772914528846741, loss_ad_local 0.7119126319885254\n",
            "loss_clc 2.8457229137420654, loss_im -0.08988332748413086, loss_ad_global 0.6872851848602295, loss_ad_local 0.711585521697998\n",
            "loss_clc 2.8058652877807617, loss_im -0.07268142700195312, loss_ad_global 0.6922146081924438, loss_ad_local 0.704659104347229\n",
            "loss_clc 2.9618043899536133, loss_im -0.06332969665527344, loss_ad_global 0.6973433494567871, loss_ad_local 0.7028169631958008\n",
            "loss_clc 2.8185319900512695, loss_im -0.05687570571899414, loss_ad_global 0.6874514818191528, loss_ad_local 0.7041718363761902\n",
            "loss_clc 3.089198112487793, loss_im -0.06459522247314453, loss_ad_global 0.6927834749221802, loss_ad_local 0.7157102823257446\n",
            "loss_clc 2.910402774810791, loss_im -0.032238006591796875, loss_ad_global 0.6894650459289551, loss_ad_local 0.7112671732902527\n",
            "loss_clc 2.901611328125, loss_im -0.05108785629272461, loss_ad_global 0.7043433785438538, loss_ad_local 0.6993626356124878\n"
          ]
        },
        {
          "output_type": "stream",
          "name": "stderr",
          "text": [
            "Validating... (loss=3.17707): 100%|| 50/50 [00:07<00:00,  6.83it/s]\n"
          ]
        },
        {
          "output_type": "stream",
          "name": "stdout",
          "text": [
            "loss_clc 2.938983678817749, loss_im -0.06171274185180664, loss_ad_global 0.6863174438476562, loss_ad_local 0.7148663997650146\n",
            "loss_clc 3.0285868644714355, loss_im -0.061040401458740234, loss_ad_global 0.692138135433197, loss_ad_local 0.7097090482711792\n",
            "loss_clc 3.103281021118164, loss_im -0.044806480407714844, loss_ad_global 0.6881771683692932, loss_ad_local 0.7191499471664429\n",
            "loss_clc 3.0438618659973145, loss_im -0.03791236877441406, loss_ad_global 0.6961540579795837, loss_ad_local 0.7007851600646973\n",
            "loss_clc 3.0380733013153076, loss_im -0.03943634033203125, loss_ad_global 0.700713574886322, loss_ad_local 0.7262527942657471\n",
            "loss_clc 3.1729021072387695, loss_im -0.0350494384765625, loss_ad_global 0.6943023204803467, loss_ad_local 0.7152175903320312\n",
            "loss_clc 3.185471773147583, loss_im -0.03698873519897461, loss_ad_global 0.695846676826477, loss_ad_local 0.6979734897613525\n",
            "loss_clc 3.080793619155884, loss_im -0.05807161331176758, loss_ad_global 0.6985421776771545, loss_ad_local 0.7212733030319214\n",
            "loss_clc 3.1215429306030273, loss_im -0.03972148895263672, loss_ad_global 0.7040797472000122, loss_ad_local 0.7247589826583862\n",
            "loss_clc 3.2029056549072266, loss_im -0.016020774841308594, loss_ad_global 0.7032456994056702, loss_ad_local 0.7050073146820068\n",
            "loss_clc 3.046367883682251, loss_im -0.03779935836791992, loss_ad_global 0.6929081678390503, loss_ad_local 0.6787087917327881\n",
            "loss_clc 3.1765315532684326, loss_im -0.018672943115234375, loss_ad_global 0.6887364387512207, loss_ad_local 0.706764817237854\n",
            "loss_clc 3.1960887908935547, loss_im -0.024035930633544922, loss_ad_global 0.6882901787757874, loss_ad_local 0.7191125750541687\n",
            "loss_clc 3.238858699798584, loss_im -0.04254913330078125, loss_ad_global 0.6947739124298096, loss_ad_local 0.7224734425544739\n",
            "loss_clc 3.172548770904541, loss_im -0.035080909729003906, loss_ad_global 0.6939871311187744, loss_ad_local 0.7024938464164734\n",
            "loss_clc 3.0843193531036377, loss_im -0.020825862884521484, loss_ad_global 0.6901463866233826, loss_ad_local 0.6940939426422119\n",
            "loss_clc 3.1260671615600586, loss_im -0.026386737823486328, loss_ad_global 0.6855933666229248, loss_ad_local 0.7004151344299316\n",
            "loss_clc 3.3236730098724365, loss_im -0.059426307678222656, loss_ad_global 0.67903733253479, loss_ad_local 0.7125969529151917\n",
            "loss_clc 3.1518445014953613, loss_im -0.044217586517333984, loss_ad_global 0.6979254484176636, loss_ad_local 0.7146457433700562\n",
            "loss_clc 3.2835450172424316, loss_im -0.0408015251159668, loss_ad_global 0.6827570199966431, loss_ad_local 0.7171125411987305\n"
          ]
        },
        {
          "output_type": "stream",
          "name": "stderr",
          "text": [
            "Validating... (loss=3.41561): 100%|| 50/50 [00:07<00:00,  6.78it/s]\n"
          ]
        },
        {
          "output_type": "stream",
          "name": "stdout",
          "text": [
            "loss_clc 3.1813464164733887, loss_im -0.012555599212646484, loss_ad_global 0.689966082572937, loss_ad_local 0.7195988893508911\n",
            "loss_clc 3.3384969234466553, loss_im -0.0032062530517578125, loss_ad_global 0.688285768032074, loss_ad_local 0.7251691818237305\n",
            "loss_clc 3.3507518768310547, loss_im -0.006422996520996094, loss_ad_global 0.7111474275588989, loss_ad_local 0.6998697519302368\n",
            "loss_clc 3.207334518432617, loss_im -0.02197122573852539, loss_ad_global 0.6880913972854614, loss_ad_local 0.709223747253418\n",
            "loss_clc 3.4173338413238525, loss_im -0.0003719329833984375, loss_ad_global 0.6940629482269287, loss_ad_local 0.7119166851043701\n",
            "loss_clc 3.2571449279785156, loss_im -0.0004210472106933594, loss_ad_global 0.6939830780029297, loss_ad_local 0.7306393384933472\n",
            "loss_clc 3.42948055267334, loss_im -0.009735584259033203, loss_ad_global 0.6934584975242615, loss_ad_local 0.7290302515029907\n",
            "loss_clc 3.421081066131592, loss_im -0.004511833190917969, loss_ad_global 0.6943178176879883, loss_ad_local 0.7226959466934204\n",
            "loss_clc 3.4598212242126465, loss_im -0.0036764144897460938, loss_ad_global 0.6946624517440796, loss_ad_local 0.7237503528594971\n",
            "loss_clc 3.4205427169799805, loss_im -0.0026521682739257812, loss_ad_global 0.6933869123458862, loss_ad_local 0.7184633016586304\n",
            "loss_clc 3.4253768920898438, loss_im -0.0030660629272460938, loss_ad_global 0.6948732137680054, loss_ad_local 0.7124276161193848\n",
            "loss_clc 3.4293766021728516, loss_im -0.00016498565673828125, loss_ad_global 0.6965973377227783, loss_ad_local 0.7186137437820435\n",
            "loss_clc 3.4224367141723633, loss_im -0.0004076957702636719, loss_ad_global 0.6993064880371094, loss_ad_local 0.7113520503044128\n",
            "loss_clc 3.4238317012786865, loss_im -5.1975250244140625e-05, loss_ad_global 0.6904839277267456, loss_ad_local 0.7163523435592651\n",
            "loss_clc 3.46661114692688, loss_im -3.5762786865234375e-05, loss_ad_global 0.6975348591804504, loss_ad_local 0.7088019847869873\n",
            "loss_clc 3.4564716815948486, loss_im -4.4345855712890625e-05, loss_ad_global 0.6976131200790405, loss_ad_local 0.7142638564109802\n",
            "loss_clc 3.458440065383911, loss_im -4.6253204345703125e-05, loss_ad_global 0.6933034658432007, loss_ad_local 0.7265722751617432\n",
            "loss_clc 3.4173121452331543, loss_im -2.193450927734375e-05, loss_ad_global 0.6899494528770447, loss_ad_local 0.7122762203216553\n",
            "loss_clc 3.4295175075531006, loss_im -1.0967254638671875e-05, loss_ad_global 0.6932426691055298, loss_ad_local 0.7129554748535156\n",
            "loss_clc 3.423693895339966, loss_im -1.3828277587890625e-05, loss_ad_global 0.6927686929702759, loss_ad_local 0.7252235412597656\n"
          ]
        },
        {
          "output_type": "stream",
          "name": "stderr",
          "text": [
            "Validating... (loss=3.44781): 100%|| 50/50 [00:07<00:00,  6.87it/s]\n"
          ]
        },
        {
          "output_type": "stream",
          "name": "stdout",
          "text": [
            "loss_clc 3.427753448486328, loss_im -1.0013580322265625e-05, loss_ad_global 0.6908036470413208, loss_ad_local 0.709815502166748\n",
            "loss_clc 3.469008207321167, loss_im -1.33514404296875e-05, loss_ad_global 0.6932613253593445, loss_ad_local 0.7317702770233154\n",
            "loss_clc 3.4882493019104004, loss_im -1.6689300537109375e-05, loss_ad_global 0.6944715976715088, loss_ad_local 0.7312225103378296\n",
            "loss_clc 3.4040632247924805, loss_im -1.0967254638671875e-05, loss_ad_global 0.6929696798324585, loss_ad_local 0.7136329412460327\n",
            "loss_clc 3.4090068340301514, loss_im -1.049041748046875e-05, loss_ad_global 0.6941471695899963, loss_ad_local 0.7262557148933411\n",
            "loss_clc 3.4216365814208984, loss_im -1.049041748046875e-05, loss_ad_global 0.6919682025909424, loss_ad_local 0.703190803527832\n",
            "loss_clc 3.4367973804473877, loss_im -9.5367431640625e-06, loss_ad_global 0.6921137571334839, loss_ad_local 0.7171174883842468\n",
            "loss_clc 3.424887180328369, loss_im -7.152557373046875e-06, loss_ad_global 0.6943304538726807, loss_ad_local 0.7206689119338989\n",
            "loss_clc 3.4283335208892822, loss_im -7.62939453125e-06, loss_ad_global 0.6945277452468872, loss_ad_local 0.7249668836593628\n",
            "loss_clc 3.462167501449585, loss_im -7.62939453125e-06, loss_ad_global 0.6926587820053101, loss_ad_local 0.7234487533569336\n",
            "loss_clc 3.3855998516082764, loss_im -5.245208740234375e-06, loss_ad_global 0.6942442655563354, loss_ad_local 0.7273519039154053\n",
            "loss_clc 3.39790940284729, loss_im -1.430511474609375e-05, loss_ad_global 0.6938835382461548, loss_ad_local 0.7223491668701172\n",
            "loss_clc 3.4032883644104004, loss_im -8.58306884765625e-06, loss_ad_global 0.6948514580726624, loss_ad_local 0.7302768230438232\n",
            "loss_clc 3.4197604656219482, loss_im -9.059906005859375e-06, loss_ad_global 0.6924228072166443, loss_ad_local 0.7457044124603271\n",
            "loss_clc 3.4396350383758545, loss_im -5.245208740234375e-06, loss_ad_global 0.6949626803398132, loss_ad_local 0.7228385806083679\n",
            "loss_clc 3.479252815246582, loss_im -5.245208740234375e-06, loss_ad_global 0.6951448321342468, loss_ad_local 0.7290103435516357\n",
            "loss_clc 3.415616512298584, loss_im -2.86102294921875e-06, loss_ad_global 0.6931038498878479, loss_ad_local 0.7158864736557007\n",
            "loss_clc 3.4312407970428467, loss_im -9.5367431640625e-07, loss_ad_global 0.690161943435669, loss_ad_local 0.7114602327346802\n",
            "loss_clc 3.421267032623291, loss_im -9.5367431640625e-07, loss_ad_global 0.6945221424102783, loss_ad_local 0.7275762557983398\n",
            "loss_clc 3.4484949111938477, loss_im -4.76837158203125e-07, loss_ad_global 0.6938788890838623, loss_ad_local 0.7333041429519653\n"
          ]
        },
        {
          "output_type": "stream",
          "name": "stderr",
          "text": [
            "Validating... (loss=3.39955): 100%|| 50/50 [00:07<00:00,  6.84it/s]\n"
          ]
        },
        {
          "output_type": "stream",
          "name": "stdout",
          "text": [
            "loss_clc 3.4445621967315674, loss_im -9.5367431640625e-07, loss_ad_global 0.6916636228561401, loss_ad_local 0.7191154360771179\n",
            "loss_clc 3.439985752105713, loss_im -4.76837158203125e-07, loss_ad_global 0.6931430697441101, loss_ad_local 0.7353867888450623\n",
            "loss_clc 3.4637069702148438, loss_im -9.5367431640625e-07, loss_ad_global 0.6934502720832825, loss_ad_local 0.7304362058639526\n",
            "loss_clc 3.4515461921691895, loss_im 0.0, loss_ad_global 0.6923019886016846, loss_ad_local 0.7300645112991333\n",
            "loss_clc 3.386767625808716, loss_im 0.0, loss_ad_global 0.6930897235870361, loss_ad_local 0.7295018434524536\n",
            "loss_clc 3.429352045059204, loss_im -4.76837158203125e-07, loss_ad_global 0.6941002607345581, loss_ad_local 0.721785843372345\n",
            "loss_clc 3.4164505004882812, loss_im 0.0, loss_ad_global 0.6941182613372803, loss_ad_local 0.7352566123008728\n",
            "loss_clc 3.417681932449341, loss_im 0.0, loss_ad_global 0.6938114762306213, loss_ad_local 0.7047587037086487\n",
            "loss_clc 3.4249372482299805, loss_im -4.76837158203125e-07, loss_ad_global 0.692101001739502, loss_ad_local 0.7067480087280273\n",
            "loss_clc 3.39990496635437, loss_im -4.76837158203125e-07, loss_ad_global 0.6929941177368164, loss_ad_local 0.7216248512268066\n",
            "loss_clc 3.4155960083007812, loss_im -9.5367431640625e-07, loss_ad_global 0.6929966807365417, loss_ad_local 0.7255202531814575\n",
            "loss_clc 3.3859057426452637, loss_im -4.76837158203125e-06, loss_ad_global 0.69328773021698, loss_ad_local 0.7297258377075195\n",
            "loss_clc 3.3984735012054443, loss_im -3.814697265625e-06, loss_ad_global 0.6906557083129883, loss_ad_local 0.7135239839553833\n",
            "loss_clc 3.510283946990967, loss_im -1.1920928955078125e-05, loss_ad_global 0.6937650442123413, loss_ad_local 0.7067647576332092\n",
            "loss_clc 3.4843318462371826, loss_im -2.86102294921875e-06, loss_ad_global 0.6910910606384277, loss_ad_local 0.7261534929275513\n",
            "loss_clc 3.4300169944763184, loss_im -4.291534423828125e-06, loss_ad_global 0.694156289100647, loss_ad_local 0.714216947555542\n",
            "loss_clc 3.4366869926452637, loss_im -9.5367431640625e-07, loss_ad_global 0.69215989112854, loss_ad_local 0.7352524995803833\n",
            "loss_clc 3.4701344966888428, loss_im -1.9073486328125e-06, loss_ad_global 0.6946107149124146, loss_ad_local 0.7297810316085815\n",
            "loss_clc 3.4231934547424316, loss_im -4.76837158203125e-07, loss_ad_global 0.6936331987380981, loss_ad_local 0.726586103439331\n",
            "loss_clc 3.47464656829834, loss_im 0.0, loss_ad_global 0.6933658719062805, loss_ad_local 0.7232101559638977\n"
          ]
        },
        {
          "output_type": "stream",
          "name": "stderr",
          "text": [
            "Validating... (loss=3.46327): 100%|| 50/50 [00:07<00:00,  6.77it/s]\n"
          ]
        },
        {
          "output_type": "stream",
          "name": "stdout",
          "text": [
            "loss_clc 3.394535779953003, loss_im 0.0, loss_ad_global 0.6924726963043213, loss_ad_local 0.726673424243927\n",
            "loss_clc 3.448503017425537, loss_im 0.0, loss_ad_global 0.6929280161857605, loss_ad_local 0.7337161302566528\n",
            "loss_clc 3.434969902038574, loss_im 0.0, loss_ad_global 0.6934093832969666, loss_ad_local 0.7150871753692627\n",
            "loss_clc 3.430217981338501, loss_im -4.76837158203125e-07, loss_ad_global 0.6929334402084351, loss_ad_local 0.7204501628875732\n",
            "loss_clc 3.463623046875, loss_im -4.76837158203125e-07, loss_ad_global 0.6926606893539429, loss_ad_local 0.7237218022346497\n",
            "loss_clc 3.420173168182373, loss_im 0.0, loss_ad_global 0.693088948726654, loss_ad_local 0.7183261513710022\n",
            "loss_clc 3.4258360862731934, loss_im 0.0, loss_ad_global 0.6932083964347839, loss_ad_local 0.7300745844841003\n",
            "loss_clc 3.485086441040039, loss_im 0.0, loss_ad_global 0.6927418112754822, loss_ad_local 0.7184034585952759\n",
            "loss_clc 3.433922529220581, loss_im 0.0, loss_ad_global 0.6932876110076904, loss_ad_local 0.7291327714920044\n",
            "loss_clc 3.4374754428863525, loss_im -4.76837158203125e-07, loss_ad_global 0.6935732364654541, loss_ad_local 0.7172023057937622\n",
            "loss_clc 3.455101728439331, loss_im -4.76837158203125e-07, loss_ad_global 0.6929733753204346, loss_ad_local 0.7283742427825928\n",
            "loss_clc 3.4434289932250977, loss_im -4.76837158203125e-07, loss_ad_global 0.6928335428237915, loss_ad_local 0.7175538539886475\n",
            "loss_clc 3.4540843963623047, loss_im 4.76837158203125e-07, loss_ad_global 0.6933813691139221, loss_ad_local 0.7195178866386414\n",
            "loss_clc 3.4558756351470947, loss_im 0.0, loss_ad_global 0.6930019855499268, loss_ad_local 0.7120554447174072\n",
            "loss_clc 3.4255709648132324, loss_im -9.5367431640625e-07, loss_ad_global 0.6929780840873718, loss_ad_local 0.7238692045211792\n",
            "loss_clc 3.410897970199585, loss_im -4.76837158203125e-07, loss_ad_global 0.6930040717124939, loss_ad_local 0.7323052883148193\n",
            "loss_clc 3.4450676441192627, loss_im -9.5367431640625e-07, loss_ad_global 0.6928870677947998, loss_ad_local 0.7201175689697266\n",
            "loss_clc 3.4414358139038086, loss_im -1.430511474609375e-06, loss_ad_global 0.69291090965271, loss_ad_local 0.7148751020431519\n",
            "loss_clc 3.410872220993042, loss_im -6.198883056640625e-06, loss_ad_global 0.6928430795669556, loss_ad_local 0.7285324335098267\n",
            "loss_clc 3.376278877258301, loss_im -8.58306884765625e-06, loss_ad_global 0.6933180093765259, loss_ad_local 0.7285187244415283\n"
          ]
        },
        {
          "output_type": "stream",
          "name": "stderr",
          "text": [
            "Validating... (loss=3.45859): 100%|| 50/50 [00:07<00:00,  6.82it/s]\n"
          ]
        },
        {
          "output_type": "stream",
          "name": "stdout",
          "text": [
            "loss_clc 3.451878309249878, loss_im -3.0517578125e-05, loss_ad_global 0.692721426486969, loss_ad_local 0.722038745880127\n",
            "loss_clc 3.4401793479919434, loss_im -4.482269287109375e-05, loss_ad_global 0.6949673295021057, loss_ad_local 0.724094033241272\n",
            "loss_clc 3.468085527420044, loss_im -5.435943603515625e-05, loss_ad_global 0.6951897740364075, loss_ad_local 0.7193939685821533\n",
            "loss_clc 3.4409337043762207, loss_im -1.2874603271484375e-05, loss_ad_global 0.6929177045822144, loss_ad_local 0.7204576134681702\n",
            "loss_clc 3.4641878604888916, loss_im -1.9073486328125e-06, loss_ad_global 0.6932534575462341, loss_ad_local 0.7258308529853821\n",
            "loss_clc 3.4157843589782715, loss_im 0.0, loss_ad_global 0.693067193031311, loss_ad_local 0.7285594940185547\n",
            "loss_clc 3.426858425140381, loss_im 0.0, loss_ad_global 0.6932191252708435, loss_ad_local 0.7242730855941772\n",
            "loss_clc 3.43861722946167, loss_im -4.76837158203125e-07, loss_ad_global 0.6929528117179871, loss_ad_local 0.7182841300964355\n",
            "loss_clc 3.4416630268096924, loss_im 0.0, loss_ad_global 0.6934221982955933, loss_ad_local 0.7205974459648132\n",
            "loss_clc 3.420973300933838, loss_im 0.0, loss_ad_global 0.693050742149353, loss_ad_local 0.7212864756584167\n",
            "loss_clc 3.4523046016693115, loss_im 0.0, loss_ad_global 0.6933144330978394, loss_ad_local 0.7169075608253479\n",
            "loss_clc 3.4615392684936523, loss_im 0.0, loss_ad_global 0.6930771470069885, loss_ad_local 0.7216180562973022\n",
            "loss_clc 3.4203035831451416, loss_im -4.76837158203125e-07, loss_ad_global 0.6933815479278564, loss_ad_local 0.7137935757637024\n",
            "loss_clc 3.4405956268310547, loss_im 0.0, loss_ad_global 0.692626953125, loss_ad_local 0.7201515436172485\n",
            "loss_clc 3.426459312438965, loss_im 0.0, loss_ad_global 0.6932685971260071, loss_ad_local 0.7195945978164673\n",
            "loss_clc 3.411240816116333, loss_im 0.0, loss_ad_global 0.6930700540542603, loss_ad_local 0.7227283716201782\n",
            "loss_clc 3.4474594593048096, loss_im 0.0, loss_ad_global 0.6932503581047058, loss_ad_local 0.7213951349258423\n",
            "loss_clc 3.4335484504699707, loss_im 0.0, loss_ad_global 0.6930882334709167, loss_ad_local 0.7244455218315125\n",
            "loss_clc 3.406280279159546, loss_im 0.0, loss_ad_global 0.6931735277175903, loss_ad_local 0.721415102481842\n",
            "loss_clc 3.457505464553833, loss_im 0.0, loss_ad_global 0.6932141780853271, loss_ad_local 0.7359573841094971\n"
          ]
        },
        {
          "output_type": "stream",
          "name": "stderr",
          "text": [
            "Validating... (loss=3.41801): 100%|| 50/50 [00:07<00:00,  6.75it/s]\n"
          ]
        },
        {
          "output_type": "stream",
          "name": "stdout",
          "text": [
            "loss_clc 3.425929307937622, loss_im 0.0, loss_ad_global 0.6930627822875977, loss_ad_local 0.7204673290252686\n",
            "loss_clc 3.456528425216675, loss_im 4.76837158203125e-07, loss_ad_global 0.693585216999054, loss_ad_local 0.7184389233589172\n",
            "loss_clc 3.442606210708618, loss_im 0.0, loss_ad_global 0.693469762802124, loss_ad_local 0.7273004055023193\n",
            "loss_clc 3.41324520111084, loss_im -4.76837158203125e-07, loss_ad_global 0.6931899785995483, loss_ad_local 0.7286199331283569\n",
            "loss_clc 3.42799711227417, loss_im 0.0, loss_ad_global 0.6931959390640259, loss_ad_local 0.7217737436294556\n",
            "loss_clc 3.4499337673187256, loss_im 0.0, loss_ad_global 0.6930713057518005, loss_ad_local 0.7222481966018677\n",
            "loss_clc 3.435403347015381, loss_im 0.0, loss_ad_global 0.6930714249610901, loss_ad_local 0.7149825692176819\n",
            "loss_clc 3.4589474201202393, loss_im 0.0, loss_ad_global 0.6931172609329224, loss_ad_local 0.7164201736450195\n",
            "loss_clc 3.431504011154175, loss_im 0.0, loss_ad_global 0.6931825280189514, loss_ad_local 0.7290726900100708\n",
            "loss_clc 3.4215729236602783, loss_im 0.0, loss_ad_global 0.6937233805656433, loss_ad_local 0.7245525121688843\n",
            "loss_clc 3.4296059608459473, loss_im 0.0, loss_ad_global 0.6926705837249756, loss_ad_local 0.7121104598045349\n",
            "loss_clc 3.399629592895508, loss_im 0.0, loss_ad_global 0.6933139562606812, loss_ad_local 0.7175500392913818\n",
            "loss_clc 3.469759941101074, loss_im -9.5367431640625e-07, loss_ad_global 0.692891001701355, loss_ad_local 0.7166450023651123\n",
            "loss_clc 3.4140048027038574, loss_im 0.0, loss_ad_global 0.6933244466781616, loss_ad_local 0.7193602919578552\n",
            "loss_clc 3.410719633102417, loss_im 0.0, loss_ad_global 0.6929601430892944, loss_ad_local 0.7250944375991821\n",
            "loss_clc 3.4071826934814453, loss_im -9.5367431640625e-07, loss_ad_global 0.6930395364761353, loss_ad_local 0.72072434425354\n",
            "loss_clc 3.444538116455078, loss_im 0.0, loss_ad_global 0.6935850381851196, loss_ad_local 0.7262142896652222\n",
            "loss_clc 3.431046485900879, loss_im -4.76837158203125e-07, loss_ad_global 0.692939817905426, loss_ad_local 0.7128242254257202\n",
            "loss_clc 3.4328935146331787, loss_im 0.0, loss_ad_global 0.6932135224342346, loss_ad_local 0.7069525718688965\n",
            "loss_clc 3.410945177078247, loss_im 4.76837158203125e-07, loss_ad_global 0.6931187510490417, loss_ad_local 0.7226874828338623\n"
          ]
        },
        {
          "output_type": "stream",
          "name": "stderr",
          "text": [
            "Validating... (loss=3.46580): 100%|| 50/50 [00:07<00:00,  6.82it/s]\n"
          ]
        },
        {
          "output_type": "stream",
          "name": "stdout",
          "text": [
            "loss_clc 3.413541316986084, loss_im 0.0, loss_ad_global 0.6930216550827026, loss_ad_local 0.7236998677253723\n",
            "loss_clc 3.4415078163146973, loss_im 0.0, loss_ad_global 0.6931571960449219, loss_ad_local 0.7109321355819702\n",
            "loss_clc 3.4219021797180176, loss_im 0.0, loss_ad_global 0.6930758953094482, loss_ad_local 0.7214558124542236\n",
            "loss_clc 3.409785032272339, loss_im 0.0, loss_ad_global 0.6931267380714417, loss_ad_local 0.7170952558517456\n",
            "loss_clc 3.4207777976989746, loss_im 0.0, loss_ad_global 0.6932722330093384, loss_ad_local 0.7199487686157227\n",
            "loss_clc 3.4320428371429443, loss_im 0.0, loss_ad_global 0.6937264204025269, loss_ad_local 0.7271126508712769\n",
            "loss_clc 3.4599783420562744, loss_im 0.0, loss_ad_global 0.6932509541511536, loss_ad_local 0.718914270401001\n",
            "loss_clc 3.450045347213745, loss_im 0.0, loss_ad_global 0.6934226751327515, loss_ad_local 0.7221614718437195\n",
            "loss_clc 3.4099326133728027, loss_im 0.0, loss_ad_global 0.6929349899291992, loss_ad_local 0.7190335988998413\n",
            "loss_clc 3.406479597091675, loss_im 0.0, loss_ad_global 0.6932660341262817, loss_ad_local 0.7178815603256226\n",
            "loss_clc 3.422558307647705, loss_im 0.0, loss_ad_global 0.6927775740623474, loss_ad_local 0.7202697396278381\n",
            "loss_clc 3.4249467849731445, loss_im 0.0, loss_ad_global 0.6935315132141113, loss_ad_local 0.7211177945137024\n",
            "loss_clc 3.4409332275390625, loss_im 0.0, loss_ad_global 0.6933751106262207, loss_ad_local 0.7185372710227966\n",
            "loss_clc 3.4602842330932617, loss_im 0.0, loss_ad_global 0.6927978992462158, loss_ad_local 0.7056130170822144\n",
            "loss_clc 3.459218978881836, loss_im -4.76837158203125e-07, loss_ad_global 0.6931087374687195, loss_ad_local 0.7202240228652954\n",
            "loss_clc 3.4757847785949707, loss_im 0.0, loss_ad_global 0.6932423710823059, loss_ad_local 0.7153385877609253\n",
            "loss_clc 3.4091529846191406, loss_im 0.0, loss_ad_global 0.6931017637252808, loss_ad_local 0.7229626178741455\n",
            "loss_clc 3.4615089893341064, loss_im 0.0, loss_ad_global 0.6934255957603455, loss_ad_local 0.7297051548957825\n",
            "loss_clc 3.4122633934020996, loss_im 0.0, loss_ad_global 0.6930366158485413, loss_ad_local 0.713882327079773\n",
            "loss_clc 3.399048089981079, loss_im 0.0, loss_ad_global 0.6928749084472656, loss_ad_local 0.7221245765686035\n"
          ]
        },
        {
          "output_type": "stream",
          "name": "stderr",
          "text": [
            "Validating... (loss=3.43724): 100%|| 50/50 [00:07<00:00,  6.91it/s]\n"
          ]
        },
        {
          "output_type": "stream",
          "name": "stdout",
          "text": [
            "loss_clc 3.474489450454712, loss_im 0.0, loss_ad_global 0.6932703256607056, loss_ad_local 0.719781756401062\n",
            "loss_clc 3.45180082321167, loss_im 0.0, loss_ad_global 0.6929804086685181, loss_ad_local 0.7196043729782104\n",
            "loss_clc 3.423717737197876, loss_im 0.0, loss_ad_global 0.6933404207229614, loss_ad_local 0.7160984873771667\n",
            "loss_clc 3.415654182434082, loss_im 0.0, loss_ad_global 0.6932008266448975, loss_ad_local 0.7211421728134155\n",
            "loss_clc 3.4290881156921387, loss_im 0.0, loss_ad_global 0.6934208273887634, loss_ad_local 0.7176980972290039\n",
            "loss_clc 3.3778131008148193, loss_im 0.0, loss_ad_global 0.6933858394622803, loss_ad_local 0.7169317007064819\n",
            "loss_clc 3.459533214569092, loss_im 0.0, loss_ad_global 0.6936612725257874, loss_ad_local 0.7228315472602844\n",
            "loss_clc 3.4071547985076904, loss_im 0.0, loss_ad_global 0.6932765245437622, loss_ad_local 0.7287709712982178\n",
            "loss_clc 3.4712369441986084, loss_im 0.0, loss_ad_global 0.6933048963546753, loss_ad_local 0.7230280637741089\n",
            "loss_clc 3.421912908554077, loss_im 0.0, loss_ad_global 0.6931002736091614, loss_ad_local 0.731295108795166\n",
            "loss_clc 3.414443254470825, loss_im 0.0, loss_ad_global 0.6929379105567932, loss_ad_local 0.7248878479003906\n",
            "loss_clc 3.451476812362671, loss_im 0.0, loss_ad_global 0.693187952041626, loss_ad_local 0.7136272192001343\n",
            "loss_clc 3.4545834064483643, loss_im 0.0, loss_ad_global 0.6931867003440857, loss_ad_local 0.7255038022994995\n",
            "loss_clc 3.4491119384765625, loss_im 0.0, loss_ad_global 0.693518877029419, loss_ad_local 0.718047559261322\n",
            "loss_clc 3.4083728790283203, loss_im 0.0, loss_ad_global 0.6930533647537231, loss_ad_local 0.7286664843559265\n",
            "loss_clc 3.4317378997802734, loss_im 0.0, loss_ad_global 0.6932281851768494, loss_ad_local 0.7152765393257141\n",
            "loss_clc 3.4028916358947754, loss_im 0.0, loss_ad_global 0.6929845809936523, loss_ad_local 0.7168476581573486\n",
            "loss_clc 3.4185781478881836, loss_im 0.0, loss_ad_global 0.6931047439575195, loss_ad_local 0.7209059000015259\n",
            "loss_clc 3.407984495162964, loss_im 0.0, loss_ad_global 0.6931056976318359, loss_ad_local 0.7184320092201233\n",
            "loss_clc 3.4483535289764404, loss_im 0.0, loss_ad_global 0.6930667757987976, loss_ad_local 0.7143811583518982\n"
          ]
        },
        {
          "output_type": "stream",
          "name": "stderr",
          "text": [
            "Validating... (loss=3.43218): 100%|| 50/50 [00:07<00:00,  6.67it/s]\n"
          ]
        },
        {
          "output_type": "stream",
          "name": "stdout",
          "text": [
            "loss_clc 3.463951826095581, loss_im 0.0, loss_ad_global 0.6931103467941284, loss_ad_local 0.7139829397201538\n",
            "loss_clc 3.424565315246582, loss_im 0.0, loss_ad_global 0.6932471394538879, loss_ad_local 0.7241783142089844\n",
            "loss_clc 3.4446918964385986, loss_im 0.0, loss_ad_global 0.6933071613311768, loss_ad_local 0.7215903997421265\n",
            "loss_clc 3.4415502548217773, loss_im 0.0, loss_ad_global 0.6932343244552612, loss_ad_local 0.7231225967407227\n",
            "loss_clc 3.4252445697784424, loss_im 0.0, loss_ad_global 0.6929837465286255, loss_ad_local 0.7263785004615784\n",
            "loss_clc 3.4301488399505615, loss_im 0.0, loss_ad_global 0.6931952834129333, loss_ad_local 0.7173867225646973\n",
            "loss_clc 3.4144444465637207, loss_im 0.0, loss_ad_global 0.6931477189064026, loss_ad_local 0.7153154611587524\n",
            "loss_clc 3.452749729156494, loss_im 0.0, loss_ad_global 0.6930684447288513, loss_ad_local 0.7167945504188538\n",
            "loss_clc 3.468512535095215, loss_im 0.0, loss_ad_global 0.6931657791137695, loss_ad_local 0.722941517829895\n",
            "loss_clc 3.429119825363159, loss_im 0.0, loss_ad_global 0.6932432651519775, loss_ad_local 0.7171761393547058\n",
            "loss_clc 3.4034440517425537, loss_im 0.0, loss_ad_global 0.6929737329483032, loss_ad_local 0.721893846988678\n",
            "loss_clc 3.4363536834716797, loss_im 0.0, loss_ad_global 0.6932340860366821, loss_ad_local 0.7122581601142883\n",
            "loss_clc 3.4548001289367676, loss_im 0.0, loss_ad_global 0.6931723952293396, loss_ad_local 0.7246130108833313\n",
            "loss_clc 3.4506447315216064, loss_im 0.0, loss_ad_global 0.6930278539657593, loss_ad_local 0.7225489616394043\n",
            "loss_clc 3.4183573722839355, loss_im 0.0, loss_ad_global 0.6932907104492188, loss_ad_local 0.7215064764022827\n",
            "loss_clc 3.4140729904174805, loss_im 0.0, loss_ad_global 0.6930052042007446, loss_ad_local 0.7233614325523376\n",
            "loss_clc 3.4217352867126465, loss_im 0.0, loss_ad_global 0.6929832696914673, loss_ad_local 0.7194138765335083\n",
            "loss_clc 3.4284462928771973, loss_im 0.0, loss_ad_global 0.6930955648422241, loss_ad_local 0.7169134616851807\n",
            "loss_clc 3.4367661476135254, loss_im 0.0, loss_ad_global 0.693190336227417, loss_ad_local 0.7174884676933289\n",
            "loss_clc 3.405611991882324, loss_im 0.0, loss_ad_global 0.6932313442230225, loss_ad_local 0.7162867784500122\n"
          ]
        },
        {
          "output_type": "stream",
          "name": "stderr",
          "text": [
            "Validating... (loss=3.44324): 100%|| 50/50 [00:07<00:00,  6.75it/s]\n"
          ]
        },
        {
          "output_type": "stream",
          "name": "stdout",
          "text": [
            "loss_clc 3.4030518531799316, loss_im 0.0, loss_ad_global 0.6931091547012329, loss_ad_local 0.7184312343597412\n",
            "loss_clc 3.4553325176239014, loss_im 0.0, loss_ad_global 0.692972719669342, loss_ad_local 0.7205202579498291\n",
            "loss_clc 3.4224226474761963, loss_im 0.0, loss_ad_global 0.6932523250579834, loss_ad_local 0.7177267074584961\n",
            "loss_clc 3.417175769805908, loss_im 0.0, loss_ad_global 0.6932209134101868, loss_ad_local 0.7193129658699036\n",
            "loss_clc 3.464965343475342, loss_im 0.0, loss_ad_global 0.6932687163352966, loss_ad_local 0.7190191149711609\n",
            "loss_clc 3.4170384407043457, loss_im 0.0, loss_ad_global 0.6933258771896362, loss_ad_local 0.7188000082969666\n",
            "loss_clc 3.4293618202209473, loss_im 0.0, loss_ad_global 0.6931655406951904, loss_ad_local 0.7177028656005859\n",
            "loss_clc 3.4177379608154297, loss_im 0.0, loss_ad_global 0.6930506229400635, loss_ad_local 0.7206407189369202\n",
            "loss_clc 3.4470162391662598, loss_im 0.0, loss_ad_global 0.6932758092880249, loss_ad_local 0.7225593328475952\n",
            "loss_clc 3.4365200996398926, loss_im 0.0, loss_ad_global 0.6930465698242188, loss_ad_local 0.7206851840019226\n",
            "loss_clc 3.4436192512512207, loss_im 0.0, loss_ad_global 0.6931328773498535, loss_ad_local 0.7214500308036804\n",
            "loss_clc 3.4136624336242676, loss_im 0.0, loss_ad_global 0.6932317018508911, loss_ad_local 0.7206391096115112\n",
            "loss_clc 3.4217605590820312, loss_im 0.0, loss_ad_global 0.692873477935791, loss_ad_local 0.7170617580413818\n",
            "loss_clc 3.425684928894043, loss_im 0.0, loss_ad_global 0.693366527557373, loss_ad_local 0.7144789695739746\n",
            "loss_clc 3.3950045108795166, loss_im 0.0, loss_ad_global 0.6929407119750977, loss_ad_local 0.7198612093925476\n",
            "loss_clc 3.4324746131896973, loss_im 0.0, loss_ad_global 0.6932917237281799, loss_ad_local 0.7221764326095581\n",
            "loss_clc 3.4362761974334717, loss_im 0.0, loss_ad_global 0.6930675506591797, loss_ad_local 0.72087162733078\n",
            "loss_clc 3.436882972717285, loss_im 0.0, loss_ad_global 0.6930786967277527, loss_ad_local 0.717947244644165\n",
            "loss_clc 3.4331488609313965, loss_im 0.0, loss_ad_global 0.6930528879165649, loss_ad_local 0.7167001366615295\n",
            "loss_clc 3.4525434970855713, loss_im 0.0, loss_ad_global 0.6931166648864746, loss_ad_local 0.716273307800293\n"
          ]
        },
        {
          "output_type": "stream",
          "name": "stderr",
          "text": [
            "Validating... (loss=3.46439): 100%|| 50/50 [00:07<00:00,  6.82it/s]\n"
          ]
        },
        {
          "output_type": "stream",
          "name": "stdout",
          "text": [
            "loss_clc 3.4169209003448486, loss_im 0.0, loss_ad_global 0.6928026676177979, loss_ad_local 0.7179956436157227\n",
            "loss_clc 3.4087634086608887, loss_im 0.0, loss_ad_global 0.6934708952903748, loss_ad_local 0.7245439291000366\n",
            "loss_clc 3.481436252593994, loss_im 0.0, loss_ad_global 0.6932410001754761, loss_ad_local 0.7175893783569336\n",
            "loss_clc 3.4022157192230225, loss_im 0.0, loss_ad_global 0.6930763721466064, loss_ad_local 0.7179474830627441\n",
            "loss_clc 3.4139130115509033, loss_im 0.0, loss_ad_global 0.6934115886688232, loss_ad_local 0.718600869178772\n",
            "loss_clc 3.391857624053955, loss_im 0.0, loss_ad_global 0.6932439208030701, loss_ad_local 0.718226432800293\n",
            "loss_clc 3.422386884689331, loss_im 0.0, loss_ad_global 0.6930627822875977, loss_ad_local 0.7160218358039856\n",
            "loss_clc 3.451789617538452, loss_im 0.0, loss_ad_global 0.6930614709854126, loss_ad_local 0.7173482179641724\n",
            "loss_clc 3.4271695613861084, loss_im 0.0, loss_ad_global 0.6930179595947266, loss_ad_local 0.7138331532478333\n",
            "loss_clc 3.461381435394287, loss_im 0.0, loss_ad_global 0.6931729912757874, loss_ad_local 0.7198284864425659\n",
            "loss_clc 3.4559390544891357, loss_im 0.0, loss_ad_global 0.69276362657547, loss_ad_local 0.7197256088256836\n",
            "loss_clc 3.4289591312408447, loss_im 0.0, loss_ad_global 0.6927464008331299, loss_ad_local 0.7064783573150635\n",
            "loss_clc 3.4180185794830322, loss_im 0.0, loss_ad_global 0.6931689977645874, loss_ad_local 0.7206367254257202\n",
            "loss_clc 3.445951461791992, loss_im 0.0, loss_ad_global 0.6928387880325317, loss_ad_local 0.7191061973571777\n",
            "loss_clc 3.394819498062134, loss_im 0.0, loss_ad_global 0.6932535171508789, loss_ad_local 0.7169033288955688\n",
            "loss_clc 3.434399366378784, loss_im 0.0, loss_ad_global 0.6931507587432861, loss_ad_local 0.7162553071975708\n",
            "loss_clc 3.4371917247772217, loss_im 0.0, loss_ad_global 0.6931981444358826, loss_ad_local 0.7195786833763123\n",
            "loss_clc 3.4409918785095215, loss_im 0.0, loss_ad_global 0.693291187286377, loss_ad_local 0.7216911315917969\n",
            "loss_clc 3.4583873748779297, loss_im 0.0, loss_ad_global 0.6933530569076538, loss_ad_local 0.7100940942764282\n",
            "loss_clc 3.4288547039031982, loss_im 0.0, loss_ad_global 0.6932905912399292, loss_ad_local 0.721030056476593\n"
          ]
        },
        {
          "output_type": "stream",
          "name": "stderr",
          "text": [
            "Validating... (loss=3.41873): 100%|| 50/50 [00:07<00:00,  6.86it/s]\n"
          ]
        },
        {
          "output_type": "stream",
          "name": "stdout",
          "text": [
            "loss_clc 3.4067490100860596, loss_im 0.0, loss_ad_global 0.693152129650116, loss_ad_local 0.7205038070678711\n",
            "loss_clc 3.4210286140441895, loss_im 0.0, loss_ad_global 0.6931980848312378, loss_ad_local 0.7194831967353821\n",
            "loss_clc 3.4575133323669434, loss_im 0.0, loss_ad_global 0.693341851234436, loss_ad_local 0.7182359099388123\n",
            "loss_clc 3.4348549842834473, loss_im 0.0, loss_ad_global 0.6929370760917664, loss_ad_local 0.7178584337234497\n",
            "loss_clc 3.4326539039611816, loss_im 0.0, loss_ad_global 0.6931823492050171, loss_ad_local 0.7225398421287537\n",
            "loss_clc 3.450899600982666, loss_im 0.0, loss_ad_global 0.6930587887763977, loss_ad_local 0.7184931635856628\n",
            "loss_clc 3.448085069656372, loss_im 0.0, loss_ad_global 0.6932493448257446, loss_ad_local 0.7123079895973206\n",
            "loss_clc 3.4140517711639404, loss_im 0.0, loss_ad_global 0.6931418776512146, loss_ad_local 0.7222275137901306\n",
            "loss_clc 3.4027318954467773, loss_im 0.0, loss_ad_global 0.6931495666503906, loss_ad_local 0.7133191823959351\n",
            "loss_clc 3.427018165588379, loss_im 0.0, loss_ad_global 0.6930607557296753, loss_ad_local 0.716585636138916\n",
            "loss_clc 3.43390154838562, loss_im 0.0, loss_ad_global 0.6933776140213013, loss_ad_local 0.7150816917419434\n",
            "loss_clc 3.4446587562561035, loss_im 0.0, loss_ad_global 0.6931265592575073, loss_ad_local 0.7208178043365479\n",
            "loss_clc 3.4356675148010254, loss_im 0.0, loss_ad_global 0.6932778358459473, loss_ad_local 0.7192636728286743\n",
            "loss_clc 3.432845115661621, loss_im 0.0, loss_ad_global 0.6933130025863647, loss_ad_local 0.7178844213485718\n",
            "loss_clc 3.422973155975342, loss_im 0.0, loss_ad_global 0.6930707693099976, loss_ad_local 0.7148406505584717\n",
            "loss_clc 3.399789571762085, loss_im 0.0, loss_ad_global 0.6932153701782227, loss_ad_local 0.7104612588882446\n",
            "loss_clc 3.4656107425689697, loss_im 0.0, loss_ad_global 0.6931463479995728, loss_ad_local 0.7125608921051025\n",
            "loss_clc 3.4348089694976807, loss_im 0.0, loss_ad_global 0.6929662823677063, loss_ad_local 0.7181615829467773\n",
            "loss_clc 3.434981346130371, loss_im 0.0, loss_ad_global 0.6930596828460693, loss_ad_local 0.7113580703735352\n",
            "loss_clc 3.4506068229675293, loss_im 0.0, loss_ad_global 0.6930699348449707, loss_ad_local 0.7202094793319702\n"
          ]
        },
        {
          "output_type": "stream",
          "name": "stderr",
          "text": [
            "Validating... (loss=3.44734): 100%|| 50/50 [00:07<00:00,  6.86it/s]\n"
          ]
        },
        {
          "output_type": "stream",
          "name": "stdout",
          "text": [
            "loss_clc 3.4118027687072754, loss_im 0.0, loss_ad_global 0.6930217742919922, loss_ad_local 0.7182021141052246\n",
            "loss_clc 3.4369964599609375, loss_im 0.0, loss_ad_global 0.6934179067611694, loss_ad_local 0.7223749160766602\n",
            "loss_clc 3.4010977745056152, loss_im 0.0, loss_ad_global 0.6932374238967896, loss_ad_local 0.7177366614341736\n",
            "loss_clc 3.4314804077148438, loss_im 0.0, loss_ad_global 0.6931801438331604, loss_ad_local 0.7185071706771851\n",
            "loss_clc 3.405850887298584, loss_im 0.0, loss_ad_global 0.6927812099456787, loss_ad_local 0.7138619422912598\n",
            "loss_clc 3.4427363872528076, loss_im 0.0, loss_ad_global 0.6931031942367554, loss_ad_local 0.7155373096466064\n",
            "loss_clc 3.418372631072998, loss_im 0.0, loss_ad_global 0.6931978464126587, loss_ad_local 0.723517656326294\n",
            "loss_clc 3.4421780109405518, loss_im 0.0, loss_ad_global 0.6931741237640381, loss_ad_local 0.7162435054779053\n",
            "loss_clc 3.4266371726989746, loss_im 0.0, loss_ad_global 0.6929440498352051, loss_ad_local 0.7163549661636353\n",
            "loss_clc 3.4281811714172363, loss_im 0.0, loss_ad_global 0.6931205987930298, loss_ad_local 0.7163002490997314\n",
            "loss_clc 3.4276435375213623, loss_im 0.0, loss_ad_global 0.6933251619338989, loss_ad_local 0.7170473337173462\n",
            "loss_clc 3.4224460124969482, loss_im 0.0, loss_ad_global 0.6933016180992126, loss_ad_local 0.7158828973770142\n",
            "loss_clc 3.449728488922119, loss_im 0.0, loss_ad_global 0.6932185888290405, loss_ad_local 0.7117871046066284\n",
            "loss_clc 3.4252939224243164, loss_im 0.0, loss_ad_global 0.6932437419891357, loss_ad_local 0.7150574922561646\n",
            "loss_clc 3.3984131813049316, loss_im 0.0, loss_ad_global 0.6931859254837036, loss_ad_local 0.7203347682952881\n",
            "loss_clc 3.423062324523926, loss_im 0.0, loss_ad_global 0.6933127045631409, loss_ad_local 0.7195184230804443\n",
            "loss_clc 3.3834218978881836, loss_im 0.0, loss_ad_global 0.6930468082427979, loss_ad_local 0.7129025459289551\n",
            "loss_clc 3.457221508026123, loss_im 0.0, loss_ad_global 0.6929785013198853, loss_ad_local 0.7150266170501709\n",
            "loss_clc 3.4248759746551514, loss_im 0.0, loss_ad_global 0.6928927898406982, loss_ad_local 0.7140761017799377\n",
            "loss_clc 3.442598342895508, loss_im 0.0, loss_ad_global 0.6929918527603149, loss_ad_local 0.7149503827095032\n"
          ]
        },
        {
          "output_type": "stream",
          "name": "stderr",
          "text": [
            "Validating... (loss=3.43273): 100%|| 50/50 [00:07<00:00,  6.79it/s]\n"
          ]
        },
        {
          "output_type": "stream",
          "name": "stdout",
          "text": [
            "loss_clc 3.477146863937378, loss_im 0.0, loss_ad_global 0.69312584400177, loss_ad_local 0.714600682258606\n",
            "loss_clc 3.4274704456329346, loss_im 0.0, loss_ad_global 0.6932486891746521, loss_ad_local 0.7220678925514221\n",
            "loss_clc 3.4215681552886963, loss_im 0.0, loss_ad_global 0.6932353377342224, loss_ad_local 0.7156282067298889\n",
            "loss_clc 3.4088218212127686, loss_im 0.0, loss_ad_global 0.6932001709938049, loss_ad_local 0.7128743529319763\n",
            "loss_clc 3.4339725971221924, loss_im 0.0, loss_ad_global 0.6932593584060669, loss_ad_local 0.7117617130279541\n",
            "loss_clc 3.450012445449829, loss_im 0.0, loss_ad_global 0.6931315660476685, loss_ad_local 0.7160786390304565\n",
            "loss_clc 3.4037530422210693, loss_im 0.0, loss_ad_global 0.693011462688446, loss_ad_local 0.721916139125824\n",
            "loss_clc 3.4340522289276123, loss_im 0.0, loss_ad_global 0.6929424405097961, loss_ad_local 0.7189888954162598\n",
            "loss_clc 3.4513607025146484, loss_im 0.0, loss_ad_global 0.6930490732192993, loss_ad_local 0.7179771661758423\n",
            "loss_clc 3.442268133163452, loss_im 0.0, loss_ad_global 0.6931508183479309, loss_ad_local 0.716920018196106\n",
            "loss_clc 3.4430675506591797, loss_im 0.0, loss_ad_global 0.6932529807090759, loss_ad_local 0.7197011709213257\n",
            "loss_clc 3.4302802085876465, loss_im 0.0, loss_ad_global 0.6930236220359802, loss_ad_local 0.7166328430175781\n",
            "loss_clc 3.4402854442596436, loss_im 0.0, loss_ad_global 0.6932008266448975, loss_ad_local 0.7165334820747375\n",
            "loss_clc 3.484295129776001, loss_im 0.0, loss_ad_global 0.6930930614471436, loss_ad_local 0.714399516582489\n",
            "loss_clc 3.4531426429748535, loss_im 0.0, loss_ad_global 0.6932042241096497, loss_ad_local 0.7191435694694519\n",
            "loss_clc 3.4350175857543945, loss_im 0.0, loss_ad_global 0.6931355595588684, loss_ad_local 0.7178143858909607\n",
            "loss_clc 3.413877487182617, loss_im 0.0, loss_ad_global 0.6929932832717896, loss_ad_local 0.717540979385376\n",
            "loss_clc 3.424870729446411, loss_im 0.0, loss_ad_global 0.6929242014884949, loss_ad_local 0.7151305675506592\n",
            "loss_clc 3.4149811267852783, loss_im 0.0, loss_ad_global 0.6933321952819824, loss_ad_local 0.7183765172958374\n",
            "loss_clc 3.426872730255127, loss_im 0.0, loss_ad_global 0.6932907700538635, loss_ad_local 0.7164238691329956\n"
          ]
        },
        {
          "output_type": "stream",
          "name": "stderr",
          "text": [
            "Validating... (loss=3.41205): 100%|| 50/50 [00:07<00:00,  6.89it/s]\n"
          ]
        },
        {
          "output_type": "stream",
          "name": "stdout",
          "text": [
            "loss_clc 3.4190704822540283, loss_im 0.0, loss_ad_global 0.6932440400123596, loss_ad_local 0.7164647579193115\n",
            "loss_clc 3.427561044692993, loss_im 0.0, loss_ad_global 0.6931289434432983, loss_ad_local 0.7196227312088013\n",
            "loss_clc 3.4261343479156494, loss_im 0.0, loss_ad_global 0.6933335065841675, loss_ad_local 0.7189304232597351\n",
            "loss_clc 3.4258806705474854, loss_im 0.0, loss_ad_global 0.6932880878448486, loss_ad_local 0.7186591625213623\n",
            "loss_clc 3.4373257160186768, loss_im 0.0, loss_ad_global 0.692967414855957, loss_ad_local 0.7163225412368774\n",
            "loss_clc 3.4454903602600098, loss_im 0.0, loss_ad_global 0.6930121779441833, loss_ad_local 0.7206076383590698\n",
            "loss_clc 3.465792655944824, loss_im 0.0, loss_ad_global 0.6930806636810303, loss_ad_local 0.7199795246124268\n",
            "loss_clc 3.424070358276367, loss_im 0.0, loss_ad_global 0.6932875514030457, loss_ad_local 0.7160859107971191\n",
            "loss_clc 3.4486031532287598, loss_im 0.0, loss_ad_global 0.6932064294815063, loss_ad_local 0.7180058360099792\n",
            "loss_clc 3.4172208309173584, loss_im 0.0, loss_ad_global 0.6932352185249329, loss_ad_local 0.7152528762817383\n",
            "loss_clc 3.435293674468994, loss_im 0.0, loss_ad_global 0.6934784650802612, loss_ad_local 0.7152779698371887\n",
            "loss_clc 3.435580253601074, loss_im 0.0, loss_ad_global 0.6929924488067627, loss_ad_local 0.7182379961013794\n",
            "loss_clc 3.427070379257202, loss_im 0.0, loss_ad_global 0.6933259963989258, loss_ad_local 0.7204631567001343\n",
            "loss_clc 3.444088935852051, loss_im 0.0, loss_ad_global 0.6931990385055542, loss_ad_local 0.7125557661056519\n",
            "loss_clc 3.4355359077453613, loss_im 0.0, loss_ad_global 0.6932849287986755, loss_ad_local 0.7124468684196472\n",
            "loss_clc 3.4475197792053223, loss_im 0.0, loss_ad_global 0.6932365894317627, loss_ad_local 0.7141247987747192\n",
            "loss_clc 3.435962438583374, loss_im 0.0, loss_ad_global 0.6929755806922913, loss_ad_local 0.7144073843955994\n",
            "loss_clc 3.413007974624634, loss_im 0.0, loss_ad_global 0.6933610439300537, loss_ad_local 0.7124984264373779\n",
            "loss_clc 3.451730728149414, loss_im 0.0, loss_ad_global 0.693117618560791, loss_ad_local 0.7138546705245972\n",
            "loss_clc 3.444384813308716, loss_im 0.0, loss_ad_global 0.6931528449058533, loss_ad_local 0.7194218039512634\n"
          ]
        },
        {
          "output_type": "stream",
          "name": "stderr",
          "text": [
            "Validating... (loss=3.44649): 100%|| 50/50 [00:07<00:00,  6.75it/s]\n"
          ]
        },
        {
          "output_type": "stream",
          "name": "stdout",
          "text": [
            "loss_clc 3.408936023712158, loss_im 0.0, loss_ad_global 0.6931343078613281, loss_ad_local 0.7126240730285645\n",
            "loss_clc 3.415689706802368, loss_im 0.0, loss_ad_global 0.6932687759399414, loss_ad_local 0.7188659906387329\n",
            "loss_clc 3.4154469966888428, loss_im 0.0, loss_ad_global 0.6930969953536987, loss_ad_local 0.7191774845123291\n",
            "loss_clc 3.418341875076294, loss_im 0.0, loss_ad_global 0.6930738687515259, loss_ad_local 0.7189246416091919\n",
            "loss_clc 3.4373059272766113, loss_im 0.0, loss_ad_global 0.6931671500205994, loss_ad_local 0.7148792743682861\n",
            "loss_clc 3.4251644611358643, loss_im 0.0, loss_ad_global 0.6931332349777222, loss_ad_local 0.715459406375885\n",
            "loss_clc 3.453984260559082, loss_im 0.0, loss_ad_global 0.693240761756897, loss_ad_local 0.7173715829849243\n",
            "loss_clc 3.4018633365631104, loss_im 0.0, loss_ad_global 0.6930263042449951, loss_ad_local 0.7205772399902344\n",
            "loss_clc 3.443922996520996, loss_im 0.0, loss_ad_global 0.6932305097579956, loss_ad_local 0.7155307531356812\n",
            "loss_clc 3.424607753753662, loss_im 0.0, loss_ad_global 0.6931453347206116, loss_ad_local 0.715904951095581\n",
            "loss_clc 3.428842544555664, loss_im 0.0, loss_ad_global 0.6929569244384766, loss_ad_local 0.7188155651092529\n",
            "loss_clc 3.415027141571045, loss_im 0.0, loss_ad_global 0.693069338798523, loss_ad_local 0.7148184776306152\n",
            "loss_clc 3.455047130584717, loss_im 0.0, loss_ad_global 0.6931142807006836, loss_ad_local 0.7195936441421509\n",
            "loss_clc 3.4431300163269043, loss_im 0.0, loss_ad_global 0.6931943893432617, loss_ad_local 0.718933641910553\n",
            "loss_clc 3.437627077102661, loss_im 0.0, loss_ad_global 0.6930263042449951, loss_ad_local 0.7205660343170166\n",
            "loss_clc 3.4594388008117676, loss_im 0.0, loss_ad_global 0.6930527687072754, loss_ad_local 0.7195795774459839\n",
            "loss_clc 3.406541585922241, loss_im 0.0, loss_ad_global 0.6931878328323364, loss_ad_local 0.7161169052124023\n",
            "loss_clc 3.4309496879577637, loss_im 0.0, loss_ad_global 0.6930810213088989, loss_ad_local 0.7204761505126953\n",
            "loss_clc 3.4318690299987793, loss_im 0.0, loss_ad_global 0.6930906176567078, loss_ad_local 0.7154313325881958\n",
            "loss_clc 3.4539568424224854, loss_im 0.0, loss_ad_global 0.6931934356689453, loss_ad_local 0.7188068628311157\n"
          ]
        },
        {
          "output_type": "stream",
          "name": "stderr",
          "text": [
            "Validating... (loss=3.43738): 100%|| 50/50 [00:07<00:00,  6.80it/s]\n"
          ]
        },
        {
          "output_type": "stream",
          "name": "stdout",
          "text": [
            "loss_clc 3.421780824661255, loss_im 0.0, loss_ad_global 0.6930866241455078, loss_ad_local 0.7200844287872314\n",
            "loss_clc 3.456761121749878, loss_im 0.0, loss_ad_global 0.6930372714996338, loss_ad_local 0.7207856774330139\n",
            "loss_clc 3.505338191986084, loss_im 0.0, loss_ad_global 0.6932217478752136, loss_ad_local 0.7107840776443481\n",
            "loss_clc 3.451869249343872, loss_im 0.0, loss_ad_global 0.692990779876709, loss_ad_local 0.7210651636123657\n",
            "loss_clc 3.435563802719116, loss_im 0.0, loss_ad_global 0.6932298541069031, loss_ad_local 0.7209711074829102\n",
            "loss_clc 3.470090389251709, loss_im 0.0, loss_ad_global 0.6932469606399536, loss_ad_local 0.7175928950309753\n",
            "loss_clc 3.4319467544555664, loss_im 0.0, loss_ad_global 0.6933828592300415, loss_ad_local 0.7167981266975403\n",
            "loss_clc 3.436824321746826, loss_im 0.0, loss_ad_global 0.6933334469795227, loss_ad_local 0.7182201147079468\n",
            "loss_clc 3.4337854385375977, loss_im 0.0, loss_ad_global 0.6932247877120972, loss_ad_local 0.7195407152175903\n",
            "loss_clc 3.4639124870300293, loss_im 0.0, loss_ad_global 0.6931092739105225, loss_ad_local 0.7155815958976746\n",
            "loss_clc 3.4213266372680664, loss_im 0.0, loss_ad_global 0.6930869817733765, loss_ad_local 0.7148511409759521\n",
            "loss_clc 3.4349429607391357, loss_im 0.0, loss_ad_global 0.6930866241455078, loss_ad_local 0.7180333137512207\n",
            "loss_clc 3.4287519454956055, loss_im 0.0, loss_ad_global 0.693332314491272, loss_ad_local 0.7159940004348755\n",
            "loss_clc 3.4116759300231934, loss_im 0.0, loss_ad_global 0.6931983232498169, loss_ad_local 0.7194051742553711\n",
            "loss_clc 3.435224771499634, loss_im 0.0, loss_ad_global 0.6931387782096863, loss_ad_local 0.7147674560546875\n",
            "loss_clc 3.4434449672698975, loss_im 0.0, loss_ad_global 0.6932337284088135, loss_ad_local 0.720370352268219\n",
            "loss_clc 3.4213314056396484, loss_im 0.0, loss_ad_global 0.6931281089782715, loss_ad_local 0.7190842628479004\n",
            "loss_clc 3.425394296646118, loss_im 0.0, loss_ad_global 0.6933257579803467, loss_ad_local 0.7176235318183899\n",
            "loss_clc 3.4448623657226562, loss_im 0.0, loss_ad_global 0.6929082870483398, loss_ad_local 0.7172619104385376\n",
            "loss_clc 3.4284486770629883, loss_im 0.0, loss_ad_global 0.693102240562439, loss_ad_local 0.7137011289596558\n"
          ]
        },
        {
          "output_type": "stream",
          "name": "stderr",
          "text": [
            "Validating... (loss=3.44571): 100%|| 50/50 [00:07<00:00,  6.80it/s]\n"
          ]
        },
        {
          "output_type": "stream",
          "name": "stdout",
          "text": [
            "loss_clc 3.4341142177581787, loss_im 0.0, loss_ad_global 0.6933341026306152, loss_ad_local 0.7181485891342163\n",
            "loss_clc 3.440692186355591, loss_im 0.0, loss_ad_global 0.6931039094924927, loss_ad_local 0.7176436185836792\n",
            "loss_clc 3.432967185974121, loss_im 0.0, loss_ad_global 0.693131685256958, loss_ad_local 0.7186185717582703\n",
            "loss_clc 3.440847396850586, loss_im 0.0, loss_ad_global 0.6931766271591187, loss_ad_local 0.7157018184661865\n",
            "loss_clc 3.440451145172119, loss_im 0.0, loss_ad_global 0.6931895017623901, loss_ad_local 0.7153818011283875\n",
            "loss_clc 3.422713279724121, loss_im 0.0, loss_ad_global 0.6931731700897217, loss_ad_local 0.7114282846450806\n",
            "loss_clc 3.416422128677368, loss_im 0.0, loss_ad_global 0.6931360363960266, loss_ad_local 0.7187007069587708\n",
            "loss_clc 3.440441608428955, loss_im 0.0, loss_ad_global 0.6931779384613037, loss_ad_local 0.7170799970626831\n",
            "loss_clc 3.4354429244995117, loss_im 0.0, loss_ad_global 0.6932786107063293, loss_ad_local 0.7195873260498047\n",
            "loss_clc 3.4293203353881836, loss_im 0.0, loss_ad_global 0.6931877136230469, loss_ad_local 0.7152838110923767\n",
            "loss_clc 3.4363973140716553, loss_im 0.0, loss_ad_global 0.6929700374603271, loss_ad_local 0.7129232883453369\n",
            "loss_clc 3.417527437210083, loss_im 0.0, loss_ad_global 0.6931812763214111, loss_ad_local 0.7179269194602966\n",
            "loss_clc 3.4468538761138916, loss_im 0.0, loss_ad_global 0.69288170337677, loss_ad_local 0.7172591686248779\n",
            "loss_clc 3.425226926803589, loss_im 0.0, loss_ad_global 0.6931778192520142, loss_ad_local 0.717665433883667\n",
            "loss_clc 3.42269229888916, loss_im 0.0, loss_ad_global 0.6931840181350708, loss_ad_local 0.7163020968437195\n",
            "loss_clc 3.444634199142456, loss_im 0.0, loss_ad_global 0.6930383443832397, loss_ad_local 0.7232608795166016\n",
            "loss_clc 3.4402904510498047, loss_im 0.0, loss_ad_global 0.6932395696640015, loss_ad_local 0.7171684503555298\n",
            "loss_clc 3.4287381172180176, loss_im 0.0, loss_ad_global 0.6932256817817688, loss_ad_local 0.7212783694267273\n",
            "loss_clc 3.4254345893859863, loss_im 0.0, loss_ad_global 0.6932099461555481, loss_ad_local 0.7182047963142395\n",
            "loss_clc 3.464930534362793, loss_im 0.0, loss_ad_global 0.693097710609436, loss_ad_local 0.720557451248169\n"
          ]
        },
        {
          "output_type": "stream",
          "name": "stderr",
          "text": [
            "Validating... (loss=3.43702): 100%|| 50/50 [00:07<00:00,  6.76it/s]\n"
          ]
        },
        {
          "output_type": "stream",
          "name": "stdout",
          "text": [
            "loss_clc 3.4179112911224365, loss_im 0.0, loss_ad_global 0.6932606101036072, loss_ad_local 0.7180777788162231\n",
            "loss_clc 3.430224657058716, loss_im 0.0, loss_ad_global 0.693179190158844, loss_ad_local 0.7183688282966614\n",
            "loss_clc 3.4602279663085938, loss_im 0.0, loss_ad_global 0.6931625008583069, loss_ad_local 0.7240583300590515\n",
            "loss_clc 3.451868772506714, loss_im 0.0, loss_ad_global 0.6931759119033813, loss_ad_local 0.720350980758667\n",
            "loss_clc 3.445162296295166, loss_im 0.0, loss_ad_global 0.6932807564735413, loss_ad_local 0.724095344543457\n",
            "loss_clc 3.4646105766296387, loss_im 0.0, loss_ad_global 0.6930869221687317, loss_ad_local 0.7188790440559387\n",
            "loss_clc 3.440354585647583, loss_im 0.0, loss_ad_global 0.6931772828102112, loss_ad_local 0.7186030149459839\n",
            "loss_clc 3.417410135269165, loss_im 0.0, loss_ad_global 0.6930602788925171, loss_ad_local 0.7202641367912292\n",
            "loss_clc 3.4147303104400635, loss_im 0.0, loss_ad_global 0.6931003332138062, loss_ad_local 0.7206904888153076\n",
            "loss_clc 3.421207904815674, loss_im 0.0, loss_ad_global 0.6932919025421143, loss_ad_local 0.7167291045188904\n",
            "loss_clc 3.449526786804199, loss_im 0.0, loss_ad_global 0.6930921077728271, loss_ad_local 0.7166244983673096\n",
            "loss_clc 3.4290452003479004, loss_im 0.0, loss_ad_global 0.6931045055389404, loss_ad_local 0.7184306383132935\n",
            "loss_clc 3.418677806854248, loss_im 0.0, loss_ad_global 0.6932588815689087, loss_ad_local 0.7197030782699585\n",
            "loss_clc 3.450463056564331, loss_im 0.0, loss_ad_global 0.6932393312454224, loss_ad_local 0.7173929214477539\n",
            "loss_clc 3.4310128688812256, loss_im 0.0, loss_ad_global 0.6930525302886963, loss_ad_local 0.718029260635376\n",
            "loss_clc 3.4281222820281982, loss_im 0.0, loss_ad_global 0.6930898427963257, loss_ad_local 0.7173033952713013\n",
            "loss_clc 3.4814743995666504, loss_im 0.0, loss_ad_global 0.693276047706604, loss_ad_local 0.7176274657249451\n",
            "loss_clc 3.424914836883545, loss_im 0.0, loss_ad_global 0.6930332183837891, loss_ad_local 0.7179341316223145\n",
            "loss_clc 3.4271700382232666, loss_im 0.0, loss_ad_global 0.6931298971176147, loss_ad_local 0.718767523765564\n",
            "loss_clc 3.4171228408813477, loss_im 0.0, loss_ad_global 0.6930279731750488, loss_ad_local 0.7202852964401245\n"
          ]
        },
        {
          "output_type": "stream",
          "name": "stderr",
          "text": [
            "Validating... (loss=3.44221): 100%|| 50/50 [00:07<00:00,  6.85it/s]\n"
          ]
        },
        {
          "output_type": "stream",
          "name": "stdout",
          "text": [
            "loss_clc 3.441176176071167, loss_im 0.0, loss_ad_global 0.6932146549224854, loss_ad_local 0.7201120257377625\n",
            "loss_clc 3.427553415298462, loss_im 0.0, loss_ad_global 0.6931469440460205, loss_ad_local 0.7191382050514221\n",
            "loss_clc 3.424149990081787, loss_im 0.0, loss_ad_global 0.6932228207588196, loss_ad_local 0.7152389287948608\n",
            "loss_clc 3.4195454120635986, loss_im 0.0, loss_ad_global 0.6932194232940674, loss_ad_local 0.7189449667930603\n",
            "loss_clc 3.4190101623535156, loss_im 0.0, loss_ad_global 0.6932311654090881, loss_ad_local 0.7158823609352112\n",
            "loss_clc 3.418862819671631, loss_im 0.0, loss_ad_global 0.693131685256958, loss_ad_local 0.7184266448020935\n",
            "loss_clc 3.4125266075134277, loss_im 0.0, loss_ad_global 0.6931257247924805, loss_ad_local 0.7177203893661499\n",
            "loss_clc 3.4450411796569824, loss_im 0.0, loss_ad_global 0.6931824088096619, loss_ad_local 0.7179250121116638\n",
            "loss_clc 3.439535140991211, loss_im 0.0, loss_ad_global 0.6932657957077026, loss_ad_local 0.7162222266197205\n",
            "loss_clc 3.4262287616729736, loss_im 0.0, loss_ad_global 0.6931232213973999, loss_ad_local 0.7186310291290283\n",
            "loss_clc 3.43635630607605, loss_im 0.0, loss_ad_global 0.6932191252708435, loss_ad_local 0.7188174724578857\n",
            "loss_clc 3.4414634704589844, loss_im 0.0, loss_ad_global 0.6932455897331238, loss_ad_local 0.7217239141464233\n",
            "loss_clc 3.4613826274871826, loss_im 0.0, loss_ad_global 0.6932744383811951, loss_ad_local 0.7206382751464844\n",
            "loss_clc 3.459834098815918, loss_im 0.0, loss_ad_global 0.693000853061676, loss_ad_local 0.7171504497528076\n",
            "loss_clc 3.421506404876709, loss_im 0.0, loss_ad_global 0.6930431127548218, loss_ad_local 0.7190232276916504\n",
            "loss_clc 3.4223616123199463, loss_im 0.0, loss_ad_global 0.6932636499404907, loss_ad_local 0.7149030566215515\n",
            "loss_clc 3.4225518703460693, loss_im 0.0, loss_ad_global 0.693234920501709, loss_ad_local 0.7152746319770813\n",
            "loss_clc 3.422677516937256, loss_im 0.0, loss_ad_global 0.6932123303413391, loss_ad_local 0.7185463905334473\n",
            "loss_clc 3.4242119789123535, loss_im 0.0, loss_ad_global 0.6932623386383057, loss_ad_local 0.7139825224876404\n",
            "loss_clc 3.428523063659668, loss_im 0.0, loss_ad_global 0.6933456659317017, loss_ad_local 0.7196265459060669\n"
          ]
        },
        {
          "output_type": "stream",
          "name": "stderr",
          "text": [
            "Validating... (loss=3.43270): 100%|| 50/50 [00:07<00:00,  6.89it/s]\n"
          ]
        },
        {
          "output_type": "stream",
          "name": "stdout",
          "text": [
            "loss_clc 3.394545316696167, loss_im 0.0, loss_ad_global 0.6931425929069519, loss_ad_local 0.7153860330581665\n",
            "loss_clc 3.421494245529175, loss_im 0.0, loss_ad_global 0.6932554244995117, loss_ad_local 0.7157428860664368\n",
            "loss_clc 3.427433729171753, loss_im 0.0, loss_ad_global 0.6931087374687195, loss_ad_local 0.71747887134552\n",
            "loss_clc 3.422837257385254, loss_im 0.0, loss_ad_global 0.6931390166282654, loss_ad_local 0.719180703163147\n",
            "loss_clc 3.4295341968536377, loss_im 0.0, loss_ad_global 0.6932046413421631, loss_ad_local 0.7206687927246094\n",
            "loss_clc 3.414355754852295, loss_im 0.0, loss_ad_global 0.6931195855140686, loss_ad_local 0.7191394567489624\n",
            "loss_clc 3.4253971576690674, loss_im 0.0, loss_ad_global 0.69319087266922, loss_ad_local 0.7155543565750122\n",
            "loss_clc 3.430030584335327, loss_im 0.0, loss_ad_global 0.6931782960891724, loss_ad_local 0.7212848663330078\n",
            "loss_clc 3.430649757385254, loss_im 0.0, loss_ad_global 0.6931757926940918, loss_ad_local 0.7175978422164917\n",
            "loss_clc 3.4412899017333984, loss_im 0.0, loss_ad_global 0.6932165622711182, loss_ad_local 0.717788815498352\n",
            "loss_clc 3.4484639167785645, loss_im 0.0, loss_ad_global 0.6931071877479553, loss_ad_local 0.7151776552200317\n",
            "loss_clc 3.406297445297241, loss_im 0.0, loss_ad_global 0.6931209564208984, loss_ad_local 0.7199721932411194\n",
            "loss_clc 3.4311327934265137, loss_im 0.0, loss_ad_global 0.6929707527160645, loss_ad_local 0.7154709696769714\n",
            "loss_clc 3.4266738891601562, loss_im 0.0, loss_ad_global 0.6931449770927429, loss_ad_local 0.7193540334701538\n",
            "loss_clc 3.449187755584717, loss_im 0.0, loss_ad_global 0.6930751800537109, loss_ad_local 0.7204618453979492\n",
            "loss_clc 3.4606406688690186, loss_im 0.0, loss_ad_global 0.6932685375213623, loss_ad_local 0.7195398807525635\n",
            "loss_clc 3.4192917346954346, loss_im 0.0, loss_ad_global 0.6930649280548096, loss_ad_local 0.7203984260559082\n",
            "loss_clc 3.434959650039673, loss_im 0.0, loss_ad_global 0.693270742893219, loss_ad_local 0.7176831960678101\n",
            "loss_clc 3.4251694679260254, loss_im 0.0, loss_ad_global 0.6931489706039429, loss_ad_local 0.7161641716957092\n",
            "loss_clc 3.4399118423461914, loss_im 0.0, loss_ad_global 0.6931044459342957, loss_ad_local 0.7170634269714355\n"
          ]
        },
        {
          "output_type": "stream",
          "name": "stderr",
          "text": [
            "Validating... (loss=3.42723): 100%|| 50/50 [00:07<00:00,  6.86it/s]\n"
          ]
        },
        {
          "output_type": "stream",
          "name": "stdout",
          "text": [
            "loss_clc 3.4311139583587646, loss_im 0.0, loss_ad_global 0.6933953762054443, loss_ad_local 0.7184152603149414\n",
            "loss_clc 3.404650926589966, loss_im 0.0, loss_ad_global 0.6929908990859985, loss_ad_local 0.7177144885063171\n",
            "loss_clc 3.461425304412842, loss_im 0.0, loss_ad_global 0.6933020353317261, loss_ad_local 0.7185817360877991\n",
            "loss_clc 3.432542562484741, loss_im 0.0, loss_ad_global 0.6932023167610168, loss_ad_local 0.7214221358299255\n",
            "loss_clc 3.4204018115997314, loss_im 0.0, loss_ad_global 0.6931226253509521, loss_ad_local 0.7178777456283569\n",
            "loss_clc 3.408390522003174, loss_im 0.0, loss_ad_global 0.6930794715881348, loss_ad_local 0.7196245193481445\n",
            "loss_clc 3.417863607406616, loss_im 0.0, loss_ad_global 0.6930422782897949, loss_ad_local 0.7183786034584045\n",
            "loss_clc 3.4454121589660645, loss_im 0.0, loss_ad_global 0.6930513381958008, loss_ad_local 0.7186048626899719\n",
            "loss_clc 3.4159979820251465, loss_im 0.0, loss_ad_global 0.6930737495422363, loss_ad_local 0.7156949043273926\n",
            "loss_clc 3.4424235820770264, loss_im 0.0, loss_ad_global 0.6931036710739136, loss_ad_local 0.7174339294433594\n",
            "loss_clc 3.4192092418670654, loss_im 0.0, loss_ad_global 0.6929038763046265, loss_ad_local 0.7171463966369629\n",
            "loss_clc 3.4353232383728027, loss_im 0.0, loss_ad_global 0.6931415796279907, loss_ad_local 0.7196563482284546\n",
            "loss_clc 3.4431722164154053, loss_im 0.0, loss_ad_global 0.6931032538414001, loss_ad_local 0.7171577215194702\n",
            "loss_clc 3.427534580230713, loss_im 0.0, loss_ad_global 0.6931899785995483, loss_ad_local 0.7169491648674011\n",
            "loss_clc 3.4216408729553223, loss_im 0.0, loss_ad_global 0.6930729746818542, loss_ad_local 0.7186532616615295\n",
            "loss_clc 3.4348104000091553, loss_im 0.0, loss_ad_global 0.6931617856025696, loss_ad_local 0.7195346355438232\n",
            "loss_clc 3.450282573699951, loss_im 0.0, loss_ad_global 0.6931881904602051, loss_ad_local 0.7210962772369385\n",
            "loss_clc 3.4282760620117188, loss_im 0.0, loss_ad_global 0.6931647062301636, loss_ad_local 0.7213653326034546\n",
            "loss_clc 3.4475481510162354, loss_im 0.0, loss_ad_global 0.6931871175765991, loss_ad_local 0.71649169921875\n",
            "loss_clc 3.4321084022521973, loss_im 0.0, loss_ad_global 0.6931521892547607, loss_ad_local 0.7195287942886353\n"
          ]
        },
        {
          "output_type": "stream",
          "name": "stderr",
          "text": [
            "Validating... (loss=3.41818): 100%|| 50/50 [00:07<00:00,  6.80it/s]\n"
          ]
        },
        {
          "output_type": "stream",
          "name": "stdout",
          "text": [
            "loss_clc 3.4386229515075684, loss_im 0.0, loss_ad_global 0.6930816173553467, loss_ad_local 0.7187918424606323\n",
            "loss_clc 3.437950849533081, loss_im 0.0, loss_ad_global 0.6931921243667603, loss_ad_local 0.7164856195449829\n",
            "loss_clc 3.4364993572235107, loss_im 0.0, loss_ad_global 0.6932929754257202, loss_ad_local 0.7162816524505615\n",
            "loss_clc 3.4462718963623047, loss_im 0.0, loss_ad_global 0.693340539932251, loss_ad_local 0.7192772626876831\n",
            "loss_clc 3.4191272258758545, loss_im 0.0, loss_ad_global 0.6931227445602417, loss_ad_local 0.7186024785041809\n",
            "loss_clc 3.437037467956543, loss_im 0.0, loss_ad_global 0.6931064128875732, loss_ad_local 0.7177313566207886\n",
            "loss_clc 3.4259541034698486, loss_im 0.0, loss_ad_global 0.6932333707809448, loss_ad_local 0.720843493938446\n",
            "loss_clc 3.4352312088012695, loss_im 0.0, loss_ad_global 0.6932888031005859, loss_ad_local 0.7166502475738525\n",
            "loss_clc 3.4385340213775635, loss_im 0.0, loss_ad_global 0.6930750012397766, loss_ad_local 0.7225227952003479\n",
            "loss_clc 3.438290596008301, loss_im 0.0, loss_ad_global 0.6931109428405762, loss_ad_local 0.7187968492507935\n",
            "loss_clc 3.4433915615081787, loss_im 0.0, loss_ad_global 0.693213939666748, loss_ad_local 0.7182696461677551\n",
            "loss_clc 3.43760085105896, loss_im 0.0, loss_ad_global 0.6931606531143188, loss_ad_local 0.7179620862007141\n",
            "loss_clc 3.424492120742798, loss_im 0.0, loss_ad_global 0.6932732462882996, loss_ad_local 0.718765377998352\n",
            "loss_clc 3.4378559589385986, loss_im 0.0, loss_ad_global 0.6932914853096008, loss_ad_local 0.7187191843986511\n",
            "loss_clc 3.4299368858337402, loss_im 0.0, loss_ad_global 0.6932611465454102, loss_ad_local 0.7189804911613464\n",
            "loss_clc 3.4353156089782715, loss_im 0.0, loss_ad_global 0.6930903196334839, loss_ad_local 0.7177759408950806\n",
            "loss_clc 3.4248948097229004, loss_im 0.0, loss_ad_global 0.6930005550384521, loss_ad_local 0.7180732488632202\n",
            "loss_clc 3.432926893234253, loss_im 0.0, loss_ad_global 0.6931465864181519, loss_ad_local 0.7174157500267029\n",
            "loss_clc 3.433553457260132, loss_im 0.0, loss_ad_global 0.6932073831558228, loss_ad_local 0.7185930013656616\n",
            "loss_clc 3.438133716583252, loss_im 0.0, loss_ad_global 0.6931043863296509, loss_ad_local 0.7180924415588379\n"
          ]
        },
        {
          "output_type": "stream",
          "name": "stderr",
          "text": [
            "Validating... (loss=3.43697): 100%|| 50/50 [00:07<00:00,  6.74it/s]\n"
          ]
        },
        {
          "output_type": "stream",
          "name": "stdout",
          "text": [
            "loss_clc 3.429232120513916, loss_im 0.0, loss_ad_global 0.6931965947151184, loss_ad_local 0.7211413979530334\n",
            "loss_clc 3.455387592315674, loss_im 0.0, loss_ad_global 0.6931862831115723, loss_ad_local 0.7174890041351318\n",
            "loss_clc 3.4198789596557617, loss_im 0.0, loss_ad_global 0.693237841129303, loss_ad_local 0.7181516289710999\n",
            "loss_clc 3.427061080932617, loss_im 0.0, loss_ad_global 0.6931145191192627, loss_ad_local 0.7170124650001526\n",
            "loss_clc 3.4310364723205566, loss_im 0.0, loss_ad_global 0.6931155323982239, loss_ad_local 0.718437910079956\n",
            "loss_clc 3.4325037002563477, loss_im 0.0, loss_ad_global 0.6930643916130066, loss_ad_local 0.7186778783798218\n",
            "loss_clc 3.4360790252685547, loss_im 0.0, loss_ad_global 0.6931155323982239, loss_ad_local 0.7142211198806763\n",
            "loss_clc 3.4247641563415527, loss_im 0.0, loss_ad_global 0.6932349801063538, loss_ad_local 0.719153881072998\n",
            "loss_clc 3.446998357772827, loss_im 0.0, loss_ad_global 0.6930879354476929, loss_ad_local 0.7156445980072021\n",
            "loss_clc 3.4373579025268555, loss_im 0.0, loss_ad_global 0.6932648420333862, loss_ad_local 0.7181378602981567\n",
            "loss_clc 3.4150938987731934, loss_im 0.0, loss_ad_global 0.6930385828018188, loss_ad_local 0.7185968160629272\n",
            "loss_clc 3.4435033798217773, loss_im 0.0, loss_ad_global 0.6931572556495667, loss_ad_local 0.7186201214790344\n",
            "loss_clc 3.4236061573028564, loss_im 0.0, loss_ad_global 0.6932571530342102, loss_ad_local 0.7186957597732544\n",
            "loss_clc 3.422865629196167, loss_im 0.0, loss_ad_global 0.6931530237197876, loss_ad_local 0.7181653380393982\n",
            "loss_clc 3.4210779666900635, loss_im 0.0, loss_ad_global 0.693181574344635, loss_ad_local 0.7188893556594849\n",
            "loss_clc 3.4265360832214355, loss_im 0.0, loss_ad_global 0.6931415796279907, loss_ad_local 0.7180736660957336\n",
            "loss_clc 3.4312641620635986, loss_im 0.0, loss_ad_global 0.6930972337722778, loss_ad_local 0.717461109161377\n",
            "loss_clc 3.4140541553497314, loss_im 0.0, loss_ad_global 0.693149209022522, loss_ad_local 0.7206836938858032\n",
            "loss_clc 3.4279003143310547, loss_im 0.0, loss_ad_global 0.6931915283203125, loss_ad_local 0.7196407914161682\n",
            "loss_clc 3.425105571746826, loss_im 0.0, loss_ad_global 0.6930673122406006, loss_ad_local 0.7175604104995728\n"
          ]
        },
        {
          "output_type": "stream",
          "name": "stderr",
          "text": [
            "Validating... (loss=3.42804): 100%|| 50/50 [00:07<00:00,  6.84it/s]\n"
          ]
        },
        {
          "output_type": "stream",
          "name": "stdout",
          "text": [
            "loss_clc 3.4431471824645996, loss_im 0.0, loss_ad_global 0.6932138204574585, loss_ad_local 0.7186357378959656\n",
            "loss_clc 3.4374587535858154, loss_im 0.0, loss_ad_global 0.6932749152183533, loss_ad_local 0.7191102504730225\n",
            "loss_clc 3.4333291053771973, loss_im 0.0, loss_ad_global 0.6932164430618286, loss_ad_local 0.7182385325431824\n",
            "loss_clc 3.4470067024230957, loss_im 0.0, loss_ad_global 0.6932195425033569, loss_ad_local 0.7166851758956909\n",
            "loss_clc 3.420654296875, loss_im 0.0, loss_ad_global 0.6930652856826782, loss_ad_local 0.7194535136222839\n",
            "loss_clc 3.4292683601379395, loss_im 0.0, loss_ad_global 0.693124532699585, loss_ad_local 0.7190989851951599\n",
            "loss_clc 3.427595615386963, loss_im 0.0, loss_ad_global 0.6931207776069641, loss_ad_local 0.7175068259239197\n",
            "loss_clc 3.435792922973633, loss_im 0.0, loss_ad_global 0.6931003928184509, loss_ad_local 0.7173938155174255\n",
            "loss_clc 3.426309108734131, loss_im 0.0, loss_ad_global 0.6932927370071411, loss_ad_local 0.7183854579925537\n",
            "loss_clc 3.4215497970581055, loss_im 0.0, loss_ad_global 0.6930350065231323, loss_ad_local 0.7192599773406982\n",
            "loss_clc 3.41646409034729, loss_im 0.0, loss_ad_global 0.6930365562438965, loss_ad_local 0.7190344929695129\n",
            "loss_clc 3.451324701309204, loss_im 0.0, loss_ad_global 0.6931768655776978, loss_ad_local 0.7180370092391968\n",
            "loss_clc 3.417055606842041, loss_im 0.0, loss_ad_global 0.6931407451629639, loss_ad_local 0.7210032343864441\n",
            "loss_clc 3.4365713596343994, loss_im 0.0, loss_ad_global 0.6932016015052795, loss_ad_local 0.7198684215545654\n",
            "loss_clc 3.425834894180298, loss_im 0.0, loss_ad_global 0.6931506991386414, loss_ad_local 0.7212291955947876\n",
            "loss_clc 3.417404890060425, loss_im 0.0, loss_ad_global 0.6931830048561096, loss_ad_local 0.7165638208389282\n",
            "loss_clc 3.4395952224731445, loss_im 0.0, loss_ad_global 0.6931614279747009, loss_ad_local 0.7203207015991211\n",
            "loss_clc 3.4294819831848145, loss_im 0.0, loss_ad_global 0.6931983232498169, loss_ad_local 0.7204288840293884\n",
            "loss_clc 3.4313220977783203, loss_im 0.0, loss_ad_global 0.6930415034294128, loss_ad_local 0.7172245383262634\n",
            "loss_clc 3.446697950363159, loss_im 0.0, loss_ad_global 0.6931983232498169, loss_ad_local 0.7168562412261963\n"
          ]
        },
        {
          "output_type": "stream",
          "name": "stderr",
          "text": [
            "Validating... (loss=3.44660): 100%|| 50/50 [00:07<00:00,  6.80it/s]\n"
          ]
        },
        {
          "output_type": "stream",
          "name": "stdout",
          "text": [
            "loss_clc 3.4268898963928223, loss_im 0.0, loss_ad_global 0.6931624412536621, loss_ad_local 0.7187660336494446\n",
            "loss_clc 3.419959306716919, loss_im 0.0, loss_ad_global 0.6932052373886108, loss_ad_local 0.7194859981536865\n",
            "loss_clc 3.422440767288208, loss_im 0.0, loss_ad_global 0.6932374835014343, loss_ad_local 0.7205800414085388\n",
            "loss_clc 3.4239466190338135, loss_im 0.0, loss_ad_global 0.6930888295173645, loss_ad_local 0.7179023623466492\n",
            "loss_clc 3.4443585872650146, loss_im 0.0, loss_ad_global 0.6931941509246826, loss_ad_local 0.7188654541969299\n",
            "loss_clc 3.444248676300049, loss_im 0.0, loss_ad_global 0.6930551528930664, loss_ad_local 0.7186291217803955\n",
            "loss_clc 3.436081886291504, loss_im 0.0, loss_ad_global 0.6931714415550232, loss_ad_local 0.7213661670684814\n",
            "loss_clc 3.4347386360168457, loss_im 0.0, loss_ad_global 0.6932278871536255, loss_ad_local 0.719752848148346\n",
            "loss_clc 3.4067206382751465, loss_im 0.0, loss_ad_global 0.6931782960891724, loss_ad_local 0.7181918621063232\n",
            "loss_clc 3.4280662536621094, loss_im 0.0, loss_ad_global 0.6932004690170288, loss_ad_local 0.7203657031059265\n",
            "loss_clc 3.4274728298187256, loss_im 0.0, loss_ad_global 0.6931756734848022, loss_ad_local 0.7192485332489014\n",
            "loss_clc 3.416097640991211, loss_im 0.0, loss_ad_global 0.6931772232055664, loss_ad_local 0.7180020809173584\n",
            "loss_clc 3.4707486629486084, loss_im 0.0, loss_ad_global 0.6932753324508667, loss_ad_local 0.7174730896949768\n",
            "loss_clc 3.4269285202026367, loss_im 0.0, loss_ad_global 0.693253755569458, loss_ad_local 0.7191038131713867\n",
            "loss_clc 3.4349799156188965, loss_im 0.0, loss_ad_global 0.6932165622711182, loss_ad_local 0.7194539904594421\n",
            "loss_clc 3.420131206512451, loss_im 0.0, loss_ad_global 0.693224310874939, loss_ad_local 0.720486581325531\n",
            "loss_clc 3.4311277866363525, loss_im 0.0, loss_ad_global 0.6930958032608032, loss_ad_local 0.717860996723175\n",
            "loss_clc 3.434553623199463, loss_im 0.0, loss_ad_global 0.6931791305541992, loss_ad_local 0.7187478542327881\n",
            "loss_clc 3.4387853145599365, loss_im 0.0, loss_ad_global 0.6932018995285034, loss_ad_local 0.7216832041740417\n",
            "loss_clc 3.4210574626922607, loss_im 0.0, loss_ad_global 0.6931962966918945, loss_ad_local 0.7189607620239258\n"
          ]
        },
        {
          "output_type": "stream",
          "name": "stderr",
          "text": [
            "Validating... (loss=3.45567): 100%|| 50/50 [00:07<00:00,  6.79it/s]\n"
          ]
        },
        {
          "output_type": "stream",
          "name": "stdout",
          "text": [
            "loss_clc 3.4305484294891357, loss_im 0.0, loss_ad_global 0.6931099891662598, loss_ad_local 0.7189249992370605\n",
            "loss_clc 3.4084484577178955, loss_im 0.0, loss_ad_global 0.6931681632995605, loss_ad_local 0.7188380360603333\n",
            "loss_clc 3.4296152591705322, loss_im 0.0, loss_ad_global 0.6931607723236084, loss_ad_local 0.7206659317016602\n",
            "loss_clc 3.4436440467834473, loss_im 0.0, loss_ad_global 0.6930834054946899, loss_ad_local 0.7184208035469055\n",
            "loss_clc 3.435055732727051, loss_im 0.0, loss_ad_global 0.6932302117347717, loss_ad_local 0.7186669111251831\n",
            "loss_clc 3.4407498836517334, loss_im 0.0, loss_ad_global 0.6931149959564209, loss_ad_local 0.7181546688079834\n",
            "loss_clc 3.4159109592437744, loss_im 0.0, loss_ad_global 0.693151593208313, loss_ad_local 0.7193362712860107\n",
            "loss_clc 3.4198496341705322, loss_im 0.0, loss_ad_global 0.6931344866752625, loss_ad_local 0.7217399477958679\n",
            "loss_clc 3.4358603954315186, loss_im 0.0, loss_ad_global 0.6931238770484924, loss_ad_local 0.716877281665802\n",
            "loss_clc 3.4104504585266113, loss_im 0.0, loss_ad_global 0.693060576915741, loss_ad_local 0.7195178866386414\n",
            "loss_clc 3.4261348247528076, loss_im 0.0, loss_ad_global 0.6932237148284912, loss_ad_local 0.7180389165878296\n",
            "loss_clc 3.429232358932495, loss_im 0.0, loss_ad_global 0.6932389736175537, loss_ad_local 0.7204158306121826\n",
            "loss_clc 3.4218764305114746, loss_im 0.0, loss_ad_global 0.6930592060089111, loss_ad_local 0.7188936471939087\n",
            "loss_clc 3.424686908721924, loss_im 0.0, loss_ad_global 0.6931723356246948, loss_ad_local 0.7193642854690552\n",
            "loss_clc 3.4440886974334717, loss_im 0.0, loss_ad_global 0.6932164430618286, loss_ad_local 0.7202539443969727\n",
            "loss_clc 3.4367308616638184, loss_im 0.0, loss_ad_global 0.6932103633880615, loss_ad_local 0.7220799922943115\n",
            "loss_clc 3.4256067276000977, loss_im 0.0, loss_ad_global 0.6932021379470825, loss_ad_local 0.7196254730224609\n",
            "loss_clc 3.4188413619995117, loss_im 0.0, loss_ad_global 0.6931015253067017, loss_ad_local 0.7194639444351196\n",
            "loss_clc 3.417212963104248, loss_im 0.0, loss_ad_global 0.693249523639679, loss_ad_local 0.7213311195373535\n",
            "loss_clc 3.4492037296295166, loss_im 0.0, loss_ad_global 0.6930828094482422, loss_ad_local 0.7172327041625977\n"
          ]
        },
        {
          "output_type": "stream",
          "name": "stderr",
          "text": [
            "Validating... (loss=3.43970): 100%|| 50/50 [00:07<00:00,  6.84it/s]\n"
          ]
        },
        {
          "output_type": "stream",
          "name": "stdout",
          "text": [
            "loss_clc 3.433074712753296, loss_im 0.0, loss_ad_global 0.6931445598602295, loss_ad_local 0.7216617465019226\n",
            "loss_clc 3.4367361068725586, loss_im 0.0, loss_ad_global 0.693092942237854, loss_ad_local 0.7180237770080566\n",
            "loss_clc 3.4262449741363525, loss_im 0.0, loss_ad_global 0.6930537223815918, loss_ad_local 0.7195613980293274\n",
            "loss_clc 3.462406873703003, loss_im 0.0, loss_ad_global 0.6931795477867126, loss_ad_local 0.7175883054733276\n",
            "loss_clc 3.428053379058838, loss_im 0.0, loss_ad_global 0.6931530237197876, loss_ad_local 0.7188999652862549\n",
            "loss_clc 3.444640874862671, loss_im 0.0, loss_ad_global 0.6931455135345459, loss_ad_local 0.7180390357971191\n",
            "loss_clc 3.442441940307617, loss_im 0.0, loss_ad_global 0.6932165622711182, loss_ad_local 0.7184151411056519\n",
            "loss_clc 3.431983470916748, loss_im 0.0, loss_ad_global 0.6931993961334229, loss_ad_local 0.7208852767944336\n",
            "loss_clc 3.4323840141296387, loss_im 0.0, loss_ad_global 0.6931653022766113, loss_ad_local 0.7176412343978882\n",
            "loss_clc 3.413485527038574, loss_im 0.0, loss_ad_global 0.6932541728019714, loss_ad_local 0.7191898822784424\n",
            "loss_clc 3.4285640716552734, loss_im 0.0, loss_ad_global 0.6930419206619263, loss_ad_local 0.717064380645752\n",
            "loss_clc 3.4060018062591553, loss_im 0.0, loss_ad_global 0.6931247711181641, loss_ad_local 0.7183571457862854\n",
            "loss_clc 3.4501230716705322, loss_im 0.0, loss_ad_global 0.6931984424591064, loss_ad_local 0.7196900248527527\n",
            "loss_clc 3.441437244415283, loss_im 0.0, loss_ad_global 0.6932884454727173, loss_ad_local 0.718640923500061\n",
            "loss_clc 3.4318244457244873, loss_im 0.0, loss_ad_global 0.6931908130645752, loss_ad_local 0.7210524678230286\n",
            "loss_clc 3.4227454662323, loss_im 0.0, loss_ad_global 0.6931614875793457, loss_ad_local 0.72219318151474\n",
            "loss_clc 3.4246912002563477, loss_im 0.0, loss_ad_global 0.6932929158210754, loss_ad_local 0.7191932201385498\n",
            "loss_clc 3.4308278560638428, loss_im 0.0, loss_ad_global 0.6931062340736389, loss_ad_local 0.7182977199554443\n",
            "loss_clc 3.4313323497772217, loss_im 0.0, loss_ad_global 0.6931414604187012, loss_ad_local 0.7186931371688843\n",
            "loss_clc 3.414673089981079, loss_im 0.0, loss_ad_global 0.6932435035705566, loss_ad_local 0.7184646129608154\n"
          ]
        },
        {
          "output_type": "stream",
          "name": "stderr",
          "text": [
            "Validating... (loss=3.41558): 100%|| 50/50 [00:07<00:00,  6.74it/s]\n"
          ]
        },
        {
          "output_type": "stream",
          "name": "stdout",
          "text": [
            "loss_clc 3.4228668212890625, loss_im 0.0, loss_ad_global 0.6930747032165527, loss_ad_local 0.7202591300010681\n",
            "loss_clc 3.4111599922180176, loss_im 0.0, loss_ad_global 0.6931759119033813, loss_ad_local 0.7185530066490173\n",
            "loss_clc 3.4195852279663086, loss_im 0.0, loss_ad_global 0.6931602954864502, loss_ad_local 0.7193058729171753\n",
            "loss_clc 3.437013864517212, loss_im 0.0, loss_ad_global 0.6931983232498169, loss_ad_local 0.7197787165641785\n",
            "loss_clc 3.4174036979675293, loss_im 0.0, loss_ad_global 0.693203866481781, loss_ad_local 0.7191154956817627\n",
            "loss_clc 3.4192898273468018, loss_im 0.0, loss_ad_global 0.6931374073028564, loss_ad_local 0.7191154956817627\n",
            "loss_clc 3.430647850036621, loss_im 0.0, loss_ad_global 0.6930732727050781, loss_ad_local 0.7215375900268555\n",
            "loss_clc 3.4126298427581787, loss_im 0.0, loss_ad_global 0.6931487321853638, loss_ad_local 0.7209791541099548\n",
            "loss_clc 3.4459781646728516, loss_im 0.0, loss_ad_global 0.6930707693099976, loss_ad_local 0.7187225818634033\n",
            "loss_clc 3.433166027069092, loss_im 0.0, loss_ad_global 0.6931004524230957, loss_ad_local 0.7190569043159485\n",
            "loss_clc 3.4353384971618652, loss_im 0.0, loss_ad_global 0.6932045221328735, loss_ad_local 0.7181060910224915\n",
            "loss_clc 3.3981873989105225, loss_im 0.0, loss_ad_global 0.6931747794151306, loss_ad_local 0.7195141315460205\n",
            "loss_clc 3.4320809841156006, loss_im 0.0, loss_ad_global 0.693164050579071, loss_ad_local 0.7178720235824585\n",
            "loss_clc 3.446155071258545, loss_im 0.0, loss_ad_global 0.6931774616241455, loss_ad_local 0.7186102867126465\n",
            "loss_clc 3.4136736392974854, loss_im 0.0, loss_ad_global 0.6931641101837158, loss_ad_local 0.7195199131965637\n",
            "loss_clc 3.410041570663452, loss_im 0.0, loss_ad_global 0.6931107044219971, loss_ad_local 0.7184345722198486\n",
            "loss_clc 3.42108154296875, loss_im 0.0, loss_ad_global 0.6930675506591797, loss_ad_local 0.7216575741767883\n",
            "loss_clc 3.4145090579986572, loss_im 0.0, loss_ad_global 0.69315505027771, loss_ad_local 0.7235202193260193\n",
            "loss_clc 3.401167154312134, loss_im 0.0, loss_ad_global 0.6932342052459717, loss_ad_local 0.7218615412712097\n",
            "loss_clc 3.426708936691284, loss_im 0.0, loss_ad_global 0.693189263343811, loss_ad_local 0.7193028926849365\n"
          ]
        },
        {
          "output_type": "stream",
          "name": "stderr",
          "text": [
            "Validating... (loss=3.41636): 100%|| 50/50 [00:07<00:00,  6.85it/s]\n"
          ]
        },
        {
          "output_type": "stream",
          "name": "stdout",
          "text": [
            "loss_clc 3.417142629623413, loss_im 0.0, loss_ad_global 0.6932474374771118, loss_ad_local 0.7196753621101379\n",
            "loss_clc 3.441711187362671, loss_im 0.0, loss_ad_global 0.6931343078613281, loss_ad_local 0.7189152240753174\n",
            "loss_clc 3.4174916744232178, loss_im 0.0, loss_ad_global 0.6932575702667236, loss_ad_local 0.7197737693786621\n",
            "loss_clc 3.4206459522247314, loss_im 0.0, loss_ad_global 0.6930710077285767, loss_ad_local 0.7179883718490601\n",
            "loss_clc 3.4197838306427, loss_im 0.0, loss_ad_global 0.6932426691055298, loss_ad_local 0.7202736735343933\n",
            "loss_clc 3.451983690261841, loss_im 0.0, loss_ad_global 0.693170964717865, loss_ad_local 0.7202332019805908\n",
            "loss_clc 3.417673110961914, loss_im 0.0, loss_ad_global 0.6931092739105225, loss_ad_local 0.7192835807800293\n",
            "loss_clc 3.438063144683838, loss_im 0.0, loss_ad_global 0.6931592226028442, loss_ad_local 0.7182063460350037\n",
            "loss_clc 3.428769111633301, loss_im 0.0, loss_ad_global 0.6931712627410889, loss_ad_local 0.7174996733665466\n",
            "loss_clc 3.4292728900909424, loss_im 0.0, loss_ad_global 0.6931716203689575, loss_ad_local 0.7198718190193176\n",
            "loss_clc 3.415228843688965, loss_im 0.0, loss_ad_global 0.6931924819946289, loss_ad_local 0.7191998958587646\n",
            "loss_clc 3.4263134002685547, loss_im 0.0, loss_ad_global 0.6931449174880981, loss_ad_local 0.7174521684646606\n",
            "loss_clc 3.4212212562561035, loss_im 0.0, loss_ad_global 0.6932241916656494, loss_ad_local 0.7203493118286133\n",
            "loss_clc 3.40891432762146, loss_im 0.0, loss_ad_global 0.6931930780410767, loss_ad_local 0.7218739986419678\n",
            "loss_clc 3.421502113342285, loss_im 0.0, loss_ad_global 0.6931389570236206, loss_ad_local 0.719118595123291\n",
            "loss_clc 3.430023431777954, loss_im 0.0, loss_ad_global 0.6932094693183899, loss_ad_local 0.7191741466522217\n",
            "loss_clc 3.4365525245666504, loss_im 0.0, loss_ad_global 0.6932735443115234, loss_ad_local 0.7200879454612732\n",
            "loss_clc 3.4221551418304443, loss_im 0.0, loss_ad_global 0.6931264400482178, loss_ad_local 0.7194815874099731\n",
            "loss_clc 3.4012997150421143, loss_im 0.0, loss_ad_global 0.6931232810020447, loss_ad_local 0.7207536697387695\n",
            "loss_clc 3.4504764080047607, loss_im 0.0, loss_ad_global 0.6932699680328369, loss_ad_local 0.7190157175064087\n"
          ]
        },
        {
          "output_type": "stream",
          "name": "stderr",
          "text": [
            "Validating... (loss=3.41224): 100%|| 50/50 [00:07<00:00,  6.82it/s]\n"
          ]
        },
        {
          "output_type": "stream",
          "name": "stdout",
          "text": [
            "loss_clc 3.4328835010528564, loss_im 0.0, loss_ad_global 0.6932126879692078, loss_ad_local 0.7206204533576965\n",
            "loss_clc 3.470616102218628, loss_im 0.0, loss_ad_global 0.6931548714637756, loss_ad_local 0.7194186449050903\n",
            "loss_clc 3.4331412315368652, loss_im 0.0, loss_ad_global 0.6931026577949524, loss_ad_local 0.7195550203323364\n",
            "loss_clc 3.4057698249816895, loss_im 0.0, loss_ad_global 0.6931185722351074, loss_ad_local 0.7207806706428528\n",
            "loss_clc 3.4368412494659424, loss_im 0.0, loss_ad_global 0.6931344270706177, loss_ad_local 0.7206840515136719\n",
            "loss_clc 3.4203484058380127, loss_im 0.0, loss_ad_global 0.6931126117706299, loss_ad_local 0.7175716161727905\n",
            "loss_clc 3.4324541091918945, loss_im 0.0, loss_ad_global 0.6931928396224976, loss_ad_local 0.7188519835472107\n",
            "loss_clc 3.452747344970703, loss_im 0.0, loss_ad_global 0.6931949853897095, loss_ad_local 0.7178600430488586\n",
            "loss_clc 3.424577236175537, loss_im 0.0, loss_ad_global 0.6931319236755371, loss_ad_local 0.7210089564323425\n",
            "loss_clc 3.444972515106201, loss_im 0.0, loss_ad_global 0.6931522488594055, loss_ad_local 0.7205095291137695\n",
            "loss_clc 3.4145936965942383, loss_im 0.0, loss_ad_global 0.6931395530700684, loss_ad_local 0.7203848361968994\n",
            "loss_clc 3.4098942279815674, loss_im 0.0, loss_ad_global 0.6930898427963257, loss_ad_local 0.7187491655349731\n",
            "loss_clc 3.4559857845306396, loss_im 0.0, loss_ad_global 0.6931383609771729, loss_ad_local 0.7198999524116516\n",
            "loss_clc 3.417757034301758, loss_im 0.0, loss_ad_global 0.6932090520858765, loss_ad_local 0.7189551591873169\n",
            "loss_clc 3.411637544631958, loss_im 0.0, loss_ad_global 0.693152666091919, loss_ad_local 0.721014142036438\n",
            "loss_clc 3.4283854961395264, loss_im 0.0, loss_ad_global 0.6932252049446106, loss_ad_local 0.7209558486938477\n",
            "loss_clc 3.442359447479248, loss_im 0.0, loss_ad_global 0.693280816078186, loss_ad_local 0.7190823554992676\n",
            "loss_clc 3.4284372329711914, loss_im 0.0, loss_ad_global 0.6931614875793457, loss_ad_local 0.7202054262161255\n",
            "loss_clc 3.4059226512908936, loss_im 0.0, loss_ad_global 0.6932609677314758, loss_ad_local 0.7203039526939392\n",
            "loss_clc 3.4389874935150146, loss_im 0.0, loss_ad_global 0.693122148513794, loss_ad_local 0.7222466468811035\n"
          ]
        },
        {
          "output_type": "stream",
          "name": "stderr",
          "text": [
            "Validating... (loss=3.41881): 100%|| 50/50 [00:07<00:00,  6.72it/s]\n"
          ]
        },
        {
          "output_type": "stream",
          "name": "stdout",
          "text": [
            "loss_clc 3.4166388511657715, loss_im 0.0, loss_ad_global 0.6931710243225098, loss_ad_local 0.7195677161216736\n",
            "loss_clc 3.428074836730957, loss_im 0.0, loss_ad_global 0.693243145942688, loss_ad_local 0.7193107604980469\n",
            "loss_clc 3.4290246963500977, loss_im 0.0, loss_ad_global 0.6931837797164917, loss_ad_local 0.7168171405792236\n",
            "loss_clc 3.4161272048950195, loss_im 0.0, loss_ad_global 0.6931390166282654, loss_ad_local 0.7217247486114502\n",
            "loss_clc 3.4305107593536377, loss_im 0.0, loss_ad_global 0.6931619644165039, loss_ad_local 0.7192285060882568\n",
            "loss_clc 3.4339005947113037, loss_im 0.0, loss_ad_global 0.6931062936782837, loss_ad_local 0.7206449508666992\n",
            "loss_clc 3.4343602657318115, loss_im 0.0, loss_ad_global 0.6931921243667603, loss_ad_local 0.7200260758399963\n",
            "loss_clc 3.431384325027466, loss_im 0.0, loss_ad_global 0.6930867433547974, loss_ad_local 0.7173062562942505\n",
            "loss_clc 3.441068649291992, loss_im 0.0, loss_ad_global 0.6931860446929932, loss_ad_local 0.7201432585716248\n",
            "loss_clc 3.453648328781128, loss_im 0.0, loss_ad_global 0.693236768245697, loss_ad_local 0.7185990214347839\n",
            "loss_clc 3.423731803894043, loss_im 0.0, loss_ad_global 0.6931576132774353, loss_ad_local 0.7187139987945557\n",
            "loss_clc 3.4178242683410645, loss_im 0.0, loss_ad_global 0.6932758092880249, loss_ad_local 0.721082329750061\n",
            "loss_clc 3.446977376937866, loss_im 0.0, loss_ad_global 0.6930804252624512, loss_ad_local 0.7197403311729431\n",
            "loss_clc 3.457364082336426, loss_im 0.0, loss_ad_global 0.6931132078170776, loss_ad_local 0.720676064491272\n",
            "loss_clc 3.4162676334381104, loss_im 0.0, loss_ad_global 0.693259596824646, loss_ad_local 0.7221473455429077\n",
            "loss_clc 3.4174745082855225, loss_im 0.0, loss_ad_global 0.6931317448616028, loss_ad_local 0.7178599834442139\n",
            "loss_clc 3.470197916030884, loss_im 0.0, loss_ad_global 0.6932203769683838, loss_ad_local 0.7199667692184448\n",
            "loss_clc 3.4127304553985596, loss_im 0.0, loss_ad_global 0.6932194232940674, loss_ad_local 0.7195211052894592\n",
            "loss_clc 3.435926675796509, loss_im 0.0, loss_ad_global 0.6931847333908081, loss_ad_local 0.7181493043899536\n",
            "loss_clc 3.4160218238830566, loss_im 0.0, loss_ad_global 0.6931999921798706, loss_ad_local 0.7202239036560059\n"
          ]
        },
        {
          "output_type": "stream",
          "name": "stderr",
          "text": [
            "Validating... (loss=3.42223): 100%|| 50/50 [00:07<00:00,  6.87it/s]\n"
          ]
        },
        {
          "output_type": "stream",
          "name": "stdout",
          "text": [
            "loss_clc 3.4503607749938965, loss_im 0.0, loss_ad_global 0.6931636333465576, loss_ad_local 0.7209151387214661\n",
            "loss_clc 3.4199256896972656, loss_im 0.0, loss_ad_global 0.6932069063186646, loss_ad_local 0.7190392017364502\n",
            "loss_clc 3.411512851715088, loss_im 0.0, loss_ad_global 0.6932209730148315, loss_ad_local 0.7191084623336792\n",
            "loss_clc 3.4320452213287354, loss_im 0.0, loss_ad_global 0.6932718753814697, loss_ad_local 0.7187650203704834\n",
            "loss_clc 3.4236228466033936, loss_im 0.0, loss_ad_global 0.6932083964347839, loss_ad_local 0.7189940810203552\n",
            "loss_clc 3.4228522777557373, loss_im 0.0, loss_ad_global 0.693029522895813, loss_ad_local 0.7195061445236206\n",
            "loss_clc 3.4236557483673096, loss_im 0.0, loss_ad_global 0.6931772232055664, loss_ad_local 0.7191019058227539\n",
            "loss_clc 3.4358339309692383, loss_im 0.0, loss_ad_global 0.6930683255195618, loss_ad_local 0.7200385332107544\n",
            "loss_clc 3.402900457382202, loss_im 0.0, loss_ad_global 0.6932153701782227, loss_ad_local 0.7197234630584717\n",
            "loss_clc 3.4109158515930176, loss_im 0.0, loss_ad_global 0.6931380033493042, loss_ad_local 0.720458447933197\n",
            "loss_clc 3.4303066730499268, loss_im 0.0, loss_ad_global 0.6930986046791077, loss_ad_local 0.719524621963501\n",
            "loss_clc 3.4239470958709717, loss_im 0.0, loss_ad_global 0.6931617259979248, loss_ad_local 0.7230286598205566\n",
            "loss_clc 3.410013198852539, loss_im 0.0, loss_ad_global 0.6932366490364075, loss_ad_local 0.7206306457519531\n",
            "loss_clc 3.4297432899475098, loss_im 0.0, loss_ad_global 0.6932336091995239, loss_ad_local 0.7200343012809753\n",
            "loss_clc 3.4275176525115967, loss_im 0.0, loss_ad_global 0.6931802034378052, loss_ad_local 0.7209621667861938\n",
            "loss_clc 3.4086968898773193, loss_im 0.0, loss_ad_global 0.693126916885376, loss_ad_local 0.7200403213500977\n",
            "loss_clc 3.408325672149658, loss_im 0.0, loss_ad_global 0.6930296421051025, loss_ad_local 0.7183253765106201\n",
            "loss_clc 3.4322240352630615, loss_im 0.0, loss_ad_global 0.6930071115493774, loss_ad_local 0.718987226486206\n",
            "loss_clc 3.443023204803467, loss_im 0.0, loss_ad_global 0.6931120157241821, loss_ad_local 0.7201114892959595\n",
            "loss_clc 3.4130661487579346, loss_im 0.0, loss_ad_global 0.693149745464325, loss_ad_local 0.7205780148506165\n"
          ]
        },
        {
          "output_type": "stream",
          "name": "stderr",
          "text": [
            "Validating... (loss=3.43176): 100%|| 50/50 [00:07<00:00,  6.79it/s]\n"
          ]
        },
        {
          "output_type": "stream",
          "name": "stdout",
          "text": [
            "loss_clc 3.4556922912597656, loss_im 0.0, loss_ad_global 0.6931107640266418, loss_ad_local 0.7200738191604614\n",
            "loss_clc 3.4305920600891113, loss_im 0.0, loss_ad_global 0.693223237991333, loss_ad_local 0.7203775644302368\n",
            "loss_clc 3.4368085861206055, loss_im 0.0, loss_ad_global 0.6931666135787964, loss_ad_local 0.7188298106193542\n",
            "loss_clc 3.434744358062744, loss_im 0.0, loss_ad_global 0.6930995583534241, loss_ad_local 0.7180981636047363\n",
            "loss_clc 3.441051483154297, loss_im 0.0, loss_ad_global 0.6932251453399658, loss_ad_local 0.7189797759056091\n",
            "loss_clc 3.4184060096740723, loss_im 0.0, loss_ad_global 0.6931089162826538, loss_ad_local 0.7202551960945129\n",
            "loss_clc 3.443108320236206, loss_im 0.0, loss_ad_global 0.6932265162467957, loss_ad_local 0.7196763753890991\n",
            "loss_clc 3.4390852451324463, loss_im 0.0, loss_ad_global 0.6930873394012451, loss_ad_local 0.7207319736480713\n",
            "loss_clc 3.417841911315918, loss_im 0.0, loss_ad_global 0.6930420398712158, loss_ad_local 0.7187379598617554\n",
            "loss_clc 3.4477617740631104, loss_im 0.0, loss_ad_global 0.6931427717208862, loss_ad_local 0.7198755741119385\n",
            "loss_clc 3.42724347114563, loss_im 0.0, loss_ad_global 0.6929935216903687, loss_ad_local 0.7206734418869019\n",
            "loss_clc 3.4448390007019043, loss_im 0.0, loss_ad_global 0.6932002305984497, loss_ad_local 0.7199568748474121\n",
            "loss_clc 3.420480728149414, loss_im 0.0, loss_ad_global 0.6931621432304382, loss_ad_local 0.7185426950454712\n",
            "loss_clc 3.43277907371521, loss_im 0.0, loss_ad_global 0.6931411027908325, loss_ad_local 0.7189116477966309\n",
            "loss_clc 3.4176321029663086, loss_im 0.0, loss_ad_global 0.6931439638137817, loss_ad_local 0.7188553214073181\n",
            "loss_clc 3.419795036315918, loss_im 0.0, loss_ad_global 0.6930248141288757, loss_ad_local 0.7203025817871094\n",
            "loss_clc 3.4441933631896973, loss_im 0.0, loss_ad_global 0.6931589841842651, loss_ad_local 0.7175672054290771\n",
            "loss_clc 3.421807050704956, loss_im 0.0, loss_ad_global 0.6930882930755615, loss_ad_local 0.7206721901893616\n",
            "loss_clc 3.4130828380584717, loss_im 0.0, loss_ad_global 0.6930974721908569, loss_ad_local 0.7206182479858398\n",
            "loss_clc 3.4224953651428223, loss_im 0.0, loss_ad_global 0.6930662393569946, loss_ad_local 0.7201380133628845\n"
          ]
        },
        {
          "output_type": "stream",
          "name": "stderr",
          "text": [
            "Validating... (loss=3.43178): 100%|| 50/50 [00:07<00:00,  6.85it/s]\n"
          ]
        },
        {
          "output_type": "stream",
          "name": "stdout",
          "text": [
            "loss_clc 3.415846586227417, loss_im 0.0, loss_ad_global 0.6932384967803955, loss_ad_local 0.720110297203064\n",
            "loss_clc 3.4429516792297363, loss_im 0.0, loss_ad_global 0.6931068897247314, loss_ad_local 0.7200702428817749\n",
            "loss_clc 3.4356205463409424, loss_im 0.0, loss_ad_global 0.693175733089447, loss_ad_local 0.7217420339584351\n",
            "loss_clc 3.414473056793213, loss_im 0.0, loss_ad_global 0.6931485533714294, loss_ad_local 0.7188828587532043\n",
            "loss_clc 3.4329159259796143, loss_im 0.0, loss_ad_global 0.6932207345962524, loss_ad_local 0.720201849937439\n",
            "loss_clc 3.410173177719116, loss_im 0.0, loss_ad_global 0.6931760907173157, loss_ad_local 0.7206217050552368\n",
            "loss_clc 3.427018642425537, loss_im 0.0, loss_ad_global 0.6930719614028931, loss_ad_local 0.720521867275238\n",
            "loss_clc 3.405034303665161, loss_im 0.0, loss_ad_global 0.6932655572891235, loss_ad_local 0.7201643586158752\n",
            "loss_clc 3.4335243701934814, loss_im 0.0, loss_ad_global 0.693143367767334, loss_ad_local 0.721576452255249\n",
            "loss_clc 3.4101638793945312, loss_im 0.0, loss_ad_global 0.6931768655776978, loss_ad_local 0.720837414264679\n",
            "loss_clc 3.4175918102264404, loss_im 0.0, loss_ad_global 0.6931629180908203, loss_ad_local 0.7174086570739746\n",
            "loss_clc 3.425280809402466, loss_im 0.0, loss_ad_global 0.6930698156356812, loss_ad_local 0.7180973291397095\n",
            "loss_clc 3.4343605041503906, loss_im 0.0, loss_ad_global 0.6931462287902832, loss_ad_local 0.7185421586036682\n",
            "loss_clc 3.432234287261963, loss_im 0.0, loss_ad_global 0.6930904388427734, loss_ad_local 0.7181082963943481\n",
            "loss_clc 3.4559948444366455, loss_im 0.0, loss_ad_global 0.6932052373886108, loss_ad_local 0.7210531830787659\n",
            "loss_clc 3.4244906902313232, loss_im 0.0, loss_ad_global 0.6932421922683716, loss_ad_local 0.7193471789360046\n",
            "loss_clc 3.4357998371124268, loss_im 0.0, loss_ad_global 0.6932836771011353, loss_ad_local 0.7209980487823486\n",
            "loss_clc 3.452706813812256, loss_im 0.0, loss_ad_global 0.6931674480438232, loss_ad_local 0.7191823124885559\n",
            "loss_clc 3.42500901222229, loss_im 0.0, loss_ad_global 0.6930503249168396, loss_ad_local 0.7185124158859253\n",
            "loss_clc 3.4570066928863525, loss_im 0.0, loss_ad_global 0.6932328939437866, loss_ad_local 0.7199903726577759\n"
          ]
        },
        {
          "output_type": "stream",
          "name": "stderr",
          "text": [
            "Validating... (loss=3.42392): 100%|| 50/50 [00:07<00:00,  6.77it/s]\n"
          ]
        },
        {
          "output_type": "stream",
          "name": "stdout",
          "text": [
            "loss_clc 3.4636948108673096, loss_im 0.0, loss_ad_global 0.6930967569351196, loss_ad_local 0.7199234962463379\n",
            "loss_clc 3.4444057941436768, loss_im 0.0, loss_ad_global 0.6931662559509277, loss_ad_local 0.7184827327728271\n",
            "loss_clc 3.4183201789855957, loss_im 0.0, loss_ad_global 0.6931966543197632, loss_ad_local 0.7192190289497375\n",
            "loss_clc 3.4612667560577393, loss_im 0.0, loss_ad_global 0.6931793093681335, loss_ad_local 0.721548318862915\n",
            "loss_clc 3.4272093772888184, loss_im 0.0, loss_ad_global 0.6932203769683838, loss_ad_local 0.7194623351097107\n",
            "loss_clc 3.4213755130767822, loss_im 0.0, loss_ad_global 0.6931502819061279, loss_ad_local 0.7203681468963623\n",
            "loss_clc 3.4235644340515137, loss_im 0.0, loss_ad_global 0.6931192874908447, loss_ad_local 0.7204402089118958\n",
            "loss_clc 3.4132049083709717, loss_im 0.0, loss_ad_global 0.6932271718978882, loss_ad_local 0.7191187143325806\n",
            "loss_clc 3.4144372940063477, loss_im 0.0, loss_ad_global 0.6932068467140198, loss_ad_local 0.7187091112136841\n",
            "loss_clc 3.440544843673706, loss_im 0.0, loss_ad_global 0.6931824684143066, loss_ad_local 0.7183440923690796\n",
            "loss_clc 3.4267029762268066, loss_im 0.0, loss_ad_global 0.6932445764541626, loss_ad_local 0.7205961346626282\n",
            "loss_clc 3.4212985038757324, loss_im 0.0, loss_ad_global 0.6931847333908081, loss_ad_local 0.7200897336006165\n",
            "loss_clc 3.421290874481201, loss_im 0.0, loss_ad_global 0.693280041217804, loss_ad_local 0.7200914621353149\n",
            "loss_clc 3.4199109077453613, loss_im 0.0, loss_ad_global 0.6931498050689697, loss_ad_local 0.7189000248908997\n",
            "loss_clc 3.423243761062622, loss_im 0.0, loss_ad_global 0.6931727528572083, loss_ad_local 0.7181171178817749\n",
            "loss_clc 3.456594944000244, loss_im 0.0, loss_ad_global 0.6932178735733032, loss_ad_local 0.719770073890686\n",
            "loss_clc 3.440450668334961, loss_im 0.0, loss_ad_global 0.693120539188385, loss_ad_local 0.7183722257614136\n",
            "loss_clc 3.4374303817749023, loss_im 0.0, loss_ad_global 0.6931246519088745, loss_ad_local 0.7172935009002686\n",
            "loss_clc 3.4259207248687744, loss_im 0.0, loss_ad_global 0.6931772828102112, loss_ad_local 0.7208653688430786\n",
            "loss_clc 3.4270615577697754, loss_im 0.0, loss_ad_global 0.6931357979774475, loss_ad_local 0.7202064990997314\n"
          ]
        },
        {
          "output_type": "stream",
          "name": "stderr",
          "text": [
            "Validating... (loss=3.41846): 100%|| 50/50 [00:07<00:00,  6.84it/s]\n"
          ]
        },
        {
          "output_type": "stream",
          "name": "stdout",
          "text": [
            "loss_clc 3.4362995624542236, loss_im 0.0, loss_ad_global 0.6931164264678955, loss_ad_local 0.7178526520729065\n",
            "loss_clc 3.464360475540161, loss_im 0.0, loss_ad_global 0.693202018737793, loss_ad_local 0.7178809642791748\n",
            "loss_clc 3.4353368282318115, loss_im 0.0, loss_ad_global 0.693207859992981, loss_ad_local 0.7201641798019409\n",
            "loss_clc 3.402524948120117, loss_im 0.0, loss_ad_global 0.6931629776954651, loss_ad_local 0.7172061204910278\n",
            "loss_clc 3.438770055770874, loss_im 0.0, loss_ad_global 0.6931289434432983, loss_ad_local 0.721184253692627\n",
            "loss_clc 3.4238193035125732, loss_im 0.0, loss_ad_global 0.6931324005126953, loss_ad_local 0.7206760048866272\n",
            "loss_clc 3.41825795173645, loss_im 0.0, loss_ad_global 0.6931242942810059, loss_ad_local 0.7196700572967529\n",
            "loss_clc 3.4207518100738525, loss_im 0.0, loss_ad_global 0.6932332515716553, loss_ad_local 0.7218816876411438\n",
            "loss_clc 3.4374420642852783, loss_im 0.0, loss_ad_global 0.6932002305984497, loss_ad_local 0.7194895148277283\n",
            "loss_clc 3.4256844520568848, loss_im 0.0, loss_ad_global 0.6931072473526001, loss_ad_local 0.7175343036651611\n",
            "loss_clc 3.44547176361084, loss_im 0.0, loss_ad_global 0.693122386932373, loss_ad_local 0.7228863835334778\n",
            "loss_clc 3.420372724533081, loss_im 0.0, loss_ad_global 0.6932253837585449, loss_ad_local 0.7188338041305542\n",
            "loss_clc 3.4088006019592285, loss_im 0.0, loss_ad_global 0.6930832862854004, loss_ad_local 0.7203033566474915\n",
            "loss_clc 3.4291136264801025, loss_im 0.0, loss_ad_global 0.693187952041626, loss_ad_local 0.7187985181808472\n",
            "loss_clc 3.4075136184692383, loss_im 0.0, loss_ad_global 0.6931871175765991, loss_ad_local 0.7210708856582642\n",
            "loss_clc 3.41717529296875, loss_im 0.0, loss_ad_global 0.6931101083755493, loss_ad_local 0.7193682193756104\n",
            "loss_clc 3.434979200363159, loss_im 0.0, loss_ad_global 0.693107545375824, loss_ad_local 0.7220785021781921\n",
            "loss_clc 3.405578136444092, loss_im 0.0, loss_ad_global 0.6931833624839783, loss_ad_local 0.7203545570373535\n",
            "loss_clc 3.413872241973877, loss_im 0.0, loss_ad_global 0.6931910514831543, loss_ad_local 0.7198798060417175\n",
            "loss_clc 3.426640510559082, loss_im 0.0, loss_ad_global 0.6931041479110718, loss_ad_local 0.7203431129455566\n"
          ]
        },
        {
          "output_type": "stream",
          "name": "stderr",
          "text": [
            "Validating... (loss=3.40333): 100%|| 50/50 [00:07<00:00,  6.83it/s]\n"
          ]
        },
        {
          "output_type": "stream",
          "name": "stdout",
          "text": [
            "loss_clc 3.4243552684783936, loss_im 0.0, loss_ad_global 0.6931878924369812, loss_ad_local 0.722639262676239\n",
            "loss_clc 3.43058705329895, loss_im 0.0, loss_ad_global 0.693160891532898, loss_ad_local 0.7203347682952881\n",
            "loss_clc 3.4264585971832275, loss_im 0.0, loss_ad_global 0.6932174563407898, loss_ad_local 0.7199472188949585\n",
            "loss_clc 3.4281363487243652, loss_im 0.0, loss_ad_global 0.6931584477424622, loss_ad_local 0.718870222568512\n",
            "loss_clc 3.416625738143921, loss_im 0.0, loss_ad_global 0.6932605504989624, loss_ad_local 0.7223288416862488\n",
            "loss_clc 3.4130916595458984, loss_im 0.0, loss_ad_global 0.693126380443573, loss_ad_local 0.7214788198471069\n",
            "loss_clc 3.4109232425689697, loss_im 0.0, loss_ad_global 0.6930976510047913, loss_ad_local 0.7198508381843567\n",
            "loss_clc 3.4373793601989746, loss_im 0.0, loss_ad_global 0.6931005716323853, loss_ad_local 0.7217921018600464\n",
            "loss_clc 3.421459913253784, loss_im 0.0, loss_ad_global 0.6931398510932922, loss_ad_local 0.7186486721038818\n",
            "loss_clc 3.4157423973083496, loss_im 0.0, loss_ad_global 0.693110466003418, loss_ad_local 0.7224036455154419\n",
            "loss_clc 3.424285888671875, loss_im 0.0, loss_ad_global 0.6932092905044556, loss_ad_local 0.7189795970916748\n",
            "loss_clc 3.4408156871795654, loss_im 0.0, loss_ad_global 0.6932153701782227, loss_ad_local 0.7199130058288574\n",
            "loss_clc 3.41804838180542, loss_im 0.0, loss_ad_global 0.6930397748947144, loss_ad_local 0.7194857597351074\n",
            "loss_clc 3.41265869140625, loss_im 0.0, loss_ad_global 0.6932023763656616, loss_ad_local 0.7211374640464783\n",
            "loss_clc 3.413926124572754, loss_im 0.0, loss_ad_global 0.6930943727493286, loss_ad_local 0.7199274301528931\n",
            "loss_clc 3.425433397293091, loss_im 0.0, loss_ad_global 0.6932138204574585, loss_ad_local 0.7194751501083374\n",
            "loss_clc 3.4211692810058594, loss_im 0.0, loss_ad_global 0.6931576728820801, loss_ad_local 0.7218477725982666\n",
            "loss_clc 3.420964479446411, loss_im 0.0, loss_ad_global 0.6931124925613403, loss_ad_local 0.7201628684997559\n",
            "loss_clc 3.4162862300872803, loss_im 0.0, loss_ad_global 0.693073570728302, loss_ad_local 0.7195543050765991\n",
            "loss_clc 3.419956684112549, loss_im 0.0, loss_ad_global 0.6932255029678345, loss_ad_local 0.7195309400558472\n"
          ]
        },
        {
          "output_type": "stream",
          "name": "stderr",
          "text": [
            "Validating... (loss=3.44155): 100%|| 50/50 [00:07<00:00,  6.79it/s]\n"
          ]
        },
        {
          "output_type": "stream",
          "name": "stdout",
          "text": [
            "loss_clc 3.4184370040893555, loss_im 0.0, loss_ad_global 0.693217396736145, loss_ad_local 0.7220420837402344\n",
            "loss_clc 3.4410927295684814, loss_im 0.0, loss_ad_global 0.6931661367416382, loss_ad_local 0.7203689813613892\n",
            "loss_clc 3.428105115890503, loss_im 0.0, loss_ad_global 0.6932129859924316, loss_ad_local 0.719325840473175\n",
            "loss_clc 3.413604259490967, loss_im 0.0, loss_ad_global 0.693212628364563, loss_ad_local 0.7190791964530945\n",
            "loss_clc 3.4116783142089844, loss_im 0.0, loss_ad_global 0.6931644678115845, loss_ad_local 0.7195514440536499\n",
            "loss_clc 3.437033176422119, loss_im 0.0, loss_ad_global 0.6931936740875244, loss_ad_local 0.7213864326477051\n",
            "loss_clc 3.4382643699645996, loss_im 0.0, loss_ad_global 0.6931315064430237, loss_ad_local 0.721638560295105\n",
            "loss_clc 3.4134111404418945, loss_im 0.0, loss_ad_global 0.6931618452072144, loss_ad_local 0.7196127772331238\n",
            "loss_clc 3.416153907775879, loss_im 0.0, loss_ad_global 0.6932641267776489, loss_ad_local 0.7199103832244873\n",
            "loss_clc 3.45585560798645, loss_im 0.0, loss_ad_global 0.6931189298629761, loss_ad_local 0.7185527086257935\n",
            "loss_clc 3.437999725341797, loss_im 0.0, loss_ad_global 0.6931854486465454, loss_ad_local 0.7203482389450073\n",
            "loss_clc 3.417433977127075, loss_im 0.0, loss_ad_global 0.6931578516960144, loss_ad_local 0.7194666266441345\n",
            "loss_clc 3.417570114135742, loss_im 0.0, loss_ad_global 0.693048894405365, loss_ad_local 0.7189050912857056\n",
            "loss_clc 3.427222728729248, loss_im 0.0, loss_ad_global 0.6932088732719421, loss_ad_local 0.72169029712677\n",
            "loss_clc 3.4236998558044434, loss_im 0.0, loss_ad_global 0.6931242346763611, loss_ad_local 0.7216432094573975\n",
            "loss_clc 3.4264371395111084, loss_im 0.0, loss_ad_global 0.6932421922683716, loss_ad_local 0.7181568145751953\n",
            "loss_clc 3.43168306350708, loss_im 0.0, loss_ad_global 0.6931528449058533, loss_ad_local 0.7215508222579956\n",
            "loss_clc 3.4152169227600098, loss_im 0.0, loss_ad_global 0.6933001279830933, loss_ad_local 0.7185794115066528\n",
            "loss_clc 3.431715250015259, loss_im 0.0, loss_ad_global 0.6932392716407776, loss_ad_local 0.7200334668159485\n",
            "loss_clc 3.417675733566284, loss_im 0.0, loss_ad_global 0.6931172609329224, loss_ad_local 0.7201332449913025\n"
          ]
        },
        {
          "output_type": "stream",
          "name": "stderr",
          "text": [
            "Validating... (loss=3.40179): 100%|| 50/50 [00:07<00:00,  6.83it/s]\n"
          ]
        },
        {
          "output_type": "stream",
          "name": "stdout",
          "text": [
            "loss_clc 3.4291980266571045, loss_im 0.0, loss_ad_global 0.6931185722351074, loss_ad_local 0.7198622226715088\n",
            "loss_clc 3.4388253688812256, loss_im 0.0, loss_ad_global 0.6932035684585571, loss_ad_local 0.7179951667785645\n",
            "loss_clc 3.457305431365967, loss_im 0.0, loss_ad_global 0.6931241750717163, loss_ad_local 0.7188999056816101\n",
            "loss_clc 3.432013511657715, loss_im 0.0, loss_ad_global 0.6931202411651611, loss_ad_local 0.7202663421630859\n",
            "loss_clc 3.4223241806030273, loss_im 0.0, loss_ad_global 0.6931560039520264, loss_ad_local 0.7203948497772217\n",
            "loss_clc 3.434385299682617, loss_im 0.0, loss_ad_global 0.6931293606758118, loss_ad_local 0.722762942314148\n",
            "loss_clc 3.4063758850097656, loss_im 0.0, loss_ad_global 0.6931552886962891, loss_ad_local 0.7220745086669922\n",
            "loss_clc 3.432142972946167, loss_im 0.0, loss_ad_global 0.6932742595672607, loss_ad_local 0.7201595902442932\n",
            "loss_clc 3.4251317977905273, loss_im 0.0, loss_ad_global 0.6931484341621399, loss_ad_local 0.7213200330734253\n",
            "loss_clc 3.4177730083465576, loss_im 0.0, loss_ad_global 0.6930447816848755, loss_ad_local 0.7207074165344238\n",
            "loss_clc 3.404548168182373, loss_im 0.0, loss_ad_global 0.69313645362854, loss_ad_local 0.7191122770309448\n",
            "loss_clc 3.413419008255005, loss_im 0.0, loss_ad_global 0.693126380443573, loss_ad_local 0.7196456789970398\n",
            "loss_clc 3.412517547607422, loss_im 0.0, loss_ad_global 0.693190336227417, loss_ad_local 0.718580961227417\n",
            "loss_clc 3.4201343059539795, loss_im 0.0, loss_ad_global 0.6931300163269043, loss_ad_local 0.7200817465782166\n",
            "loss_clc 3.4329967498779297, loss_im 0.0, loss_ad_global 0.6932060122489929, loss_ad_local 0.7196711897850037\n",
            "loss_clc 3.4533963203430176, loss_im 0.0, loss_ad_global 0.6931071281433105, loss_ad_local 0.7191194891929626\n",
            "loss_clc 3.433011531829834, loss_im 0.0, loss_ad_global 0.693159818649292, loss_ad_local 0.7190811038017273\n",
            "loss_clc 3.429300308227539, loss_im 0.0, loss_ad_global 0.6931411623954773, loss_ad_local 0.7192102670669556\n",
            "loss_clc 3.42996883392334, loss_im 0.0, loss_ad_global 0.6932058334350586, loss_ad_local 0.7186292409896851\n",
            "loss_clc 3.428727865219116, loss_im 0.0, loss_ad_global 0.6931919455528259, loss_ad_local 0.7197118401527405\n"
          ]
        },
        {
          "output_type": "stream",
          "name": "stderr",
          "text": [
            "Validating... (loss=3.41288): 100%|| 50/50 [00:07<00:00,  6.80it/s]\n"
          ]
        },
        {
          "output_type": "stream",
          "name": "stdout",
          "text": [
            "loss_clc 3.424133062362671, loss_im 0.0, loss_ad_global 0.6931602954864502, loss_ad_local 0.7198304533958435\n",
            "loss_clc 3.406224012374878, loss_im 0.0, loss_ad_global 0.6931211948394775, loss_ad_local 0.7200573682785034\n",
            "loss_clc 3.430391311645508, loss_im 0.0, loss_ad_global 0.6931997537612915, loss_ad_local 0.7204936742782593\n",
            "loss_clc 3.429884672164917, loss_im 0.0, loss_ad_global 0.6931040287017822, loss_ad_local 0.7193065285682678\n",
            "loss_clc 3.4171667098999023, loss_im 0.0, loss_ad_global 0.6931702494621277, loss_ad_local 0.7206051349639893\n",
            "loss_clc 3.4048728942871094, loss_im 0.0, loss_ad_global 0.693095326423645, loss_ad_local 0.7189919948577881\n",
            "loss_clc 3.4217944145202637, loss_im 0.0, loss_ad_global 0.6933175325393677, loss_ad_local 0.7223632335662842\n",
            "loss_clc 3.4045252799987793, loss_im 0.0, loss_ad_global 0.6931214332580566, loss_ad_local 0.7214557528495789\n",
            "loss_clc 3.4283647537231445, loss_im 0.0, loss_ad_global 0.6932305097579956, loss_ad_local 0.7202202081680298\n",
            "loss_clc 3.4190523624420166, loss_im 0.0, loss_ad_global 0.6931940913200378, loss_ad_local 0.7201635837554932\n",
            "loss_clc 3.418412923812866, loss_im 0.0, loss_ad_global 0.6931507587432861, loss_ad_local 0.7212706804275513\n",
            "loss_clc 3.421422004699707, loss_im 0.0, loss_ad_global 0.6931259632110596, loss_ad_local 0.7192798852920532\n",
            "loss_clc 3.4304580688476562, loss_im 0.0, loss_ad_global 0.6931666135787964, loss_ad_local 0.7196061015129089\n",
            "loss_clc 3.4274117946624756, loss_im 0.0, loss_ad_global 0.6932424306869507, loss_ad_local 0.7178976535797119\n",
            "loss_clc 3.4208168983459473, loss_im 0.0, loss_ad_global 0.693095326423645, loss_ad_local 0.7209680676460266\n",
            "loss_clc 3.4208946228027344, loss_im 0.0, loss_ad_global 0.6930739879608154, loss_ad_local 0.7203027606010437\n",
            "loss_clc 3.4472949504852295, loss_im 0.0, loss_ad_global 0.6930719614028931, loss_ad_local 0.7204722166061401\n",
            "loss_clc 3.428316593170166, loss_im 0.0, loss_ad_global 0.6931532025337219, loss_ad_local 0.7191877365112305\n",
            "loss_clc 3.4223690032958984, loss_im 0.0, loss_ad_global 0.6930668354034424, loss_ad_local 0.7187771797180176\n",
            "loss_clc 3.418954372406006, loss_im 0.0, loss_ad_global 0.6931496858596802, loss_ad_local 0.7194885611534119\n"
          ]
        },
        {
          "output_type": "stream",
          "name": "stderr",
          "text": [
            "Validating... (loss=3.40695): 100%|| 50/50 [00:07<00:00,  6.82it/s]\n"
          ]
        },
        {
          "output_type": "stream",
          "name": "stdout",
          "text": [
            "loss_clc 3.447458028793335, loss_im 0.0, loss_ad_global 0.6932148933410645, loss_ad_local 0.7205572724342346\n",
            "loss_clc 3.413261890411377, loss_im 0.0, loss_ad_global 0.693123459815979, loss_ad_local 0.7202247381210327\n",
            "loss_clc 3.458590269088745, loss_im 0.0, loss_ad_global 0.6930873394012451, loss_ad_local 0.7215464115142822\n",
            "loss_clc 3.450324058532715, loss_im 0.0, loss_ad_global 0.6931618452072144, loss_ad_local 0.7192971706390381\n",
            "loss_clc 3.435222625732422, loss_im 0.0, loss_ad_global 0.6931302547454834, loss_ad_local 0.7191076278686523\n",
            "loss_clc 3.409395933151245, loss_im 0.0, loss_ad_global 0.693221926689148, loss_ad_local 0.7194498181343079\n",
            "loss_clc 3.426117181777954, loss_im 0.0, loss_ad_global 0.6931492686271667, loss_ad_local 0.7200491428375244\n",
            "loss_clc 3.443356513977051, loss_im 0.0, loss_ad_global 0.6931293606758118, loss_ad_local 0.7185658812522888\n",
            "loss_clc 3.4352004528045654, loss_im 0.0, loss_ad_global 0.693161129951477, loss_ad_local 0.7193993330001831\n",
            "loss_clc 3.4441750049591064, loss_im 0.0, loss_ad_global 0.6931560635566711, loss_ad_local 0.7195997834205627\n",
            "loss_clc 3.436764717102051, loss_im 0.0, loss_ad_global 0.6931877732276917, loss_ad_local 0.7210285663604736\n",
            "loss_clc 3.4564967155456543, loss_im 0.0, loss_ad_global 0.6932355165481567, loss_ad_local 0.719965934753418\n",
            "loss_clc 3.4364447593688965, loss_im 0.0, loss_ad_global 0.6931760311126709, loss_ad_local 0.719206690788269\n",
            "loss_clc 3.4334325790405273, loss_im 0.0, loss_ad_global 0.6931182146072388, loss_ad_local 0.7207916378974915\n",
            "loss_clc 3.408541679382324, loss_im 0.0, loss_ad_global 0.6931583881378174, loss_ad_local 0.7191973924636841\n",
            "loss_clc 3.4142911434173584, loss_im 0.0, loss_ad_global 0.6932619214057922, loss_ad_local 0.719639778137207\n",
            "loss_clc 3.412710428237915, loss_im 0.0, loss_ad_global 0.6931730508804321, loss_ad_local 0.721245527267456\n",
            "loss_clc 3.419585943222046, loss_im 0.0, loss_ad_global 0.6931698322296143, loss_ad_local 0.7202897071838379\n",
            "loss_clc 3.4290671348571777, loss_im 0.0, loss_ad_global 0.6931390166282654, loss_ad_local 0.7192023992538452\n"
          ]
        }
      ]
    },
    {
      "cell_type": "code",
      "source": [
        "from google.colab import files\n",
        "\n",
        "# uploaded = files.upload()\n",
        "\n",
        "import tensorflow as tf\n",
        "\n",
        "# Replace 'path_to_file' with your uploaded file's name\n",
        "event_file = '/content/events.out.tfevents.1735305008.47c8fa70d046.5662.0'\n"
      ],
      "metadata": {
        "id": "tM4hE79mTFv3"
      },
      "execution_count": null,
      "outputs": []
    },
    {
      "cell_type": "code",
      "source": [
        "\n",
        "# Output text file\n",
        "output_txt_file = 'events_parsed.txt'\n",
        "\n",
        "with open(output_txt_file, 'w') as txt_file:\n",
        "    for event in tf.compat.v1.train.summary_iterator(event_file):\n",
        "        txt_file.write(f\"Event timestamp: {event.wall_time}\\n\")\n",
        "        for value in event.summary.value:\n",
        "            txt_file.write(f\"Tag: {value.tag}\\n\")\n",
        "            if value.HasField('simple_value'):\n",
        "                txt_file.write(f\"Value: {value.simple_value}\\n\")\n",
        "        txt_file.write(\"\\n\")\n",
        "\n",
        "# Download the parsed text file\n",
        "from google.colab import files\n",
        "files.download(output_txt_file)"
      ],
      "metadata": {
        "colab": {
          "base_uri": "https://localhost:8080/",
          "height": 17
        },
        "id": "e2mXgnpIcNtY",
        "outputId": "5dac5d1d-d783-42c5-dd42-83627ba00c0a"
      },
      "execution_count": null,
      "outputs": [
        {
          "output_type": "display_data",
          "data": {
            "text/plain": [
              "<IPython.core.display.Javascript object>"
            ],
            "application/javascript": [
              "\n",
              "    async function download(id, filename, size) {\n",
              "      if (!google.colab.kernel.accessAllowed) {\n",
              "        return;\n",
              "      }\n",
              "      const div = document.createElement('div');\n",
              "      const label = document.createElement('label');\n",
              "      label.textContent = `Downloading \"${filename}\": `;\n",
              "      div.appendChild(label);\n",
              "      const progress = document.createElement('progress');\n",
              "      progress.max = size;\n",
              "      div.appendChild(progress);\n",
              "      document.body.appendChild(div);\n",
              "\n",
              "      const buffers = [];\n",
              "      let downloaded = 0;\n",
              "\n",
              "      const channel = await google.colab.kernel.comms.open(id);\n",
              "      // Send a message to notify the kernel that we're ready.\n",
              "      channel.send({})\n",
              "\n",
              "      for await (const message of channel.messages) {\n",
              "        // Send a message to notify the kernel that we're ready.\n",
              "        channel.send({})\n",
              "        if (message.buffers) {\n",
              "          for (const buffer of message.buffers) {\n",
              "            buffers.push(buffer);\n",
              "            downloaded += buffer.byteLength;\n",
              "            progress.value = downloaded;\n",
              "          }\n",
              "        }\n",
              "      }\n",
              "      const blob = new Blob(buffers, {type: 'application/binary'});\n",
              "      const a = document.createElement('a');\n",
              "      a.href = window.URL.createObjectURL(blob);\n",
              "      a.download = filename;\n",
              "      div.appendChild(a);\n",
              "      a.click();\n",
              "      div.remove();\n",
              "    }\n",
              "  "
            ]
          },
          "metadata": {}
        },
        {
          "output_type": "display_data",
          "data": {
            "text/plain": [
              "<IPython.core.display.Javascript object>"
            ],
            "application/javascript": [
              "download(\"download_dace67b8-6c0c-4950-9cfa-0a6fa706ec97\", \"events_parsed.txt\", 572515)"
            ]
          },
          "metadata": {}
        }
      ]
    },
    {
      "cell_type": "code",
      "source": [],
      "metadata": {
        "id": "v9B8W59BdAq-"
      },
      "execution_count": null,
      "outputs": []
    }
  ],
  "metadata": {
    "colab": {
      "collapsed_sections": [
        "k9Y3ne2WE0z1"
      ],
      "provenance": []
    },
    "kernelspec": {
      "display_name": "Python 3",
      "name": "python3"
    },
    "language_info": {
      "name": "python"
    },
    "widgets": {
      "application/vnd.jupyter.widget-state+json": {
        "bfde0c85bf6c4f0aba6a18d2e4eda9ad": {
          "model_module": "@jupyter-widgets/controls",
          "model_name": "HBoxModel",
          "model_module_version": "1.5.0",
          "state": {
            "_dom_classes": [],
            "_model_module": "@jupyter-widgets/controls",
            "_model_module_version": "1.5.0",
            "_model_name": "HBoxModel",
            "_view_count": null,
            "_view_module": "@jupyter-widgets/controls",
            "_view_module_version": "1.5.0",
            "_view_name": "HBoxView",
            "box_style": "",
            "children": [
              "IPY_MODEL_8ca959ba66214ed8a4fe91c50c35e548",
              "IPY_MODEL_3287b2a0b9b5493fbb5f9540a3a3e96d",
              "IPY_MODEL_8ce7272ca74243cc8be149aa04170ee9"
            ],
            "layout": "IPY_MODEL_3e88a1197b40464194d3ed9d663044db"
          }
        },
        "8ca959ba66214ed8a4fe91c50c35e548": {
          "model_module": "@jupyter-widgets/controls",
          "model_name": "HTMLModel",
          "model_module_version": "1.5.0",
          "state": {
            "_dom_classes": [],
            "_model_module": "@jupyter-widgets/controls",
            "_model_module_version": "1.5.0",
            "_model_name": "HTMLModel",
            "_view_count": null,
            "_view_module": "@jupyter-widgets/controls",
            "_view_module_version": "1.5.0",
            "_view_name": "HTMLView",
            "description": "",
            "description_tooltip": null,
            "layout": "IPY_MODEL_3bb8b4d824834b15acfdf0e31e0b8251",
            "placeholder": "​",
            "style": "IPY_MODEL_75b9c2478b9f4624956e0e16ea3ad41c",
            "value": "model.safetensors: 100%"
          }
        },
        "3287b2a0b9b5493fbb5f9540a3a3e96d": {
          "model_module": "@jupyter-widgets/controls",
          "model_name": "FloatProgressModel",
          "model_module_version": "1.5.0",
          "state": {
            "_dom_classes": [],
            "_model_module": "@jupyter-widgets/controls",
            "_model_module_version": "1.5.0",
            "_model_name": "FloatProgressModel",
            "_view_count": null,
            "_view_module": "@jupyter-widgets/controls",
            "_view_module_version": "1.5.0",
            "_view_name": "ProgressView",
            "bar_style": "success",
            "description": "",
            "description_tooltip": null,
            "layout": "IPY_MODEL_f7a71fccecd241f38b53f0df419ef6ea",
            "max": 346284714,
            "min": 0,
            "orientation": "horizontal",
            "style": "IPY_MODEL_f07ee231604f420baf29f0ee9637106d",
            "value": 346284714
          }
        },
        "8ce7272ca74243cc8be149aa04170ee9": {
          "model_module": "@jupyter-widgets/controls",
          "model_name": "HTMLModel",
          "model_module_version": "1.5.0",
          "state": {
            "_dom_classes": [],
            "_model_module": "@jupyter-widgets/controls",
            "_model_module_version": "1.5.0",
            "_model_name": "HTMLModel",
            "_view_count": null,
            "_view_module": "@jupyter-widgets/controls",
            "_view_module_version": "1.5.0",
            "_view_name": "HTMLView",
            "description": "",
            "description_tooltip": null,
            "layout": "IPY_MODEL_f6194df65fae468f94f82b95d0de97a9",
            "placeholder": "​",
            "style": "IPY_MODEL_c530f64abe6b46778a883ce53a424dac",
            "value": " 346M/346M [00:01&lt;00:00, 159MB/s]"
          }
        },
        "3e88a1197b40464194d3ed9d663044db": {
          "model_module": "@jupyter-widgets/base",
          "model_name": "LayoutModel",
          "model_module_version": "1.2.0",
          "state": {
            "_model_module": "@jupyter-widgets/base",
            "_model_module_version": "1.2.0",
            "_model_name": "LayoutModel",
            "_view_count": null,
            "_view_module": "@jupyter-widgets/base",
            "_view_module_version": "1.2.0",
            "_view_name": "LayoutView",
            "align_content": null,
            "align_items": null,
            "align_self": null,
            "border": null,
            "bottom": null,
            "display": null,
            "flex": null,
            "flex_flow": null,
            "grid_area": null,
            "grid_auto_columns": null,
            "grid_auto_flow": null,
            "grid_auto_rows": null,
            "grid_column": null,
            "grid_gap": null,
            "grid_row": null,
            "grid_template_areas": null,
            "grid_template_columns": null,
            "grid_template_rows": null,
            "height": null,
            "justify_content": null,
            "justify_items": null,
            "left": null,
            "margin": null,
            "max_height": null,
            "max_width": null,
            "min_height": null,
            "min_width": null,
            "object_fit": null,
            "object_position": null,
            "order": null,
            "overflow": null,
            "overflow_x": null,
            "overflow_y": null,
            "padding": null,
            "right": null,
            "top": null,
            "visibility": null,
            "width": null
          }
        },
        "3bb8b4d824834b15acfdf0e31e0b8251": {
          "model_module": "@jupyter-widgets/base",
          "model_name": "LayoutModel",
          "model_module_version": "1.2.0",
          "state": {
            "_model_module": "@jupyter-widgets/base",
            "_model_module_version": "1.2.0",
            "_model_name": "LayoutModel",
            "_view_count": null,
            "_view_module": "@jupyter-widgets/base",
            "_view_module_version": "1.2.0",
            "_view_name": "LayoutView",
            "align_content": null,
            "align_items": null,
            "align_self": null,
            "border": null,
            "bottom": null,
            "display": null,
            "flex": null,
            "flex_flow": null,
            "grid_area": null,
            "grid_auto_columns": null,
            "grid_auto_flow": null,
            "grid_auto_rows": null,
            "grid_column": null,
            "grid_gap": null,
            "grid_row": null,
            "grid_template_areas": null,
            "grid_template_columns": null,
            "grid_template_rows": null,
            "height": null,
            "justify_content": null,
            "justify_items": null,
            "left": null,
            "margin": null,
            "max_height": null,
            "max_width": null,
            "min_height": null,
            "min_width": null,
            "object_fit": null,
            "object_position": null,
            "order": null,
            "overflow": null,
            "overflow_x": null,
            "overflow_y": null,
            "padding": null,
            "right": null,
            "top": null,
            "visibility": null,
            "width": null
          }
        },
        "75b9c2478b9f4624956e0e16ea3ad41c": {
          "model_module": "@jupyter-widgets/controls",
          "model_name": "DescriptionStyleModel",
          "model_module_version": "1.5.0",
          "state": {
            "_model_module": "@jupyter-widgets/controls",
            "_model_module_version": "1.5.0",
            "_model_name": "DescriptionStyleModel",
            "_view_count": null,
            "_view_module": "@jupyter-widgets/base",
            "_view_module_version": "1.2.0",
            "_view_name": "StyleView",
            "description_width": ""
          }
        },
        "f7a71fccecd241f38b53f0df419ef6ea": {
          "model_module": "@jupyter-widgets/base",
          "model_name": "LayoutModel",
          "model_module_version": "1.2.0",
          "state": {
            "_model_module": "@jupyter-widgets/base",
            "_model_module_version": "1.2.0",
            "_model_name": "LayoutModel",
            "_view_count": null,
            "_view_module": "@jupyter-widgets/base",
            "_view_module_version": "1.2.0",
            "_view_name": "LayoutView",
            "align_content": null,
            "align_items": null,
            "align_self": null,
            "border": null,
            "bottom": null,
            "display": null,
            "flex": null,
            "flex_flow": null,
            "grid_area": null,
            "grid_auto_columns": null,
            "grid_auto_flow": null,
            "grid_auto_rows": null,
            "grid_column": null,
            "grid_gap": null,
            "grid_row": null,
            "grid_template_areas": null,
            "grid_template_columns": null,
            "grid_template_rows": null,
            "height": null,
            "justify_content": null,
            "justify_items": null,
            "left": null,
            "margin": null,
            "max_height": null,
            "max_width": null,
            "min_height": null,
            "min_width": null,
            "object_fit": null,
            "object_position": null,
            "order": null,
            "overflow": null,
            "overflow_x": null,
            "overflow_y": null,
            "padding": null,
            "right": null,
            "top": null,
            "visibility": null,
            "width": null
          }
        },
        "f07ee231604f420baf29f0ee9637106d": {
          "model_module": "@jupyter-widgets/controls",
          "model_name": "ProgressStyleModel",
          "model_module_version": "1.5.0",
          "state": {
            "_model_module": "@jupyter-widgets/controls",
            "_model_module_version": "1.5.0",
            "_model_name": "ProgressStyleModel",
            "_view_count": null,
            "_view_module": "@jupyter-widgets/base",
            "_view_module_version": "1.2.0",
            "_view_name": "StyleView",
            "bar_color": null,
            "description_width": ""
          }
        },
        "f6194df65fae468f94f82b95d0de97a9": {
          "model_module": "@jupyter-widgets/base",
          "model_name": "LayoutModel",
          "model_module_version": "1.2.0",
          "state": {
            "_model_module": "@jupyter-widgets/base",
            "_model_module_version": "1.2.0",
            "_model_name": "LayoutModel",
            "_view_count": null,
            "_view_module": "@jupyter-widgets/base",
            "_view_module_version": "1.2.0",
            "_view_name": "LayoutView",
            "align_content": null,
            "align_items": null,
            "align_self": null,
            "border": null,
            "bottom": null,
            "display": null,
            "flex": null,
            "flex_flow": null,
            "grid_area": null,
            "grid_auto_columns": null,
            "grid_auto_flow": null,
            "grid_auto_rows": null,
            "grid_column": null,
            "grid_gap": null,
            "grid_row": null,
            "grid_template_areas": null,
            "grid_template_columns": null,
            "grid_template_rows": null,
            "height": null,
            "justify_content": null,
            "justify_items": null,
            "left": null,
            "margin": null,
            "max_height": null,
            "max_width": null,
            "min_height": null,
            "min_width": null,
            "object_fit": null,
            "object_position": null,
            "order": null,
            "overflow": null,
            "overflow_x": null,
            "overflow_y": null,
            "padding": null,
            "right": null,
            "top": null,
            "visibility": null,
            "width": null
          }
        },
        "c530f64abe6b46778a883ce53a424dac": {
          "model_module": "@jupyter-widgets/controls",
          "model_name": "DescriptionStyleModel",
          "model_module_version": "1.5.0",
          "state": {
            "_model_module": "@jupyter-widgets/controls",
            "_model_module_version": "1.5.0",
            "_model_name": "DescriptionStyleModel",
            "_view_count": null,
            "_view_module": "@jupyter-widgets/base",
            "_view_module_version": "1.2.0",
            "_view_name": "StyleView",
            "description_width": ""
          }
        }
      }
    }
  },
  "nbformat": 4,
  "nbformat_minor": 0
}